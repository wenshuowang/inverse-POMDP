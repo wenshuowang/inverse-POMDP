{
 "cells": [
  {
   "cell_type": "code",
   "execution_count": 1,
   "metadata": {},
   "outputs": [],
   "source": [
    "from __future__ import division\n",
    "from boxtask_func import *\n",
    "from MDPclass import *\n",
    "from oneboxCol import *"
   ]
  },
  {
   "cell_type": "code",
   "execution_count": 2,
   "metadata": {},
   "outputs": [],
   "source": [
    "import numpy as np\n",
    "from scipy.stats import binom\n",
    "from scipy.integrate import quad\n",
    "import matplotlib.pyplot as plt\n",
    "\n",
    "from scipy.linalg import toeplitz, expm\n",
    "from scipy import optimize\n",
    "from math import sqrt\n",
    "from scipy.stats import norm"
   ]
  },
  {
   "cell_type": "code",
   "execution_count": 3,
   "metadata": {},
   "outputs": [],
   "source": [
    "import matplotlib as mpl\n",
    "# pdf.fontype and ps.fontype must be set to 42 in order for text in exported figure to be editable in Adobe Illustrator\n",
    "mpl.rcParams['pdf.fonttype'] = 42\n",
    "mpl.rcParams['ps.fonttype'] = 42"
   ]
  },
  {
   "cell_type": "markdown",
   "metadata": {
    "heading_collapsed": true
   },
   "source": [
    "# transition probability"
   ]
  },
  {
   "cell_type": "code",
   "execution_count": 4,
   "metadata": {
    "hidden": true
   },
   "outputs": [],
   "source": [
    "p_appear = 0.2\n",
    "p_disappear = 0.05"
   ]
  },
  {
   "cell_type": "code",
   "execution_count": 5,
   "metadata": {
    "hidden": true
   },
   "outputs": [],
   "source": [
    "nq = 5 # number of belief states per box\n",
    "nr = 2  # number of reward states\n",
    "na = 2"
   ]
  },
  {
   "cell_type": "code",
   "execution_count": 6,
   "metadata": {
    "hidden": true
   },
   "outputs": [
    {
     "ename": "NameError",
     "evalue": "name 'Ncol' is not defined",
     "traceback": [
      "\u001b[0;31m---------------------------------------------------------------------------\u001b[0m",
      "\u001b[0;31mNameError\u001b[0m                                 Traceback (most recent call last)",
      "\u001b[0;32m<ipython-input-6-99d60befe5f1>\u001b[0m in \u001b[0;36m<module>\u001b[0;34m()\u001b[0m\n\u001b[1;32m      1\u001b[0m Trans_state = np.array([[1-p_appear, p_disappear], \n\u001b[1;32m      2\u001b[0m                         [p_appear, 1-p_disappear]])\n\u001b[0;32m----> 3\u001b[0;31m \u001b[0mObs_emis\u001b[0m \u001b[0;34m=\u001b[0m \u001b[0mnp\u001b[0m\u001b[0;34m.\u001b[0m\u001b[0mzeros\u001b[0m\u001b[0;34m(\u001b[0m\u001b[0;34m(\u001b[0m\u001b[0mNcol\u001b[0m \u001b[0;34m+\u001b[0m \u001b[0;36m1\u001b[0m\u001b[0;34m,\u001b[0m \u001b[0;36m2\u001b[0m\u001b[0;34m)\u001b[0m\u001b[0;34m)\u001b[0m    \u001b[0;31m#Observation(color) generation\u001b[0m\u001b[0;34m\u001b[0m\u001b[0m\n\u001b[0m\u001b[1;32m      4\u001b[0m \u001b[0mObs_emis\u001b[0m\u001b[0;34m[\u001b[0m\u001b[0;34m:\u001b[0m\u001b[0;34m,\u001b[0m \u001b[0;36m0\u001b[0m\u001b[0;34m]\u001b[0m \u001b[0;34m=\u001b[0m \u001b[0mbinom\u001b[0m\u001b[0;34m.\u001b[0m\u001b[0mpmf\u001b[0m\u001b[0;34m(\u001b[0m\u001b[0mrange\u001b[0m\u001b[0;34m(\u001b[0m\u001b[0mNcol\u001b[0m \u001b[0;34m+\u001b[0m \u001b[0;36m1\u001b[0m\u001b[0;34m)\u001b[0m\u001b[0;34m,\u001b[0m\u001b[0mNcol\u001b[0m\u001b[0;34m,\u001b[0m\u001b[0mqmax\u001b[0m\u001b[0;34m)\u001b[0m\u001b[0;34m\u001b[0m\u001b[0m\n\u001b[1;32m      5\u001b[0m \u001b[0mObs_emis\u001b[0m\u001b[0;34m[\u001b[0m\u001b[0;34m:\u001b[0m\u001b[0;34m,\u001b[0m \u001b[0;36m1\u001b[0m\u001b[0;34m]\u001b[0m \u001b[0;34m=\u001b[0m \u001b[0mbinom\u001b[0m\u001b[0;34m.\u001b[0m\u001b[0mpmf\u001b[0m\u001b[0;34m(\u001b[0m\u001b[0mrange\u001b[0m\u001b[0;34m(\u001b[0m\u001b[0mNcol\u001b[0m \u001b[0;34m+\u001b[0m \u001b[0;36m1\u001b[0m\u001b[0;34m)\u001b[0m\u001b[0;34m,\u001b[0m\u001b[0mNcol\u001b[0m\u001b[0;34m,\u001b[0m\u001b[0mqmin\u001b[0m\u001b[0;34m)\u001b[0m\u001b[0;34m\u001b[0m\u001b[0m\n",
      "\u001b[0;31mNameError\u001b[0m: name 'Ncol' is not defined"
     ],
     "output_type": "error"
    }
   ],
   "source": [
    "Trans_state = np.array([[1-p_appear, p_disappear], \n",
    "                        [p_appear, 1-p_disappear]])\n",
    "Obs_emis = np.zeros((Ncol + 1, 2))    #Observation(color) generation\n",
    "Obs_emis[:, 0] = binom.pmf(range(Ncol + 1),Ncol,qmax)\n",
    "Obs_emis[:, 1] = binom.pmf(range(Ncol + 1),Ncol,qmin)"
   ]
  },
  {
   "cell_type": "code",
   "execution_count": null,
   "metadata": {
    "hidden": true
   },
   "outputs": [],
   "source": []
  },
  {
   "cell_type": "code",
   "execution_count": null,
   "metadata": {
    "hidden": true
   },
   "outputs": [],
   "source": []
  },
  {
   "cell_type": "code",
   "execution_count": null,
   "metadata": {
    "hidden": true
   },
   "outputs": [],
   "source": [
    "belief_old = np.arange(0, 1, 0.01)\n",
    "N = len(belief_old)\n",
    "\n",
    "beliefupdate = Trans_state.dot(np.array([1-belief_old, belief_old]))\n",
    "belief_new = beliefupdate[1, :]\n",
    "ObsPro = Obs_emis.dot(beliefupdate)\n",
    "belief_new_obs = np.outer(Obs_emis[:, 1], belief_new) / ObsPro"
   ]
  },
  {
   "cell_type": "code",
   "execution_count": null,
   "metadata": {
    "hidden": true
   },
   "outputs": [],
   "source": [
    "def gb(x, k1, k0, p_appear, p_disappear):\n",
    "    a = 1 - p_disappear - p_appear\n",
    "    return (k1*a*x + k1*p_appear)/((k1-k0)*a*x + k1*p_appear + k0*(1-p_appear))"
   ]
  },
  {
   "cell_type": "code",
   "execution_count": null,
   "metadata": {
    "hidden": true
   },
   "outputs": [],
   "source": [
    "def gbinv(y, k1, k0, p_appear, p_disappear):\n",
    "    a = 1 - p_disappear - p_appear\n",
    "    return (y * (k1*p_appear + k0*(1-p_appear)) - k1*p_appear) / (k1*a - y*(k1-k0)*a)"
   ]
  },
  {
   "cell_type": "code",
   "execution_count": null,
   "metadata": {
    "hidden": true
   },
   "outputs": [],
   "source": [
    "dq = 1/nq\n",
    "#a = 1 - p_disappear - p_appear\n",
    "\n",
    "Trans_belief_obs = np.zeros((Ncol + 1, nq,nq))\n",
    "\n",
    "d = np.zeros((Ncol + 1, nq, nq))\n",
    "den = np.zeros((Ncol + 1, nq, nq))\n",
    "xopt = np.zeros((Ncol + 1, nq, nq))\n",
    "height = np.zeros((Ncol + 1, nq, nq))\n",
    "Trans_belief_obs_approx = np.zeros((Ncol + 1, nq,nq))\n",
    "\n",
    "for n in range(Ncol + 1):\n",
    "    k0 = Obs_emis[n, 0]\n",
    "    k1 = Obs_emis[n, 1]\n",
    "    \n",
    "    for i in range(nq):\n",
    "        for j in range(nq):\n",
    "            xmin = dq*i\n",
    "            xmax = dq*(i+1)\n",
    "            ymin = dq*j\n",
    "            ymax = dq*(j+1)\n",
    "            \n",
    "            bl = max(gbinv(ymin, k1, k0, p_appear, p_disappear), xmin)\n",
    "            br = min(gbinv(ymax, k1, k0, p_appear, p_disappear), xmax)\n",
    "            \n",
    "            if bl > br:\n",
    "                Trans_belief_obs[n, j, i] = 0\n",
    "            else:\n",
    "                Trans_belief_obs[n, j, i] = quad(lambda x: Obs_emis[n, :].dot(Trans_state).dot(np.array([1-x, x])), \n",
    "                                           bl, br)[0]\n",
    "            \n",
    "            \n",
    "            # Approximate the probability with Gaussian approxiamtion\n",
    "            q = i * dq + dq / 2\n",
    "            qq = j * dq + dq / 2\n",
    "            \n",
    "            def dist(x):\n",
    "                return sqrt((q - x)** 2 + (qq - gb(x, k1, k0, p_appear, p_disappear))**2)\n",
    "            \n",
    "            xopt[n, j, i], d[n, j, i] = optimize.fminbound(dist,0, 1, full_output=1)[0:2]\n",
    "            den[n, j, i] = norm.pdf(d[n, j, i], 0, 1/nq/3)\n",
    "            height[n, j, i] = Obs_emis[n, :].dot(Trans_state).dot(np.array([1-xopt[n, j, i], xopt[n, j, i]]))\n",
    "\n",
    "    den[n] = den[n] / np.tile(np.sum(den[n], 0), (nq, 1))\n",
    "    Trans_belief_obs_approx[n] = np.multiply(den[n], height[n])\n",
    "            "
   ]
  },
  {
   "cell_type": "code",
   "execution_count": null,
   "metadata": {
    "hidden": true
   },
   "outputs": [],
   "source": []
  },
  {
   "cell_type": "code",
   "execution_count": null,
   "metadata": {
    "hidden": true
   },
   "outputs": [],
   "source": [
    "Trans_belief = np.sum(Trans_belief_obs, axis = 0)\n",
    "Trans_belief = Trans_belief / np.tile(np.sum(Trans_belief, 0), (nq, 1))\n",
    "\n",
    "nt = 20\n",
    "d = 0.1 / nt\n",
    "dD = toeplitz(np.insert(np.zeros(nq - 2), 0, np.array([-2 * d, d])))\n",
    "dD[1, 0] = 2 * d\n",
    "dD[-2, -1] = 2 * d\n",
    "D = expm(dD * nt)\n",
    "D = D / np.tile(np.sum(D, 0), (nq, 1))\n",
    "Trans_belief1 = np.dot(D, Trans_belief)\n",
    "\n",
    "Trans_belief_approx = np.sum(Trans_belief_obs_approx, axis = 0)\n",
    "Trans_belief_approx = Trans_belief_approx / np.tile(np.sum(Trans_belief_approx, 0), (nq, 1))"
   ]
  },
  {
   "cell_type": "code",
   "execution_count": null,
   "metadata": {
    "hidden": true
   },
   "outputs": [],
   "source": [
    "fig, ax = plt.subplots(figsize = (6,6))\n",
    "plt.plot(belief_old, belief_new, '-*')\n",
    "for i in range(Ncol):\n",
    "    plt.plot(belief_old, belief_new_obs[i, :])\n",
    "    plt.plot(belief_old, ObsPro[i, :], '--')\n",
    "ax.set_ylim([0,1.1])\n",
    "ax.set_xlim([0,1.1])\n",
    "ax.xaxis.set_ticks(np.arange(0, 1.1, 1/nq))\n",
    "ax.yaxis.set_ticks(np.arange(0, 1.1, 1/nq))\n",
    "plt.grid()\n",
    "plt.gca().invert_yaxis()\n",
    "plt.show()"
   ]
  },
  {
   "cell_type": "code",
   "execution_count": null,
   "metadata": {
    "hidden": true
   },
   "outputs": [],
   "source": [
    "from mpl_toolkits.axes_grid1 import make_axes_locatable\n",
    "\n",
    "\n",
    "fig = plt.figure(figsize = (15, 60))\n",
    "#fig.subplots_adjust(wspace=0,hspace=0)\n",
    "\n",
    "ax1 = fig.add_subplot(1,3,1)\n",
    "im1 = ax1.imshow(Trans_belief, vmin=0, vmax=1, cmap='jet')\n",
    "divider = make_axes_locatable(ax1)\n",
    "cax = divider.append_axes('right', size='5%', pad=0.1)\n",
    "fig.colorbar(im1, cax=cax, orientation='vertical')\n",
    "\n",
    "ax2 = fig.add_subplot(1,3,2)\n",
    "im2 = ax2.imshow(Trans_belief1, vmin=0, vmax=1, cmap='jet')\n",
    "divider = make_axes_locatable(ax2)\n",
    "cax = divider.append_axes('right', size='5%', pad=0.1)\n",
    "fig.colorbar(im2, cax=cax, orientation='vertical')\n",
    "\n",
    "\n",
    "ax3 = fig.add_subplot(1,3,3)\n",
    "im3 = ax3.imshow(Trans_belief_approx, vmin=0, vmax=1, cmap='jet')\n",
    "divider = make_axes_locatable(ax3)\n",
    "cax = divider.append_axes('right', size='5%', pad=0.1)\n",
    "fig.colorbar(im3, cax=cax, orientation='vertical')\n",
    "\n",
    "plt.show()"
   ]
  },
  {
   "cell_type": "markdown",
   "metadata": {},
   "source": [
    "# One box MDP"
   ]
  },
  {
   "cell_type": "code",
   "execution_count": 7,
   "metadata": {},
   "outputs": [],
   "source": [
    "nq = 5\n",
    "nr = 2\n",
    "na = 2\n",
    "discount = 0.99"
   ]
  },
  {
   "cell_type": "code",
   "execution_count": 8,
   "metadata": {},
   "outputs": [],
   "source": [
    "beta = 0   # available food dropped back into box after button press\n",
    "gamma = 0.3    # reward becomes available\n",
    "epsilon = 0.1   # available food disappears\n",
    "rho = 1    # food in mouth is consumed\n",
    "pushButtonCost = 0.6\n",
    "Reward = 1\n",
    "NumCol = 4\n",
    "qmin = 0.4\n",
    "qmax = 0.6\n",
    "Ncol = NumCol - 1\n",
    "\n",
    "parameters = [beta, gamma, epsilon, rho, pushButtonCost, \n",
    "              NumCol, qmin, qmax]\n"
   ]
  },
  {
   "cell_type": "code",
   "execution_count": 9,
   "metadata": {},
   "outputs": [],
   "source": [
    "oneboxCol = oneboxColMDP(discount, nq, nr, na, parameters)"
   ]
  },
  {
   "cell_type": "code",
   "execution_count": 10,
   "metadata": {},
   "outputs": [
    {
     "data": {
      "text/plain": [
       "array([[0.98539364, 0.94643441, 0.76502045, 0.46617012, 0.23358727,\n",
       "        0.98539364, 0.94643441, 0.76502045, 0.46617012, 0.23358727],\n",
       "       [0.01460636, 0.05356559, 0.23497955, 0.53382988, 0.76641273,\n",
       "        0.01460636, 0.05356559, 0.23497955, 0.53382988, 0.76641273]])"
      ]
     },
     "execution_count": 10,
     "metadata": {},
     "output_type": "execute_result"
    }
   ],
   "source": [
    "oneboxCol.setupMDP()\n",
    "oneboxCol.solveMDP_sfm()\n",
    "oneboxCol.softpolicy"
   ]
  },
  {
   "cell_type": "markdown",
   "metadata": {},
   "source": [
    "# Generate data"
   ]
  },
  {
   "cell_type": "code",
   "execution_count": 11,
   "metadata": {},
   "outputs": [],
   "source": [
    "T = 1000\n",
    "N = 2\n",
    "hiddenInitial = 0\n",
    "obsInitial = 0"
   ]
  },
  {
   "cell_type": "code",
   "execution_count": 12,
   "metadata": {},
   "outputs": [],
   "source": [
    "oneboxColdata = oneboxColMDPdata(discount, nq, nr, na, parameters, T, N)\n",
    "oneboxColdata.dataGenerate_sfm(hiddenInitial, obsInitial)   #softmax policy\n",
    "\n",
    "belief = oneboxColdata.belief\n",
    "action = oneboxColdata.action\n",
    "reward = oneboxColdata.reward\n",
    "hybrid = oneboxColdata.hybrid\n",
    "trueState = oneboxColdata.trueState\n",
    "color = oneboxColdata.color"
   ]
  },
  {
   "cell_type": "code",
   "execution_count": 13,
   "metadata": {},
   "outputs": [],
   "source": [
    "obsN = np.dstack([action, reward, color])\n",
    "latN = belief.copy()"
   ]
  },
  {
   "cell_type": "code",
   "execution_count": null,
   "metadata": {},
   "outputs": [],
   "source": []
  },
  {
   "cell_type": "code",
   "execution_count": null,
   "metadata": {},
   "outputs": [],
   "source": []
  },
  {
   "cell_type": "markdown",
   "metadata": {
    "heading_collapsed": true
   },
   "source": [
    "## Store data"
   ]
  },
  {
   "cell_type": "code",
   "execution_count": null,
   "metadata": {
    "hidden": true
   },
   "outputs": [],
   "source": [
    "from datetime import datetime\n",
    "import pickle"
   ]
  },
  {
   "cell_type": "code",
   "execution_count": null,
   "metadata": {
    "hidden": true
   },
   "outputs": [],
   "source": []
  },
  {
   "cell_type": "code",
   "execution_count": null,
   "metadata": {
    "hidden": true
   },
   "outputs": [],
   "source": [
    "# # sampleNum * sampleTime * dim of observations(=3 here, action, reward, location)\n",
    "# # organize data\n",
    "\n",
    "# datestring = datetime.strftime(datetime.now(), '%m%d%Y(%H%M)')\n",
    "\n",
    "# obsN = np.dstack([action, reward, color])  # includes the action and the observable states\n",
    "# latN = np.dstack([belief])\n",
    "# truthN = np.dstack([trueState])\n",
    "# dataN = np.dstack([obsN, latN, truthN])\n",
    "\n",
    "# ### write data to file\n",
    "# data_dict = {'observations': obsN,\n",
    "#              'beliefs': latN,\n",
    "#              'trueStates': truthN,\n",
    "#              'allData': dataN}\n",
    "# data_output = open(datestring + '_dataN_twobox' + '.pkl', 'wb')\n",
    "# pickle.dump(data_dict, data_output)\n",
    "# data_output.close()\n",
    "\n",
    "# ### write all model parameters to file\n",
    "# para_dict = {'discount': discount,\n",
    "#              'nq': nq,\n",
    "#              'nr': nr,\n",
    "#              'na': na,\n",
    "#              'foodDrop': beta,\n",
    "#              'appRate': gamma,\n",
    "#              'disappRate': epsilon,\n",
    "#              'consume': rho,\n",
    "#              'reward': Reward,\n",
    "#              'pushButtonCost': pushButtonCost\n",
    "#              }\n",
    "# para_output = open(datestring + '_para_twobox' + '.pkl', 'wb')\n",
    "# pickle.dump(para_dict, para_output)\n",
    "# para_output.close()\n",
    "\n",
    "# pkl_file1 = open(datestring + '_para_twobox' + '.pkl', 'rb')\n",
    "# para_pkl = pickle.load(pkl_file1)\n",
    "# pkl_file1.close()\n",
    "# #print(para_pkl['disappRate2'])\n",
    "\n",
    "# print('Data stored in files' )"
   ]
  },
  {
   "cell_type": "markdown",
   "metadata": {
    "heading_collapsed": true
   },
   "source": [
    "## retrieve data"
   ]
  },
  {
   "cell_type": "code",
   "execution_count": null,
   "metadata": {
    "hidden": true
   },
   "outputs": [],
   "source": [
    "import os\n",
    "path = os.getcwd()"
   ]
  },
  {
   "cell_type": "code",
   "execution_count": null,
   "metadata": {
    "hidden": true
   },
   "outputs": [],
   "source": [
    "pkl_file = open(path + '/11152018(1102)_dataN_twobox.pkl', 'rb')\n",
    "pkl_file1 = open(path + '/11152018(1102)_para_twobox.pkl', 'rb')"
   ]
  },
  {
   "cell_type": "code",
   "execution_count": null,
   "metadata": {
    "hidden": true
   },
   "outputs": [],
   "source": [
    "para_pkl = pickle.load(pkl_file1)\n",
    "pkl_file1.close()\n",
    "para_pkl.keys()"
   ]
  },
  {
   "cell_type": "code",
   "execution_count": null,
   "metadata": {
    "hidden": true
   },
   "outputs": [],
   "source": [
    "discount = para_pkl['discount']\n",
    "nq = para_pkl['nq']\n",
    "nr = para_pkl['nr']\n",
    "na = para_pkl['na']\n",
    "beta = para_pkl['foodDrop']\n",
    "gamma = para_pkl['appRate']\n",
    "epsilon = para_pkl['disappRate']\n",
    "rho = para_pkl['consume']\n",
    "Reward = para_pkl['reward']\n",
    "pushButtonCost = para_pkl['pushButtonCost']"
   ]
  },
  {
   "cell_type": "code",
   "execution_count": null,
   "metadata": {
    "hidden": true
   },
   "outputs": [],
   "source": []
  },
  {
   "cell_type": "code",
   "execution_count": null,
   "metadata": {
    "hidden": true
   },
   "outputs": [],
   "source": [
    "print(\"Get data from file...\")\n",
    "dataN_pkl = pickle.load(pkl_file)\n",
    "pkl_file.close()\n",
    "\n",
    "obsN = dataN_pkl['observations']\n",
    "latN = dataN_pkl['beliefs']\n",
    "truthN = dataN_pkl['trueStates']\n",
    "dataN = dataN_pkl['allData']"
   ]
  },
  {
   "cell_type": "code",
   "execution_count": null,
   "metadata": {
    "hidden": true
   },
   "outputs": [],
   "source": [
    "obs = obsN[0]\n",
    "lat = latN[0]"
   ]
  },
  {
   "cell_type": "code",
   "execution_count": null,
   "metadata": {
    "hidden": true
   },
   "outputs": [],
   "source": [
    "T = np.shape(obsN)[1]\n",
    "\n",
    "action, reward, color = obsN[0:, :, 0], obsN[0:, :, 1], obsN[0:, :, 2]\n",
    "belief = latN[:, :, 0]\n",
    "trueState = truthN[:, :, 0]\n",
    "\n",
    "hybrid = reward * nq + belief"
   ]
  },
  {
   "cell_type": "markdown",
   "metadata": {},
   "source": [
    "## show data"
   ]
  },
  {
   "cell_type": "code",
   "execution_count": 14,
   "metadata": {},
   "outputs": [
    {
     "data": {
      "image/png": "[encoded data removed]",
      "text/plain": [
       "<Figure size 1440x576 with 5 Axes>"
      ]
     },
     "metadata": {},
     "output_type": "display_data"
    }
   ],
   "source": [
    "showTime = 20\n",
    "\n",
    "data_true = np.reshape(trueState[0, 0:showTime], showTime)\n",
    "data_action = np.reshape(action[0, 0:showTime], showTime)\n",
    "data_reward = np.reshape(reward[0, 0:showTime], showTime)\n",
    "data_belief = np.reshape((belief[0, 0:showTime] + 1 / 2) / float(nq), showTime)\n",
    "data_hybrid = np.reshape(hybrid[0, 0:showTime], showTime)\n",
    "data_color = np.reshape(color[0, 0:showTime], showTime)\n",
    "\n",
    "# colorvalue = qmin + (qmax - qmin) / Ncol * data_color\n",
    "# colorvalue.reshape((1, colorvalue.shape[0]))\n",
    "# colormapR = (qmax - colorvalue) / (qmax - qmin) * 255\n",
    "# colormapG = np.zeros(np.shape(colorvalue))\n",
    "# colormapB = (colorvalue - qmin) / (qmax - qmin) * 255\n",
    "colormapR = (Ncol - data_color)* 255 / Ncol\n",
    "colormapG = np.zeros(np.shape(data_color))\n",
    "colormapB = data_color * 255 / Ncol\n",
    "colorimage = np.dstack((colormapR, colormapG, colormapB))\n",
    "colorImageShow = np.array(colorimage, dtype=np.uint8)\n",
    "\n",
    "actiontemp = data_action * (1 * (data_action % pb == 0)) / pb\n",
    "\n",
    "time = np.arange(0, showTime, 1)\n",
    "\n",
    "#if sampleTime < 1000:\n",
    "fig = plt.figure(figsize=(20, 8))\n",
    "ax1 = fig.add_subplot(411)\n",
    "ax3 = fig.add_subplot(412)\n",
    "ax4 = fig.add_subplot(413)\n",
    "ax5 = fig.add_subplot(414)\n",
    "\n",
    "ax1.plot(time, actiontemp, 'b*', label='action')\n",
    "ax1.legend(loc=1)\n",
    "ax1.set_xticks(np.arange(0, showTime, 5))\n",
    "ax1.set_xticks(np.arange(0, showTime, 1), minor=True)\n",
    "ax1.set_yticks(np.arange(0, 3, 1))\n",
    "a = ax1.get_yticks().tolist()\n",
    "a[0] = 'NA'\n",
    "a[1] = 'pb'\n",
    "ax1.set_yticklabels(a)\n",
    "ax1.set_yticks(ax1.get_yticks()[0:2])\n",
    "ax1.set_xlim(-1, showTime)\n",
    "ax1.grid(which='minor', alpha=0.5)\n",
    "ax1.grid(which='major', alpha=0.7)\n",
    "ax1.set_ylabel('action')\n",
    "\n",
    "ax2 = ax1.twinx()\n",
    "ax2.plot(time, data_reward, 'g', label='reward')\n",
    "ax2.legend(loc=1)\n",
    "ax2.set_xticks(np.arange(0, showTime, 5))\n",
    "ax2.set_xticks(np.arange(0, showTime, 1), minor=True)\n",
    "ax2.set_yticks(np.arange(0, 3, 1))\n",
    "ax2.grid(which='minor', alpha=0.5)\n",
    "ax2.grid(which='major', alpha=0.7)\n",
    "\n",
    "ax3.plot(time, data_true, 'c', label='trueState')\n",
    "ax3.set_xlim(-1, showTime)\n",
    "ax3.legend(loc=1)\n",
    "ax3.set_xticks(np.arange(0, showTime, 5))\n",
    "ax3.set_xticks(np.arange(0, showTime, 1), minor=True)\n",
    "ax3.set_yticks(np.arange(0, 1.2))\n",
    "ax3.grid(which='minor', alpha=0.5)\n",
    "ax3.grid(which='major', alpha=0.7)\n",
    "\n",
    "ax4.imshow(colorImageShow, interpolation='none')\n",
    "#ax4.legend(loc=1)\n",
    "ax4.set_xlim(-1, showTime)\n",
    "ax4.set_xticks(np.arange(0, showTime, 5))\n",
    "ax4.set_xticks(np.arange(0, showTime, 1), minor=True)\n",
    "#ax4.set_yticks(np.arange(0, Ncol + 1))\n",
    "ax4.grid(which='minor', alpha=0.5)\n",
    "ax4.grid(which='major', alpha=0.7)\n",
    "\n",
    "ax5.plot(time, data_belief, 'm', label='belief')\n",
    "ax5.set_xlim(-1, showTime)\n",
    "ax5.legend(loc=1)\n",
    "ax5.set_xticks(np.arange(0, showTime, 5))\n",
    "ax5.set_xticks(np.arange(0, showTime, 1), minor=True)\n",
    "ax5.set_yticks(np.arange(0, 1, 2 * 1 / float(nq)))\n",
    "ax5.set_yticks(np.arange(0, 1, 1 / float(nq)), minor=True)\n",
    "ax5.grid(which='minor', alpha=0.5)\n",
    "ax5.grid(which='major', alpha=0.7)\n",
    "ax5.set_ylabel('belief')\n",
    "\n",
    "plt.show()"
   ]
  },
  {
   "cell_type": "code",
   "execution_count": null,
   "metadata": {},
   "outputs": [],
   "source": []
  },
  {
   "cell_type": "code",
   "execution_count": null,
   "metadata": {},
   "outputs": [],
   "source": []
  },
  {
   "cell_type": "markdown",
   "metadata": {},
   "source": [
    "# Inference"
   ]
  },
  {
   "cell_type": "code",
   "execution_count": 15,
   "metadata": {},
   "outputs": [],
   "source": [
    "from oneboxCol import *\n",
    "from HMMoneboxCol import *"
   ]
  },
  {
   "cell_type": "code",
   "execution_count": 16,
   "metadata": {},
   "outputs": [
    {
     "data": {
      "text/plain": [
       "[0, 0.3, 0.1, 1, 0.6, 4, 0.4, 0.6]"
      ]
     },
     "execution_count": 16,
     "metadata": {},
     "output_type": "execute_result"
    }
   ],
   "source": [
    "#parameters = [0, gamma, epsilon, 1, pushButtonCost, 4, 0.4, 0.6]\n",
    "parameters = [beta, gamma, epsilon, rho, pushButtonCost, NumCol, qmin, qmax]\n",
    "parameters"
   ]
  },
  {
   "cell_type": "code",
   "execution_count": 17,
   "metadata": {},
   "outputs": [],
   "source": [
    "obs = obsN[0]\n",
    "lat = latN[0]"
   ]
  },
  {
   "cell_type": "code",
   "execution_count": 18,
   "metadata": {},
   "outputs": [
    {
     "name": "stdout",
     "output_type": "stream",
     "text": [
      "The true paramters are:                [0, 0.3, 0.1, 1, 0.6, 4, 0.4, 0.6]\n",
      "The initial estimation parameters are: [0, 0.5, 0.3, 1, 0.3, 4, 0.1, 0.8]\n",
      "Now starting with some initialized value of the parameters, we are going to use EM(G) algorithm for parameter estimation:\n"
     ]
    }
   ],
   "source": [
    "beta_ini = 0\n",
    "gamma_ini = 0.5\n",
    "epsilon_ini = 0.3\n",
    "rho_ini = 1\n",
    "pushButtonCost_ini = 0.3\n",
    "NumCol_ini = NumCol\n",
    "qmin_ini = 0.1\n",
    "qmax_ini = 0.8\n",
    "\n",
    "parameters_ini = [beta_ini, gamma_ini, epsilon_ini, rho_ini, pushButtonCost_ini, \n",
    "                  NumCol_ini, qmin_ini, qmax_ini]\n",
    "parameters_old = np.copy(parameters_ini)\n",
    "\n",
    "print(\"The true paramters are:               \", parameters )\n",
    "print(\"The initial estimation parameters are:\", parameters_ini) \n",
    "print (\"Now starting with some initialized value of the parameters, we are going to use EM(G) \" \\\n",
    "\"algorithm for parameter estimation:\")"
   ]
  },
  {
   "cell_type": "code",
   "execution_count": 19,
   "metadata": {},
   "outputs": [
    {
     "name": "stdout",
     "output_type": "stream",
     "text": [
      "\n",
      "The 0 -th iteration of the EM(G) algorithm\n",
      "[0.  0.5 0.3 1.  0.3 4.  0.1 0.8]\n",
      "-3548.11498845699\n",
      "-3453.2526599721364\n",
      "\n",
      " M-step \n",
      "[0.  0.5 0.3 1.  0.3 4.  0.1 0.8]\n",
      "-3548.11498845699\n",
      "-3453.2526599721364\n",
      "[0.         0.31867294 0.25972978 1.         0.53469595 4.\n",
      " 0.20331786 0.81592455]\n",
      "-2293.430497137579\n",
      "-2198.5681686527255\n",
      "[0.         0.30964681 0.28603071 1.         0.53708316 4.\n",
      " 0.14216885 0.77267893]\n",
      "-2071.509045925723\n",
      "-1976.6467174408692\n",
      "[0.         0.33435588 0.28567194 1.         0.53716903 4.\n",
      " 0.16765359 0.81516595]\n",
      "-2032.354014548442\n",
      "-1937.491686063588\n",
      "[0.         0.33226099 0.29675258 1.         0.53862381 4.\n",
      " 0.1416003  0.79792114]\n",
      "-1901.0542657437927\n",
      "-1806.1919372589389\n",
      "[0.         0.33700984 0.30117155 1.         0.53955936 4.\n",
      " 0.14054815 0.79880576]\n",
      "-1892.6647489113561\n",
      "-1797.8024204265023\n",
      "[0.         0.34109387 0.30531413 1.         0.54054636 4.\n",
      " 0.13985885 0.79855721]\n",
      "-1885.884453638632\n",
      "-1791.0221251537782\n",
      "[0.         0.34491673 0.30912296 1.         0.54155922 4.\n",
      " 0.13991206 0.79815444]\n",
      "-1879.9989646201564\n",
      "-1785.1366361353025\n",
      "[0.         0.34843872 0.31273118 1.         0.54258662 4.\n",
      " 0.14017669 0.79744486]\n",
      "-1874.7199042848686\n",
      "-1779.8575758000147\n",
      "[0.         0.35175617 0.31614108 1.         0.54361656 4.\n",
      " 0.14066552 0.79665661]\n",
      "-1869.9186387064312\n",
      "-1775.0563102215774\n",
      "[0.         0.3548868  0.31938414 1.         0.5446409  4.\n",
      " 0.14125692 0.79581057]\n",
      "-1865.52943707262\n",
      "-1770.6671085877663\n",
      "[0.         0.3578581  0.32246994 1.         0.5456529  4.\n",
      " 0.14191635 0.79496088]\n",
      "-1861.5121709272207\n",
      "-1766.649842442367\n",
      "[0.         0.36068477 0.32541462 1.         0.54664737 4.\n",
      " 0.14258789 0.79412577]\n",
      "-1857.8362038787009\n",
      "-1762.973875393847\n",
      "[0.         0.36338407 0.32820827 1.         0.54762016 4.\n",
      " 0.14330713 0.79334036]\n",
      "-1854.4784591242803\n",
      "-1759.6161306394265\n",
      "[0.         0.36595654 0.33087201 1.         0.54856809 4.\n",
      " 0.14400458 0.79258327]\n",
      "-1851.4148238660537\n",
      "-1756.5524953811998\n",
      "[0.         0.36841629 0.333405   1.         0.54948846 4.\n",
      " 0.14469111 0.7918783 ]\n",
      "-1848.6240299654305\n",
      "-1753.7617014805767\n",
      "[0.         0.37076899 0.33581293 1.         0.55037936 4.\n",
      " 0.14535665 0.79122361]\n",
      "-1846.0846819539984\n",
      "-1751.2223534691445\n",
      "[0.         0.37302077 0.33810005 1.         0.55123938 4.\n",
      " 0.14599737 0.79061982]\n",
      "-1843.7767053430716\n",
      "-1748.9143768582178\n",
      "[0.         0.37517701 0.34027077 1.         0.55206754 4.\n",
      " 0.14661063 0.79006557]\n",
      "-1841.6813921886746\n",
      "-1746.8190637038208\n",
      "[0.         0.37724263 0.34232951 1.         0.55286326 4.\n",
      " 0.14719494 0.78955868]\n",
      "-1839.7803670563362\n",
      "-1744.9180385714824\n",
      "[0.         0.37922268 0.3442845  1.         0.5536263  4.\n",
      " 0.1477397  0.78909517]\n",
      "-1838.0561670142952\n",
      "-1743.1938385294413\n",
      "[0.         0.38112279 0.34612986 1.         0.55435671 4.\n",
      " 0.14827572 0.78868073]\n",
      "-1836.4935061258122\n",
      "-1741.6311776409584\n",
      "[0.         0.38294196 0.34787992 1.         0.55505492 4.\n",
      " 0.14876934 0.78829647]\n",
      "-1835.078464862408\n",
      "-1740.2161363775542\n",
      "[0.         0.38468952 0.34953347 1.         0.55572136 4.\n",
      " 0.14924175 0.78795952]\n",
      "-1833.7964022363092\n",
      "-1738.9340737514553\n",
      "[0.         0.38636245 0.35110077 1.         0.55635685 4.\n",
      " 0.14967344 0.7876385 ]\n",
      "-1832.635556068519\n",
      "-1737.7732275836652\n",
      "[0.         0.38797116 0.35257906 1.         0.5569621  4.\n",
      " 0.15008792 0.78735732]\n",
      "-1831.583679105689\n",
      "-1736.7213506208352\n",
      "[0.         0.3895138  0.35397652 1.         0.55753828 4.\n",
      " 0.15047263 0.78709849]\n",
      "-1830.631454541322\n",
      "-1735.7691260564682\n",
      "[0.         0.39099547 0.35529535 1.         0.55808641 4.\n",
      " 0.15083457 0.78686598]\n",
      "-1829.7687365956963\n",
      "-1734.9064081108424\n",
      "[0.         0.39241782 0.35654021 1.         0.55860771 4.\n",
      " 0.15117213 0.78665432]\n",
      "-1828.9873249258171\n",
      "-1734.1249964409633\n",
      "[0.         0.39378401 0.35771437 1.         0.55910338 4.\n",
      " 0.15148787 0.78646302]\n",
      "-1828.2791021015303\n",
      "-1733.4167736166764\n",
      "[0.         0.39509621 0.35882163 1.         0.55957469 4.\n",
      " 0.15178212 0.78628934]\n",
      "-1827.637363366\n",
      "-1732.7750348811462\n",
      "[0.         0.39635719 0.35986523 1.         0.56002288 4.\n",
      " 0.15205786 0.78613176]\n",
      "-1827.055362042408\n",
      "-1732.1930335575541\n",
      "[0.         0.39756869 0.36084886 1.         0.56044924 4.\n",
      " 0.15231452 0.78598763]\n",
      "-1826.52767059911\n",
      "-1731.6653421142562\n",
      "[0.         0.39873236 0.36177547 1.         0.560855   4.\n",
      " 0.15255216 0.78585547]\n",
      "-1826.0491002346598\n",
      "-1731.186771749806\n",
      "[0.         0.39985053 0.36264762 1.         0.56124136 4.\n",
      " 0.1527737  0.78573461]\n",
      "-1825.6148399056008\n",
      "-1730.752511420747\n",
      "[0.         0.40092493 0.36346843 1.         0.56160951 4.\n",
      " 0.1529793  0.78562335]\n",
      "-1825.2206254870318\n",
      "-1730.358297002178\n",
      "[0.         0.40196829 0.36423931 1.         0.56196057 4.\n",
      " 0.15318033 0.78554604]\n",
      "-1824.8609032797594\n",
      "-1729.9985747949056\n",
      "[0.         0.40295395 0.36497181 1.         0.56229609 4.\n",
      " 0.153336   0.78543155]\n",
      "-1824.5366951153708\n",
      "-1729.674366630517\n",
      "[0.         0.40390759 0.3656513  1.         0.56261615 4.\n",
      " 0.15350754 0.78534491]\n",
      "-1824.2416243157745\n",
      "-1729.3792958309207\n",
      "[0.         0.40482361 0.36629124 1.         0.56292235 4.\n",
      " 0.15366282 0.78526069]\n",
      "-1823.9733297811065\n",
      "-1729.1110012962527\n",
      "[0.         0.40570364 0.36689215 1.         0.56321551 4.\n",
      " 0.15380491 0.78518133]\n",
      "-1823.7295217663168\n",
      "-1728.867193281463\n",
      "[0.         0.40654949 0.36745554 1.         0.56349651 4.\n",
      " 0.15393657 0.78510714]\n",
      "-1823.5078260075466\n",
      "-1728.6454975226927\n",
      "[0.         0.40736243 0.36798354 1.         0.56376617 4.\n",
      " 0.15405819 0.78503713]\n",
      "-1823.3061676059042\n",
      "-1728.4438391210504\n",
      "[0.         0.4081453  0.36847627 1.         0.56402526 4.\n",
      " 0.15417294 0.78497837]\n",
      "-1823.1225188930098\n",
      "-1728.260190408156\n",
      "[0.         0.4088948  0.36894109 1.         0.56427464 4.\n",
      " 0.15427078 0.78490954]\n",
      "-1822.9555567786338\n",
      "-1728.09322829378\n",
      "[0.         0.40961621 0.36937333 1.         0.56451469 4.\n",
      " 0.15436667 0.78484815]\n",
      "-1822.8033842859804\n",
      "-1727.9410558011266\n",
      "[0.         0.41030959 0.36977703 1.         0.56474619 4.\n",
      " 0.15445601 0.78478809]\n",
      "-1822.6648654861315\n",
      "-1727.8025370012776\n",
      "[0.         0.41097718 0.37015363 1.         0.56496972 4.\n",
      " 0.15453852 0.78473289]\n",
      "-1822.538310007399\n",
      "-1727.6759815225453\n",
      "[0.         0.41161864 0.37050526 1.         0.56518586 4.\n",
      " 0.15461233 0.78467823]\n",
      "-1822.422879914758\n",
      "-1727.560551429904\n",
      "[0.         0.41223567 0.37083246 1.         0.56539505 4.\n",
      " 0.15468022 0.78462602]\n",
      "-1822.3175608417632\n",
      "-1727.4552323569094\n",
      "[0.         0.41283089 0.37113656 1.         0.56559778 4.\n",
      " 0.15474403 0.78457924]\n",
      "-1822.221082282747\n",
      "-1727.358753797893\n",
      "[0.         0.41340139 0.37142031 1.         0.56579454 4.\n",
      " 0.15479786 0.7845278 ]\n",
      "-1822.133245103584\n",
      "-1727.27091661873\n",
      "[0.         0.41395108 0.37168237 1.         0.56598556 4.\n",
      " 0.15484953 0.7844804 ]\n",
      "-1822.0527461225277\n",
      "-1727.1904176376738\n",
      "[0.         0.41447604 0.37192564 1.         0.5661713  4.\n",
      " 0.15489147 0.78442506]\n",
      "-1821.9793261367472\n",
      "-1727.1169976518934\n",
      "[0.         0.41498359 0.37214775 1.         0.56635188 4.\n",
      " 0.15493616 0.78437903]\n",
      "-1821.9120316714568\n",
      "-1727.049703186603\n",
      "[0.         0.41547196 0.37235329 1.         0.56652784 4.\n",
      " 0.15497444 0.78433269]\n",
      "-1821.8502858730421\n",
      "-1726.9879573881883\n",
      "[0.         0.415942   0.37254242 1.         0.56669942 4.\n",
      " 0.15500829 0.78428679]\n",
      "-1821.793605876092\n",
      "-1726.9312773912382\n",
      "[0.         0.4163945  0.37271587 1.         0.56686685 4.\n",
      " 0.15503832 0.78424144]\n",
      "-1821.7415284246492\n",
      "-1726.8791999397954\n",
      "[0.         0.41683021 0.37287445 1.         0.56703038 4.\n",
      " 0.15506486 0.78419661]\n",
      "-1821.6936274771665\n",
      "-1726.8312989923127\n",
      "[0.         0.41724985 0.37301895 1.         0.56719021 4.\n",
      " 0.15508815 0.78415228]\n",
      "-1821.6494621975519\n",
      "-1726.787133712698\n",
      "[0.         0.41765485 0.37315004 1.         0.56734656 4.\n",
      " 0.15510919 0.78410997]\n",
      "-1821.6088506147134\n",
      "-1726.7465221298596\n",
      "[0.         0.41804465 0.37326906 1.         0.56749964 4.\n",
      " 0.15512596 0.78406638]\n",
      "-1821.5712567536493\n",
      "-1726.7089282687955\n",
      "[0.         0.41842026 0.37337598 1.         0.56764957 4.\n",
      " 0.15514021 0.78402317]\n",
      "-1821.53651741435\n",
      "-1726.6741889294963\n",
      "[0.         0.41878239 0.3734715  1.         0.56779652 4.\n",
      " 0.15515225 0.78398038]\n",
      "-1821.504360468537\n",
      "-1726.6420319836832\n",
      "[0.         0.41913165 0.37355633 1.         0.56794063 4.\n",
      " 0.15516203 0.78393791]\n",
      "-1821.4745656994407\n",
      "-1726.612237214587\n",
      "[0.         0.41946783 0.37363117 1.         0.56808205 4.\n",
      " 0.15516878 0.78389405]\n",
      "-1821.4469453436664\n",
      "-1726.5846168588125\n",
      "[0.         0.41979274 0.37369596 1.         0.56822084 4.\n",
      " 0.15517491 0.78385215]\n",
      "-1821.4212335429759\n",
      "-1726.558905058122\n"
     ]
    },
    {
     "name": "stdout",
     "output_type": "stream",
     "text": [
      "[0.         0.42010653 0.37375193 1.         0.56835719 4.\n",
      " 0.15517885 0.78381068]\n",
      "-1821.397121284855\n",
      "-1726.5347928000012\n",
      "[0.         0.42040969 0.37379954 1.         0.5684912  4.\n",
      " 0.15518085 0.7837696 ]\n",
      "-1821.3747330317074\n",
      "-1726.5124045468535\n",
      "[0.         0.42070267 0.37383925 1.         0.56862296 4.\n",
      " 0.15518105 0.78372888]\n",
      "-1821.353788786962\n",
      "-1726.4914603021082\n",
      "[0.         0.42098592 0.37387151 1.         0.56875256 4.\n",
      " 0.1551796  0.78368847]\n",
      "-1821.3341612895874\n",
      "-1726.4718328047336\n",
      "[0.         0.42125985 0.37389674 1.         0.5688801  4.\n",
      " 0.15517662 0.78364836]\n",
      "-1821.3157351055336\n",
      "-1726.4534066206797\n",
      "[0.         0.42152491 0.37391532 1.         0.56900564 4.\n",
      " 0.15517225 0.78360854]\n",
      "-1821.2984039276598\n",
      "-1726.436075442806\n",
      "[0.         0.42178141 0.37392768 1.         0.56912927 4.\n",
      " 0.15516649 0.78356895]\n",
      "-1821.2820754995864\n",
      "-1726.4197470147326\n",
      "[0.         0.42202984 0.37393413 1.         0.56925105 4.\n",
      " 0.15515962 0.78352982]\n",
      "-1821.2666602356871\n",
      "-1726.4043317508333\n",
      "[0.         0.42227044 0.37393509 1.         0.56937105 4.\n",
      " 0.15515147 0.78349077]\n",
      "-1821.2520846381599\n",
      "-1726.389756153306\n",
      "[0.         0.42250359 0.37393083 1.         0.56948931 4.\n",
      " 0.15514228 0.78345197]\n",
      "-1821.238278144364\n",
      "-1726.37594965951\n",
      "[0.         0.42272961 0.37392166 1.         0.56960591 4.\n",
      " 0.15513211 0.78341342]\n",
      "-1821.2251758649766\n",
      "-1726.3628473801227\n",
      "[0.         0.42294882 0.37390788 1.         0.56972089 4.\n",
      " 0.15512103 0.78337511]\n",
      "-1821.212720146428\n",
      "-1726.3503916615741\n",
      "[0.         0.42316152 0.37388977 1.         0.56983431 4.\n",
      " 0.15510909 0.78333707]\n",
      "-1821.2008584875591\n",
      "-1726.3385300027053\n",
      "[0.         0.42336799 0.37386762 1.         0.5699462  4.\n",
      " 0.15509635 0.78329928]\n",
      "-1821.1895433746238\n",
      "-1726.32721488977\n",
      "[0.         0.42356851 0.37384166 1.         0.57005662 4.\n",
      " 0.15508288 0.78326175]\n",
      "-1821.178731797055\n",
      "-1726.3164033122011\n",
      "[0.         0.42376334 0.37381215 1.         0.5701656  4.\n",
      " 0.15506871 0.78322449]\n",
      "-1821.1683848145694\n",
      "-1726.3060563297156\n",
      "[0.         0.42395273 0.37377931 1.         0.57027318 4.\n",
      " 0.15505391 0.78318748]\n",
      "-1821.158466628283\n",
      "-1726.296138143429\n",
      "[0.         0.42413695 0.37374335 1.         0.57037941 4.\n",
      " 0.15503855 0.78315084]\n",
      "-1821.1489444825634\n",
      "-1726.2866159977095\n",
      "[0.         0.42431618 0.37370452 1.         0.57048431 4.\n",
      " 0.15502259 0.78311439]\n",
      "-1821.1397908042286\n",
      "-1726.2774623193748\n",
      "[0.         0.42449064 0.37366298 1.         0.57058792 4.\n",
      " 0.15500612 0.78307822]\n",
      "-1821.130967097009\n",
      "-1726.2686386121552\n",
      "[0.         0.42466084 0.37361888 1.         0.57069027 4.\n",
      " 0.15498955 0.783043  ]\n",
      "-1821.1224644958527\n",
      "-1726.2601360109988\n",
      "[0.         0.42482653 0.37357265 1.         0.57079141 4.\n",
      " 0.15497202 0.78300749]\n",
      "-1821.1142602167624\n",
      "-1726.2519317319086\n",
      "[0.         0.42498801 0.3735242  1.         0.57089135 4.\n",
      " 0.15495418 0.78297222]\n",
      "-1821.1063342907937\n",
      "-1726.2440058059399\n",
      "[0.         0.42514545 0.37347371 1.         0.57099011 4.\n",
      " 0.154936   0.78293716]\n",
      "-1821.098668685867\n",
      "-1726.2363402010133\n",
      "[0.         0.42529903 0.37342132 1.         0.57108772 4.\n",
      " 0.15491752 0.78290234]\n",
      "-1821.0912470013895\n",
      "-1726.2289185165357\n",
      "[0.         0.4254489  0.37336718 1.         0.57118421 4.\n",
      " 0.15489875 0.78286776]\n",
      "-1821.084054310705\n",
      "-1726.221725825851\n",
      "[0.         0.42559521 0.37331141 1.         0.57127959 4.\n",
      " 0.15487973 0.78283344]\n",
      "-1821.0770770202503\n",
      "-1726.2147485353964\n",
      "[0.         0.42573812 0.37325415 1.         0.57137389 4.\n",
      " 0.15486047 0.78279936]\n",
      "-1821.0703027334082\n",
      "-1726.2079742485544\n",
      "[0.         0.42587776 0.37319551 1.         0.57146713 4.\n",
      " 0.15484099 0.78276555]\n",
      "-1821.0637201382933\n",
      "-1726.2013916534395\n",
      "[0.         0.42601427 0.37313561 1.         0.57155934 4.\n",
      " 0.15482133 0.78273199]\n",
      "-1821.057318899958\n",
      "-1726.1949904151043\n",
      "[0.         0.42614776 0.37307455 1.         0.57165053 4.\n",
      " 0.15480148 0.7826987 ]\n",
      "-1821.0512224156178\n",
      "-1726.188893930764\n",
      "[0.         0.42627836 0.37301244 1.         0.57174071 4.\n",
      " 0.15478149 0.78266567]\n",
      "-1821.0451561171833\n",
      "-1726.1828276323295\n",
      "[0.         0.42640619 0.37294937 1.         0.57182992 4.\n",
      " 0.15476136 0.7826329 ]\n",
      "-1821.0392451376624\n",
      "-1726.1769166528086\n",
      "[0.         0.42653135 0.37288542 1.         0.57191816 4.\n",
      " 0.15474111 0.7826004 ]\n",
      "-1821.0334821857123\n",
      "-1726.1711537008584\n",
      "[0.         0.42665394 0.37282069 1.         0.57200546 4.\n",
      " 0.15472076 0.78256816]\n",
      "-1821.0278605555209\n",
      "-1726.165532070667\n",
      "[0.         0.42677405 0.37275526 1.         0.57209182 4.\n",
      " 0.15470033 0.78253618]\n",
      "-1821.0223740707554\n",
      "-1726.1600455859016\n",
      "[0.         0.42689179 0.37268919 1.         0.57217727 4.\n",
      " 0.15467984 0.78250447]\n",
      "-1821.0170170328606\n",
      "-1726.1546885480068\n",
      "[0.         0.42700724 0.37262257 1.         0.57226182 4.\n",
      " 0.15465928 0.78247302]\n",
      "-1821.0117845258717\n",
      "-1726.1494560410179\n",
      "[0.         0.42712391 0.37255548 1.         0.57234548 4.\n",
      " 0.15464208 0.78244499]\n",
      "-1821.0066304353024\n",
      "-1726.1443019504486\n",
      "[0.         0.42723419 0.37248938 1.         0.57242844 4.\n",
      " 0.15461781 0.78241098]\n",
      "-1821.0016320725886\n",
      "-1726.1393035877347\n",
      "[0.         0.42734315 0.3724213  1.         0.57251041 4.\n",
      " 0.15459743 0.78238038]\n",
      "-1820.9967460967248\n",
      "-1726.134417611871\n",
      "[0.         0.4274501  0.372353   1.         0.57259153 4.\n",
      " 0.15457682 0.7823499 ]\n",
      "-1820.9919666339415\n",
      "-1726.1296381490877\n",
      "[0.         0.42755516 0.37228443 1.         0.57267181 4.\n",
      " 0.15455621 0.7823197 ]\n",
      "-1820.9872900288071\n",
      "-1726.1249615439533\n",
      "[0.         0.42765839 0.37221566 1.         0.57275127 4.\n",
      " 0.15453561 0.78228977]\n",
      "-1820.9827128923962\n",
      "-1726.1203844075424\n",
      "[0.         0.42775984 0.37214673 1.         0.57282992 4.\n",
      " 0.15451502 0.7822601 ]\n",
      "-1820.9782320524018\n",
      "-1726.115903567548\n",
      "[0.         0.42785959 0.37207768 1.         0.57290776 4.\n",
      " 0.15449446 0.7822307 ]\n",
      "-1820.9738445290384\n",
      "-1726.1115160441846\n",
      "[0.         0.42795768 0.37200855 1.         0.57298481 4.\n",
      " 0.15447394 0.78220155]\n",
      "-1820.9695475242104\n",
      "-1726.1072190393566\n",
      "[0.         0.42805416 0.37193939 1.         0.57306109 4.\n",
      " 0.15445347 0.78217265]\n",
      "-1820.9653383987\n",
      "-1726.103009913846\n",
      "[0.         0.4281491  0.37187022 1.         0.5731366  4.\n",
      " 0.15443305 0.78214401]\n",
      "-1820.9612146645459\n",
      "-1726.098886179692\n",
      "[0.         0.42824253 0.37180109 1.         0.57321135 4.\n",
      " 0.15441269 0.78211562]\n",
      "-1820.957173966609\n",
      "-1726.094845481755\n",
      "[0.         0.42833451 0.37173203 1.         0.57328536 4.\n",
      " 0.1543924  0.78208748]\n",
      "-1820.9532140731526\n",
      "-1726.0908855882988\n",
      "[0.         0.42842508 0.37166306 1.         0.57335863 4.\n",
      " 0.15437218 0.78205958]\n",
      "-1820.9493328672936\n",
      "-1726.0870043824398\n",
      "[0.         0.42851428 0.37159422 1.         0.57343118 4.\n",
      " 0.15435204 0.78203193]\n",
      "-1820.9455283329326\n",
      "-1726.0831998480787\n",
      "[0.         0.42860215 0.37152552 1.         0.57350301 4.\n",
      " 0.15433199 0.78200452]\n",
      "-1820.9417985510163\n",
      "-1726.0794700661625\n",
      "[0.         0.42868873 0.371457   1.         0.57357413 4.\n",
      " 0.15431203 0.78197735]\n",
      "-1820.9381416892397\n",
      "-1726.075813204386\n",
      "[0.         0.42877406 0.37138868 1.         0.57364455 4.\n",
      " 0.15429217 0.78195042]\n",
      "-1820.9345559953729\n",
      "-1726.072227510519\n",
      "[0.         0.42885817 0.37132058 1.         0.57371428 4.\n",
      " 0.1542724  0.78192372]\n",
      "-1820.9310397906593\n",
      "-1726.0687113058054\n",
      "[0.         0.4289411  0.37125272 1.         0.57378334 4.\n",
      " 0.15425273 0.78189727]\n",
      "-1820.9275914659365\n",
      "-1726.0652629810827\n",
      "[0.         0.42902288 0.37118512 1.         0.57385171 4.\n",
      " 0.15423317 0.78187104]\n",
      "-1820.9242094752192\n",
      "-1726.0618809903654\n",
      "[0.         0.42910354 0.3711178  1.         0.57391943 4.\n",
      " 0.15421372 0.78184505]\n",
      "-1820.9208923304886\n",
      "-1726.0585638456348\n",
      "[0.         0.4291831  0.37105076 1.         0.57398648 4.\n",
      " 0.15419439 0.78181929]\n",
      "-1820.9176385981968\n",
      "-1726.055310113343\n",
      "[0.         0.42926161 0.37098404 1.         0.57405289 4.\n",
      " 0.15417516 0.78179376]\n",
      "-1820.9144468964234\n",
      "-1726.0521184115696\n",
      "[0.         0.42933908 0.37091763 1.         0.57411865 4.\n",
      " 0.15415606 0.78176846]\n",
      "-1820.911315889907\n",
      "-1726.0489874050531\n",
      "[0.         0.42941554 0.37085156 1.         0.57418378 4.\n",
      " 0.15413707 0.78174338]\n",
      "-1820.9082442880297\n",
      "-1726.0459158031758\n",
      "[0.         0.42949102 0.37078584 1.         0.57424828 4.\n",
      " 0.1541182  0.78171853]\n",
      "-1820.9052308404007\n",
      "-1726.0429023555469\n",
      "[0.         0.42956553 0.37072047 1.         0.57431216 4.\n",
      " 0.15409946 0.78169389]\n",
      "-1820.9022743360729\n",
      "-1726.039945851219\n",
      "[0.         0.42963911 0.37065547 1.         0.57437543 4.\n",
      " 0.15408085 0.78166948]\n",
      "-1820.899373601368\n",
      "-1726.0370451165143\n"
     ]
    },
    {
     "name": "stdout",
     "output_type": "stream",
     "text": [
      "[0.         0.42971177 0.37059085 1.         0.57443809 4.\n",
      " 0.15406236 0.78164529]\n",
      "-1820.8965274952275\n",
      "-1726.0341990103736\n",
      "[0.         0.42978354 0.37052661 1.         0.57450015 4.\n",
      " 0.15404399 0.78162132]\n",
      "-1820.8937349099501\n",
      "-1726.0314064250963\n",
      "[0.         0.42985443 0.37046277 1.         0.57456162 4.\n",
      " 0.15402576 0.78159756]\n",
      "-1820.8909947692093\n",
      "-1726.0286662843555\n",
      "[0.         0.42992446 0.37039933 1.         0.5746225  4.\n",
      " 0.15400766 0.78157402]\n",
      "-1820.888306023465\n",
      "-1726.0259775386112\n",
      "[0.         0.42999366 0.3703363  1.         0.5746828  4.\n",
      " 0.15398969 0.78155068]\n",
      "-1820.8856676528542\n",
      "-1726.0233391680003\n",
      "[0.         0.43006204 0.37027368 1.         0.57474252 4.\n",
      " 0.15397185 0.78152756]\n",
      "-1820.883078663108\n",
      "-1726.0207501782543\n",
      "[0.         0.43012961 0.37021148 1.         0.57480168 4.\n",
      " 0.15395414 0.78150465]\n",
      "-1820.8805380839835\n",
      "-1726.0182095991297\n",
      "[0.         0.4301964  0.3701497  1.         0.57486028 4.\n",
      " 0.15393656 0.78148194]\n",
      "-1820.878044970384\n",
      "-1726.0157164855302\n",
      "[0.         0.43026241 0.37008835 1.         0.57491832 4.\n",
      " 0.15391912 0.78145944]\n",
      "-1820.8755983990986\n",
      "-1726.0132699142448\n",
      "[0.         0.43032767 0.37002743 1.         0.57497581 4.\n",
      " 0.15390182 0.78143715]\n",
      "-1820.8731974684863\n",
      "-1726.0108689836325\n",
      "[0.         0.4303922  0.36996695 1.         0.57503275 4.\n",
      " 0.15388465 0.78141505]\n",
      "-1820.870841298241\n",
      "-1726.0085128133871\n",
      "[0.         0.43045599 0.36990691 1.         0.57508916 4.\n",
      " 0.15386761 0.78139316]\n",
      "-1820.8685290277717\n",
      "-1726.006200542918\n",
      "[0.         0.43051907 0.36984731 1.         0.57514503 4.\n",
      " 0.15385071 0.78137146]\n",
      "-1820.8662598157912\n",
      "-1726.0039313309373\n",
      "[0.         0.43058145 0.36978815 1.         0.57520038 4.\n",
      " 0.15383394 0.78134997]\n",
      "-1820.8640328407278\n",
      "-1726.001704355874\n",
      "[0.         0.43064314 0.36972944 1.         0.5752552  4.\n",
      " 0.1538173  0.78132867]\n",
      "-1820.861847297492\n",
      "-1725.9995188126381\n",
      "[0.         0.43070416 0.36967117 1.         0.5753095  4.\n",
      " 0.15380081 0.78130756]\n",
      "-1820.8597023994528\n",
      "-1725.997373914599\n",
      "[0.         0.43076451 0.36961335 1.         0.57536329 4.\n",
      " 0.15378444 0.78128664]\n",
      "-1820.8575973757752\n",
      "-1725.9952688909214\n",
      "[0.         0.43082421 0.36955598 1.         0.57541658 4.\n",
      " 0.15376821 0.78126592]\n",
      "-1820.855531471468\n",
      "-1725.9932029866143\n",
      "[0.         0.43088327 0.36949906 1.         0.57546937 4.\n",
      " 0.15375212 0.78124538]\n",
      "-1820.8535039494056\n",
      "-1725.9911754645518\n",
      "[0.         0.4309417  0.3694426  1.         0.57552165 4.\n",
      " 0.15373615 0.78122503]\n",
      "-1820.8515140851407\n",
      "-1725.9891856002869\n",
      "[0.         0.43099951 0.36938658 1.         0.57557345 4.\n",
      " 0.15372032 0.78120487]\n",
      "-1820.8495611706971\n",
      "-1725.9872326858433\n",
      "[0.         0.43105671 0.36933101 1.         0.57562476 4.\n",
      " 0.15370463 0.78118489]\n",
      "-1820.847644511613\n",
      "-1725.9853160267592\n",
      "[0.         0.43111331 0.36927589 1.         0.57567558 4.\n",
      " 0.15368906 0.7811651 ]\n",
      "-1820.8457634276629\n",
      "-1725.983434942809\n",
      "[0.         0.43116931 0.36922122 1.         0.57572593 4.\n",
      " 0.15367363 0.78114549]\n",
      "-1820.8439172520816\n",
      "-1725.9815887672278\n",
      "[0.         0.43122474 0.36916699 1.         0.57577581 4.\n",
      " 0.15365833 0.78112605]\n",
      "-1820.8421053311856\n",
      "-1725.9797768463318\n",
      "[0.         0.43127959 0.36911322 1.         0.57582522 4.\n",
      " 0.15364316 0.78110679]\n",
      "-1820.8403270244808\n",
      "-1725.977998539627\n",
      "[0.         0.43133387 0.36905989 1.         0.57587417 4.\n",
      " 0.15362813 0.78108771]\n",
      "-1820.8385817046255\n",
      "-1725.9762532197717\n",
      "[0.         0.4313876  0.36900701 1.         0.57592266 4.\n",
      " 0.15361322 0.78106881]\n",
      "-1820.8368687554478\n",
      "-1725.974540270594\n",
      "[0.         0.43144077 0.36895457 1.         0.57597069 4.\n",
      " 0.15359844 0.78105008]\n",
      "-1820.8351875732556\n",
      "-1725.9728590884017\n",
      "[0.         0.43149341 0.36890257 1.         0.57601827 4.\n",
      " 0.15358379 0.78103152]\n",
      "-1820.8335375657075\n",
      "-1725.9712090808537\n",
      "[0.         0.43154551 0.36885101 1.         0.57606541 4.\n",
      " 0.15356926 0.78101313]\n",
      "-1820.8319181524041\n",
      "-1725.9695896675503\n",
      "[0.         0.43159709 0.3687999  1.         0.57611211 4.\n",
      " 0.15355487 0.78099491]\n",
      "-1820.8303287636786\n",
      "-1725.9680002788248\n",
      "[0.         0.43164814 0.36874922 1.         0.57615837 4.\n",
      " 0.1535406  0.78097685]\n",
      "-1820.8287688411324\n",
      "-1725.9664403562786\n",
      "[0.         0.43169869 0.36869897 1.         0.5762042  4.\n",
      " 0.15352645 0.78095897]\n",
      "-1820.8272378367874\n",
      "-1725.9649093519336\n",
      "[0.         0.43174873 0.36864916 1.         0.57624959 4.\n",
      " 0.15351243 0.78094124]\n",
      "-1820.8257352131911\n",
      "-1725.9634067283373\n",
      "[0.         0.43179827 0.36859978 1.         0.57629457 4.\n",
      " 0.15349854 0.78092368]\n",
      "-1820.8242604425309\n",
      "-1725.961931957677\n",
      "[0.         0.43184732 0.36855083 1.         0.57633912 4.\n",
      " 0.15348476 0.78090628]\n",
      "-1820.82281300753\n",
      "-1725.960484522676\n",
      "[0.         0.43189588 0.3685023  1.         0.57638326 4.\n",
      " 0.15347111 0.78088904]\n",
      "-1820.8213924010852\n",
      "-1725.9590639162313\n",
      "[0.         0.43194396 0.3684542  1.         0.57642699 4.\n",
      " 0.15345759 0.78087197]\n",
      "-1820.8199981251912\n",
      "-1725.9576696403374\n",
      "[0.         0.43199157 0.36840652 1.         0.57647031 4.\n",
      " 0.15344418 0.78085504]\n",
      "-1820.8186296909512\n",
      "-1725.9563012060974\n",
      "[0.         0.43203871 0.36835926 1.         0.57651322 4.\n",
      " 0.15343089 0.78083828]\n",
      "-1820.817286618647\n",
      "-1725.954958133793\n",
      "[0.         0.43208539 0.36831242 1.         0.57655573 4.\n",
      " 0.15341772 0.78082166]\n",
      "-1820.8159684385437\n",
      "-1725.9536399536898\n",
      "[0.         0.43213161 0.36826599 1.         0.57659785 4.\n",
      " 0.15340467 0.7808052 ]\n",
      "-1820.8146746886594\n",
      "-1725.9523462038055\n",
      "[0.         0.43217738 0.36821997 1.         0.57663957 4.\n",
      " 0.15339174 0.7807889 ]\n",
      "-1820.8134049157618\n",
      "-1725.951076430908\n",
      "[0.         0.4322227  0.36817437 1.         0.57668091 4.\n",
      " 0.15337893 0.78077274]\n",
      "-1820.8121586755785\n",
      "-1725.9498301907247\n",
      "[0.         0.43226758 0.36812916 1.         0.57672185 4.\n",
      " 0.15336623 0.78075673]\n",
      "-1820.81093553211\n",
      "-1725.9486070472562\n",
      "[0.         0.43231203 0.36808437 1.         0.57676242 4.\n",
      " 0.15335364 0.78074087]\n",
      "-1820.8097350572075\n",
      "-1725.9474065723537\n",
      "[0.         0.43235605 0.36803997 1.         0.57680261 4.\n",
      " 0.15334117 0.78072516]\n",
      "-1820.8085568308366\n",
      "-1725.9462283459827\n",
      "[0.         0.43239964 0.36799597 1.         0.57684242 4.\n",
      " 0.15332881 0.78070959]\n",
      "-1820.8074004401676\n",
      "-1725.9450719553138\n",
      "[0.         0.43244281 0.36795236 1.         0.57688187 4.\n",
      " 0.15331657 0.78069416]\n",
      "-1820.8062654810171\n",
      "-1725.9439369961633\n",
      "[0.         0.43248557 0.36790915 1.         0.57692094 4.\n",
      " 0.15330443 0.78067888]\n",
      "-1820.8051515566085\n",
      "-1725.9428230717547\n",
      "[0.         0.43252791 0.36786632 1.         0.57695965 4.\n",
      " 0.15329241 0.78066373]\n",
      "-1820.8040582772737\n",
      "-1725.94172979242\n",
      "[0.         0.43256985 0.36782389 1.         0.576998   4.\n",
      " 0.15328049 0.78064873]\n",
      "-1820.8029852603893\n",
      "-1725.9406567755354\n",
      "[0.         0.43261138 0.36778183 1.         0.577036   4.\n",
      " 0.15326869 0.78063387]\n",
      "-1820.8019321303084\n",
      "-1725.9396036454546\n",
      "[0.         0.43265252 0.36774016 1.         0.57707364 4.\n",
      " 0.15325699 0.78061914]\n",
      "-1820.8008985192328\n",
      "-1725.938570034379\n",
      "[0.         0.43269327 0.36769886 1.         0.57711092 4.\n",
      " 0.1532454  0.78060455]\n",
      "-1820.7998840653745\n",
      "-1725.9375555805207\n",
      "\n",
      "The 1 -th iteration of the EM(G) algorithm\n",
      "[0.         0.43269327 0.36769886 1.         0.57711092 4.\n",
      " 0.1532454  0.78060455]\n",
      "-1840.000794189736\n",
      "-1698.0640782018615\n",
      "\n",
      " M-step \n",
      "[0.         0.43269327 0.36769886 1.         0.57711092 4.\n",
      " 0.1532454  0.78060455]\n",
      "-1840.000794189736\n",
      "-1698.0640782018615\n",
      "[0.         0.43085454 0.36291806 1.         0.57694385 4.\n",
      " 0.17786425 0.76779561]\n",
      "-1836.9891936568756\n",
      "-1695.052477669001\n"
     ]
    },
    {
     "name": "stderr",
     "output_type": "stream",
     "text": [
      "/Users/zhengwei/Dropbox (Personal)/BCM/_Code/inversePOMDP/Code/MDPclass.py:418: RuntimeWarning: divide by zero encountered in double_scalars\n",
      "  span ) / _math.log(self.discount * k))\n"
     ]
    },
    {
     "ename": "OverflowError",
     "evalue": "cannot convert float infinity to integer",
     "traceback": [
      "\u001b[0;31m---------------------------------------------------------------------------\u001b[0m",
      "\u001b[0;31mOverflowError\u001b[0m                             Traceback (most recent call last)",
      "\u001b[0;32m<ipython-input-19-6992a98a295c>\u001b[0m in \u001b[0;36m<module>\u001b[0;34m()\u001b[0m\n\u001b[1;32m     90\u001b[0m         \u001b[0monebox_new\u001b[0m \u001b[0;34m=\u001b[0m \u001b[0moneboxColMDP\u001b[0m\u001b[0;34m(\u001b[0m\u001b[0mdiscount\u001b[0m\u001b[0;34m,\u001b[0m \u001b[0mnq\u001b[0m\u001b[0;34m,\u001b[0m \u001b[0mnr\u001b[0m\u001b[0;34m,\u001b[0m \u001b[0mna\u001b[0m\u001b[0;34m,\u001b[0m \u001b[0mpara_temp\u001b[0m\u001b[0;34m)\u001b[0m\u001b[0;34m\u001b[0m\u001b[0m\n\u001b[1;32m     91\u001b[0m         \u001b[0monebox_new\u001b[0m\u001b[0;34m.\u001b[0m\u001b[0msetupMDP\u001b[0m\u001b[0;34m(\u001b[0m\u001b[0;34m)\u001b[0m\u001b[0;34m\u001b[0m\u001b[0m\n\u001b[0;32m---> 92\u001b[0;31m         \u001b[0monebox_new\u001b[0m\u001b[0;34m.\u001b[0m\u001b[0msolveMDP_sfm\u001b[0m\u001b[0;34m(\u001b[0m\u001b[0;34m)\u001b[0m\u001b[0;34m\u001b[0m\u001b[0m\n\u001b[0m\u001b[1;32m     93\u001b[0m         \u001b[0mThA_new\u001b[0m \u001b[0;34m=\u001b[0m \u001b[0monebox_new\u001b[0m\u001b[0;34m.\u001b[0m\u001b[0mThA\u001b[0m\u001b[0;34m\u001b[0m\u001b[0m\n\u001b[1;32m     94\u001b[0m         \u001b[0msoftpolicy_new\u001b[0m \u001b[0;34m=\u001b[0m \u001b[0monebox_new\u001b[0m\u001b[0;34m.\u001b[0m\u001b[0msoftpolicy\u001b[0m\u001b[0;34m\u001b[0m\u001b[0m\n",
      "\u001b[0;32m~/Dropbox (Personal)/BCM/_Code/inversePOMDP/Code/oneboxCol.py\u001b[0m in \u001b[0;36msolveMDP_sfm\u001b[0;34m(self, epsilon, niterations, initial_value)\u001b[0m\n\u001b[1;32m    160\u001b[0m         \"\"\"\n\u001b[1;32m    161\u001b[0m \u001b[0;34m\u001b[0m\u001b[0m\n\u001b[0;32m--> 162\u001b[0;31m         \u001b[0mvi\u001b[0m \u001b[0;34m=\u001b[0m \u001b[0mValueIteration_sfmZW\u001b[0m\u001b[0;34m(\u001b[0m\u001b[0mself\u001b[0m\u001b[0;34m.\u001b[0m\u001b[0mThA\u001b[0m\u001b[0;34m,\u001b[0m \u001b[0mself\u001b[0m\u001b[0;34m.\u001b[0m\u001b[0mR\u001b[0m\u001b[0;34m,\u001b[0m \u001b[0mself\u001b[0m\u001b[0;34m.\u001b[0m\u001b[0mdiscount\u001b[0m\u001b[0;34m,\u001b[0m \u001b[0mepsilon\u001b[0m\u001b[0;34m,\u001b[0m \u001b[0mniterations\u001b[0m\u001b[0;34m,\u001b[0m \u001b[0minitial_value\u001b[0m\u001b[0;34m)\u001b[0m\u001b[0;34m\u001b[0m\u001b[0m\n\u001b[0m\u001b[1;32m    163\u001b[0m         \u001b[0;31m#values = vi.run(temperatureQ)\u001b[0m\u001b[0;34m\u001b[0m\u001b[0;34m\u001b[0m\u001b[0m\n\u001b[1;32m    164\u001b[0m         \u001b[0mvi\u001b[0m\u001b[0;34m.\u001b[0m\u001b[0mrun\u001b[0m\u001b[0;34m(\u001b[0m\u001b[0mtemperatureQ\u001b[0m\u001b[0;34m)\u001b[0m\u001b[0;34m\u001b[0m\u001b[0m\n",
      "\u001b[0;32m~/Dropbox (Personal)/BCM/_Code/inversePOMDP/Code/MDPclass.py\u001b[0m in \u001b[0;36m__init__\u001b[0;34m(self, transitions, reward, discount, epsilon, max_iter, initial_value)\u001b[0m\n\u001b[1;32m    367\u001b[0m             \u001b[0;31m# compute a bound for the number of iterations and update the\u001b[0m\u001b[0;34m\u001b[0m\u001b[0;34m\u001b[0m\u001b[0m\n\u001b[1;32m    368\u001b[0m             \u001b[0;31m# stored value of self.max_iter\u001b[0m\u001b[0;34m\u001b[0m\u001b[0;34m\u001b[0m\u001b[0m\n\u001b[0;32m--> 369\u001b[0;31m             \u001b[0mself\u001b[0m\u001b[0;34m.\u001b[0m\u001b[0m_boundIter\u001b[0m\u001b[0;34m(\u001b[0m\u001b[0mepsilon\u001b[0m\u001b[0;34m)\u001b[0m\u001b[0;34m\u001b[0m\u001b[0m\n\u001b[0m\u001b[1;32m    370\u001b[0m             \u001b[0;31m# computation of threshold of variation for V for an epsilon-\u001b[0m\u001b[0;34m\u001b[0m\u001b[0;34m\u001b[0m\u001b[0m\n\u001b[1;32m    371\u001b[0m             \u001b[0;31m# optimal policy\u001b[0m\u001b[0;34m\u001b[0m\u001b[0;34m\u001b[0m\u001b[0m\n",
      "\u001b[0;32m~/Dropbox (Personal)/BCM/_Code/inversePOMDP/Code/MDPclass.py\u001b[0m in \u001b[0;36m_boundIter\u001b[0;34m(self, epsilon)\u001b[0m\n\u001b[1;32m    419\u001b[0m         \u001b[0;31m#self.V = Vprev\u001b[0m\u001b[0;34m\u001b[0m\u001b[0;34m\u001b[0m\u001b[0m\n\u001b[1;32m    420\u001b[0m \u001b[0;34m\u001b[0m\u001b[0m\n\u001b[0;32m--> 421\u001b[0;31m         \u001b[0mself\u001b[0m\u001b[0;34m.\u001b[0m\u001b[0mmax_iter\u001b[0m \u001b[0;34m=\u001b[0m \u001b[0mint\u001b[0m\u001b[0;34m(\u001b[0m\u001b[0m_math\u001b[0m\u001b[0;34m.\u001b[0m\u001b[0mceil\u001b[0m\u001b[0;34m(\u001b[0m\u001b[0mmax_iter\u001b[0m\u001b[0;34m)\u001b[0m\u001b[0;34m)\u001b[0m\u001b[0;34m\u001b[0m\u001b[0m\n\u001b[0m\u001b[1;32m    422\u001b[0m \u001b[0;34m\u001b[0m\u001b[0m\n\u001b[1;32m    423\u001b[0m     \u001b[0;32mdef\u001b[0m \u001b[0mrun\u001b[0m\u001b[0;34m(\u001b[0m\u001b[0mself\u001b[0m\u001b[0;34m,\u001b[0m \u001b[0mtemperature\u001b[0m\u001b[0;34m)\u001b[0m\u001b[0;34m:\u001b[0m\u001b[0;34m\u001b[0m\u001b[0m\n",
      "\u001b[0;31mOverflowError\u001b[0m: cannot convert float infinity to integer"
     ],
     "output_type": "error"
    }
   ],
   "source": [
    "import timeit\n",
    "\n",
    "start = timeit.default_timer()\n",
    "\n",
    "NN1 = 100  # iteration number for the EM algorithm\n",
    "eps = 10 ** -6\n",
    "\n",
    "para_old_traj = []\n",
    "para_new_traj = []\n",
    "\n",
    "log_likelihoods_old = []\n",
    "log_likelihoods_new = []\n",
    "log_likelihoods_com_old = []  # old posterior, old parameters\n",
    "log_likelihoods_com_new = []  # old posterior, new parameters\n",
    "latent_entropies = []\n",
    "\n",
    "count_E = 0\n",
    "while count_E < NN1:\n",
    "\n",
    "    print('\\nThe', count_E, '-th iteration of the EM(G) algorithm')\n",
    "\n",
    "    if count_E == 0:\n",
    "        parameters_old = np.array(parameters_ini)\n",
    "    else:\n",
    "        parameters_old = np.copy(parameters_new)  # update parameters\n",
    "\n",
    "    para_old_traj.append(parameters_old)\n",
    "    print(parameters_old)\n",
    "\n",
    "    ##########  E-step ##########\n",
    "\n",
    "    ## Use old parameters to estimate posterior\n",
    "    oneboxColder = oneboxColMDPder(discount, nq, nr, na, parameters_old)\n",
    "    ThA_old = oneboxColder.ThA\n",
    "    softpolicy_old = oneboxColder.softpolicy\n",
    "    TBo_old = oneboxColder.Trans_hybrid_obs\n",
    "    OE_TS_old = oneboxColder.Obs_emis_trans\n",
    "    pi = np.ones(nq) / nq\n",
    "    Ncol_old = parameters_old[5].astype(int) - 1\n",
    "    oneHMMCol = HMMoneboxCol(ThA_old, softpolicy_old, TBo_old, OE_TS_old, pi, Ncol_old)\n",
    "\n",
    "    ## Calculate likelihood of observed and complete date, and entropy of the latent sequence\n",
    "    complete_likelihood_old = oneHMMCol.computeQaux(obs, ThA_old, softpolicy_old, TBo_old)\n",
    "    latent_entropy = oneHMMCol.latent_entr(obs)\n",
    "    log_likelihood = complete_likelihood_old + latent_entropy\n",
    "\n",
    "    log_likelihoods_com_old.append(complete_likelihood_old)\n",
    "\n",
    "    latent_entropies.append(latent_entropy)\n",
    "    log_likelihoods_old.append(log_likelihood)\n",
    "\n",
    "    print(complete_likelihood_old)\n",
    "    print(log_likelihood)\n",
    "\n",
    "    ## Check convergence\n",
    "    if len(log_likelihoods_old) >= 2 and np.abs(log_likelihood - log_likelihoods_old[-2]) < eps:\n",
    "        print('EM has converged!')\n",
    "        break\n",
    "\n",
    "    ##########  M(G)-step ##########\n",
    "\n",
    "    count_M = 0\n",
    "    para_new_traj.append([])\n",
    "    log_likelihoods_com_new.append([])\n",
    "    log_likelihoods_new.append([])\n",
    "    stepsize = 2 * 10 ** -5\n",
    "\n",
    "    # Start the gradient descent from the old parameters\n",
    "    parameters_new = np.copy(parameters_old)\n",
    "    complete_likelihood_new = complete_likelihood_old\n",
    "    log_likelihood = complete_likelihood_new + latent_entropy\n",
    "\n",
    "    para_new_traj[count_E].append(parameters_new)\n",
    "    log_likelihoods_com_new[count_E].append(complete_likelihood_new)\n",
    "    log_likelihoods_new[count_E].append(log_likelihood)\n",
    "\n",
    "    print('\\n M-step ')\n",
    "    print(parameters_new)\n",
    "    print(complete_likelihood_new)\n",
    "    print(log_likelihood)\n",
    "\n",
    "    while True:\n",
    "        #print(np.array(oneboxColder.dQauxdpara_sim(obs, parameters_new)))\n",
    "        ## Go the potential next point with gradient descent\n",
    "        para_temp = parameters_new + stepsize * np.array(oneboxColder.dQauxdpara_sim(obs, parameters_new))\n",
    "        #temp = np.copy(para_temp)\n",
    "        #para_temp = np.copy(parameters_old)\n",
    "\n",
    "        ## Check the ECDLL (old posterior, new parameters)\n",
    "        onebox_new = oneboxColMDP(discount, nq, nr, na, para_temp)\n",
    "        onebox_new.setupMDP()\n",
    "        onebox_new.solveMDP_sfm()\n",
    "        ThA_new = onebox_new.ThA\n",
    "        softpolicy_new = onebox_new.softpolicy\n",
    "\n",
    "        TBo_new = onebox_new.Trans_hybrid_obs\n",
    "        OE_TS_new = onebox_new.Obs_emis_trans\n",
    "        pi = np.ones(nq) / nq\n",
    "        Ncol_new = para_temp[5] - 1\n",
    "        oneHMMCol_new = HMMoneboxCol(ThA_new, softpolicy_new, TBo_old, OE_TS_new, pi, Ncol_new)\n",
    "\n",
    "        complete_likelihood_new_temp = oneHMMCol.computeQaux(obs, ThA_new, softpolicy_new, TBo_new)\n",
    "\n",
    "        ## Update the parameter if the ECDLL can be improved\n",
    "        if complete_likelihood_new_temp > complete_likelihood_new + 0.001:\n",
    "            parameters_new = np.copy(para_temp)\n",
    "\n",
    "            complete_likelihood_new = complete_likelihood_new_temp\n",
    "            log_likelihood = complete_likelihood_new + latent_entropy\n",
    "\n",
    "            para_new_traj[count_E].append(parameters_new)\n",
    "            log_likelihoods_com_new[count_E].append(complete_likelihood_new)\n",
    "            log_likelihoods_new[count_E].append(log_likelihood)\n",
    "\n",
    "            print(parameters_new)\n",
    "            print(complete_likelihood_new)\n",
    "            print(log_likelihood)\n",
    "\n",
    "            count_M += 1\n",
    "        else:\n",
    "            stepsize /= 2\n",
    "            if stepsize < 5 * 10 ** -6:\n",
    "                break\n",
    "\n",
    "    count_E += 1\n",
    "\n",
    "print('end of EM')\n",
    "stop = timeit.default_timer()"
   ]
  },
  {
   "cell_type": "code",
   "execution_count": null,
   "metadata": {},
   "outputs": [],
   "source": [
    "parameters"
   ]
  },
  {
   "cell_type": "code",
   "execution_count": null,
   "metadata": {},
   "outputs": [],
   "source": [
    "parameters_ini"
   ]
  },
  {
   "cell_type": "code",
   "execution_count": null,
   "metadata": {},
   "outputs": [],
   "source": [
    "parameters_new"
   ]
  },
  {
   "cell_type": "code",
   "execution_count": 26,
   "metadata": {},
   "outputs": [
    {
     "ename": "NameError",
     "evalue": "name 'NN_MM_para_new_traj' is not defined",
     "traceback": [
      "\u001b[0;31m---------------------------------------------------------------------------\u001b[0m",
      "\u001b[0;31mNameError\u001b[0m                                 Traceback (most recent call last)",
      "\u001b[0;32m<ipython-input-26-7b6881e8a612>\u001b[0m in \u001b[0;36m<module>\u001b[0;34m()\u001b[0m\n\u001b[0;32m----> 1\u001b[0;31m \u001b[0mpara_traj\u001b[0m \u001b[0;34m=\u001b[0m \u001b[0;34m[\u001b[0m\u001b[0mj\u001b[0m \u001b[0;32mfor\u001b[0m \u001b[0mi\u001b[0m \u001b[0;32min\u001b[0m \u001b[0mNN_MM_para_new_traj\u001b[0m \u001b[0;32mfor\u001b[0m \u001b[0mj\u001b[0m \u001b[0;32min\u001b[0m \u001b[0mi\u001b[0m\u001b[0;34m]\u001b[0m\u001b[0;34m\u001b[0m\u001b[0m\n\u001b[0m\u001b[1;32m      2\u001b[0m \u001b[0mpara_traj\u001b[0m\u001b[0;34m[\u001b[0m\u001b[0;36m0\u001b[0m\u001b[0;34m]\u001b[0m\u001b[0;34m[\u001b[0m\u001b[0;36m0\u001b[0m\u001b[0;34m]\u001b[0m\u001b[0;34m\u001b[0m\u001b[0m\n",
      "\u001b[0;31mNameError\u001b[0m: name 'NN_MM_para_new_traj' is not defined"
     ],
     "output_type": "error"
    }
   ],
   "source": [
    "para_traj = [j for i in NN_MM_para_new_traj for j in i]\n",
    "para_traj[0][0]"
   ]
  },
  {
   "cell_type": "markdown",
   "metadata": {},
   "source": [
    "### There is some problem here, since likelihood does not increase all the time"
   ]
  },
  {
   "cell_type": "code",
   "execution_count": null,
   "metadata": {},
   "outputs": [],
   "source": [
    "para1 = [0, 0.40069731, 0.09763441, 1, 0.62828816,  4, 0.25623033, 0.55046382]\n",
    "para2 = [0, 0.40040587, 0.097499  , 1,  0.62795674, 4, 0.25629378, 0.55018447]"
   ]
  },
  {
   "cell_type": "code",
   "execution_count": null,
   "metadata": {},
   "outputs": [],
   "source": [
    "onebox1 = oneboxColMDPder(discount, nq, nr, na, para1)\n",
    "ThA1 = onebox1.ThA\n",
    "softpolicy1 = onebox1.softpolicy\n",
    "TBo1 = onebox1.Trans_hybrid_obs\n",
    "OE_TS1 = onebox1.Obs_emis_trans\n",
    "pi = np.ones(nq) / nq\n",
    "Ncol1 = para1[5] - 1\n",
    "oneHMMCol1 = HMMoneboxCol(ThA1, softpolicy1, TBo1, OE_TS1, pi, Ncol1)\n",
    "\n",
    "## Calculate likelihood of observed and complete date, and entropy of the latent sequence\n",
    "complete_likelihood_old = oneHMMCol1.computeQaux(obs, ThA1, softpolicy1, TBo1)\n",
    "latent_entropy = oneHMMCol1.latent_entr(obs)\n",
    "log_likelihood = complete_likelihood_old + latent_entropy\n",
    "print(log_likelihood)"
   ]
  },
  {
   "cell_type": "code",
   "execution_count": null,
   "metadata": {},
   "outputs": [],
   "source": [
    "oneHMMCol1.computeQaux(obs, ThA2, softpolicy2, TBo2) + oneHMMCol1.latent_entr(obs)"
   ]
  },
  {
   "cell_type": "code",
   "execution_count": null,
   "metadata": {},
   "outputs": [],
   "source": [
    "onebox2 = oneboxColMDPder(discount, nq, nr, na, para2)\n",
    "ThA2 = onebox2.ThA\n",
    "softpolicy2 = onebox2.softpolicy\n",
    "TBo2 = onebox2.Trans_hybrid_obs\n",
    "OE_TS2 = onebox2.Obs_emis_trans\n",
    "pi = np.ones(nq) / nq\n",
    "Ncol2 = para2[5] - 1\n",
    "oneHMMCol2 = HMMoneboxCol(ThA2, softpolicy2, TBo2, OE_TS2, pi, Ncol2)\n",
    "\n",
    "## Calculate likelihood of observed and complete date, and entropy of the latent sequence\n",
    "complete_likelihood_old = oneHMMCol2.computeQaux(obs, ThA2, softpolicy2, TBo2)\n",
    "latent_entropy = oneHMMCol2.latent_entr(obs)\n",
    "log_likelihood = complete_likelihood_old + latent_entropy\n",
    "print(log_likelihood)"
   ]
  },
  {
   "cell_type": "code",
   "execution_count": null,
   "metadata": {},
   "outputs": [],
   "source": [
    "plt.plot([j for i in log_likelihoods_new[25:-1] for j in i], marker='.')\n",
    "plt.show()"
   ]
  },
  {
   "cell_type": "code",
   "execution_count": null,
   "metadata": {},
   "outputs": [],
   "source": [
    "plt.plot([i for i in log_likelihoods_old[25:-1]], marker='.')\n",
    "plt.show()"
   ]
  },
  {
   "cell_type": "markdown",
   "metadata": {},
   "source": [
    "## Check Contour"
   ]
  },
  {
   "cell_type": "code",
   "execution_count": 25,
   "metadata": {},
   "outputs": [
    {
     "ename": "NameError",
     "evalue": "name 'para_traj' is not defined",
     "traceback": [
      "\u001b[0;31m---------------------------------------------------------------------------\u001b[0m",
      "\u001b[0;31mNameError\u001b[0m                                 Traceback (most recent call last)",
      "\u001b[0;32m<ipython-input-25-cd56bbcb5de8>\u001b[0m in \u001b[0;36m<module>\u001b[0;34m()\u001b[0m\n\u001b[0;32m----> 1\u001b[0;31m \u001b[0mpara_traj\u001b[0m\u001b[0;34m\u001b[0m\u001b[0m\n\u001b[0m",
      "\u001b[0;31mNameError\u001b[0m: name 'para_traj' is not defined"
     ],
     "output_type": "error"
    }
   ],
   "source": [
    "para_traj"
   ]
  },
  {
   "cell_type": "code",
   "execution_count": 20,
   "metadata": {},
   "outputs": [],
   "source": [
    "from sklearn.decomposition import PCA\n",
    "from mpl_toolkits.mplot3d import Axes3D\n",
    "import matplotlib.pyplot as plt"
   ]
  },
  {
   "cell_type": "code",
   "execution_count": 21,
   "metadata": {},
   "outputs": [
    {
     "name": "stderr",
     "output_type": "stream",
     "text": [
      "/Applications/anaconda3/lib/python3.6/site-packages/sklearn/decomposition/pca.py:423: RuntimeWarning: invalid value encountered in true_divide\n",
      "  explained_variance_ = (S ** 2) / (n_samples - 1)\n"
     ]
    },
    {
     "data": {
      "text/plain": [
       "PCA(copy=True, iterated_power='auto', n_components=2, random_state=None,\n",
       "  svd_solver='auto', tol=0.0, whiten=False)"
      ]
     },
     "execution_count": 21,
     "metadata": {},
     "output_type": "execute_result"
    }
   ],
   "source": [
    "L = len(para_old_traj) - 1\n",
    "\n",
    "point = np.zeros((L, 8))\n",
    "for i in range(L):\n",
    "    point[i]  = para_old_traj[i + 1]\n",
    "\n",
    "pca = PCA(n_components = 2)\n",
    "pca.fit(point)"
   ]
  },
  {
   "cell_type": "code",
   "execution_count": 22,
   "metadata": {},
   "outputs": [
    {
     "name": "stdout",
     "output_type": "stream",
     "text": [
      "[[1. 0. 0. 0. 0. 0. 0. 0.]]\n"
     ]
    },
    {
     "data": {
      "text/plain": [
       "array([[1., 0., 0., 0., 0., 0., 0., 0.]])"
      ]
     },
     "execution_count": 22,
     "metadata": {},
     "output_type": "execute_result"
    }
   ],
   "source": [
    "projectionMat = pca.components_\n",
    "print(projectionMat)\n",
    "projectionMat = np.multiply(projectionMat, (np.abs(projectionMat) > 10** -10).astype(int))\n",
    "projectionMat"
   ]
  },
  {
   "cell_type": "code",
   "execution_count": null,
   "metadata": {},
   "outputs": [],
   "source": []
  },
  {
   "cell_type": "code",
   "execution_count": null,
   "metadata": {},
   "outputs": [],
   "source": []
  },
  {
   "cell_type": "code",
   "execution_count": null,
   "metadata": {},
   "outputs": [],
   "source": [
    "step1 = 0.01    # for u (1st principle component)\n",
    "step2 = 0.01   # for v (2nd principle component)\n",
    "N1 = 50\n",
    "N2 = 50\n",
    "uOffset = - step1 * N1 / 2 \n",
    "vOffset = - step2 * N2 / 2\n",
    "\n",
    "uValue = np.zeros(N1)\n",
    "vValue = np.zeros(N2)\n",
    "Qaux1 = np.zeros((N2, N1))    # Likelihood with ground truth latent\n",
    "Qaux2 = np.zeros((N2, N1))    # Expected complete data likelihood\n",
    "Qaux3 = np.zeros((N2, N1))    # Entropy of latent posterior\n",
    "para_slice = []\n",
    "\n",
    "for i in range(N1):\n",
    "    uValue[i] = step1 * (i) + uOffset\n",
    "    for j in range(N2):\n",
    "        vValue[j] = step2 * (j) + vOffset\n",
    "\n",
    "        #para_slicePoints = [0, uValue[i], 0.05, 1, 0.3, 3, vValue[j], 0.6]\n",
    "        para_slicePoints = point[-1] + uValue[i] * projectionMat[0] + vValue[j] * projectionMat[1]\n",
    "        #print(para_slicePoints)\n",
    "        para_slice.append(para_slicePoints)\n",
    "        para = np.copy(para_slicePoints)\n",
    "        \n",
    "        ####### Compute value for contour\n",
    "        oneCol = oneboxColMDP(discount, nq, nr, na, para)\n",
    "        oneCol.setupMDP()\n",
    "        oneCol.solveMDP_sfm()\n",
    "        #print(oneCol.Vsfm)\n",
    "        ThA = oneCol.ThA\n",
    "        policy = oneCol.softpolicy\n",
    "        pi = np.ones(nq)/ nq  # initialize the estimation of the belief state\n",
    "        TBo = oneCol.Trans_hybrid_obs\n",
    "        OE_TS = oneCol.Obs_emis_trans\n",
    "        oneColHMM = HMMoneboxCol(ThA, policy, TBo, OE_TS, pi, 3)\n",
    "        \n",
    "        #Qaux1[j, i] = twoboxHMM.likelihood(lat, obs, ThA, policy)  #given latent state\n",
    "        Qaux2[j, i] = oneColHMM.computeQaux(obs, ThA, policy, TBo) \n",
    "        Qaux3[j, i] = oneColHMM.latent_entr(obs) "
   ]
  },
  {
   "cell_type": "code",
   "execution_count": null,
   "metadata": {},
   "outputs": [],
   "source": [
    "Loglikelihood = Qaux2 + Qaux3"
   ]
  },
  {
   "cell_type": "code",
   "execution_count": null,
   "metadata": {},
   "outputs": [],
   "source": [
    "from matplotlib import cm"
   ]
  },
  {
   "cell_type": "code",
   "execution_count": null,
   "metadata": {},
   "outputs": [],
   "source": [
    "# project the trajectories onto the plane\n",
    "point_2d = projectionMat.dot((point - point[-1]).T).T   \n",
    "\n",
    "# true parameters projected onto the plane\n",
    "true_2d = projectionMat.dot(parameters - point[-1])\n",
    "\n",
    "fig_contour, ax = plt.subplots(figsize = (8,8))\n",
    "uValuemesh, vValuemesh = np.meshgrid(uValue, vValue)\n",
    "cs3 = plt.contour(uValuemesh, vValuemesh, Loglikelihood, \n",
    "                  np.arange(np.min(Loglikelihood), np.max(Loglikelihood), 5), cmap = cm.jet)\n",
    "#cs3 = plt.contour(uValuemesh, vValuemesh, Likelihood, \n",
    "#                  np.arange(-13000, -3000, 50))\n",
    "#plt.xticks(np.arange(0, 1, 0.1))\n",
    "#plt.yticks(np.arange(0, 1, 0.1))\n",
    "plt.plot(point_2d[:, 0], point_2d[:, 1], marker='.', color = 'b')   # projected trajectories\n",
    "plt.plot(0, 0, marker='*', color = 'b')                             # final point\n",
    "plt.plot(true_2d[0], true_2d[1], marker='o', color = 'r')           # true\n",
    "\n",
    "\n",
    "ax.grid()\n",
    "ax.set_title('Loglikelihood of observed data', fontsize = 20)\n",
    "# plt.xlabel(r'$u \\mathbf{\\theta}$', fontsize = 10)\n",
    "# plt.ylabel(r'$v \\mathbf{\\theta}$', fontsize = 10)\n",
    "plt.xlabel(r'v$\\theta$', fontsize=14)\n",
    "plt.ylabel(r'u$\\theta$',fontsize=14)\n",
    "plt.clabel(cs3, inline=1, fontsize=15)\n",
    "plt.colorbar()\n",
    "plt.show()"
   ]
  },
  {
   "cell_type": "code",
   "execution_count": null,
   "metadata": {},
   "outputs": [],
   "source": [
    "NorLikelihood = np.exp(Loglikelihood - np.max(Loglikelihood))\n",
    "NorLikelihood[20:30, 20:30]"
   ]
  },
  {
   "cell_type": "code",
   "execution_count": null,
   "metadata": {},
   "outputs": [],
   "source": [
    "NorLikelihood = np.exp(Loglikelihood - np.max(Loglikelihood)) \n",
    "fig_contour, ax = plt.subplots(figsize = (8,8))\n",
    "uValuemesh, vValuemesh = np.meshgrid(uValue, vValue)\n",
    "cs3 = plt.contour(uValuemesh, vValuemesh, NorLikelihood, \n",
    "                  np.arange(np.min(NorLikelihood), np.max(NorLikelihood), 0.1))\n",
    "plt.plot(point_2d[:, 0], point_2d[:, 1], marker='.', color = 'b')   # projected trajectories\n",
    "plt.plot(0, 0, marker='*', color = 'b')                             # final point\n",
    "plt.plot(true_2d[0], true_2d[1], marker='o', color = 'r')           # true\n",
    "\n",
    "\n",
    "ax.grid()\n",
    "ax.set_title('Likelihood of observed data')\n",
    "# plt.xlabel(r'$u \\mathbf{\\theta}$', fontsize = 10)\n",
    "# plt.ylabel(r'$v \\mathbf{\\theta}$', fontsize = 10)\n",
    "plt.xlabel(r'v$\\theta$', fontsize=14)\n",
    "plt.ylabel(r'u$\\theta$',fontsize=14)\n",
    "plt.clabel(cs3, inline=1, fontsize=15)\n",
    "plt.colorbar()\n",
    "plt.show()"
   ]
  },
  {
   "cell_type": "code",
   "execution_count": null,
   "metadata": {},
   "outputs": [],
   "source": []
  },
  {
   "cell_type": "markdown",
   "metadata": {},
   "source": [
    "# Check posterior with estimated parameters"
   ]
  },
  {
   "cell_type": "code",
   "execution_count": null,
   "metadata": {},
   "outputs": [],
   "source": [
    "para_test =  parameters_new "
   ]
  },
  {
   "cell_type": "code",
   "execution_count": null,
   "metadata": {},
   "outputs": [],
   "source": [
    "onebox_test = oneboxColMDPder(discount, nq, nr, na, para_test)\n",
    "ThA_test = onebox_test.ThA\n",
    "softpolicy_test = onebox_test.softpolicy\n",
    "TBo_test = onebox_test.Trans_hybrid_obs\n",
    "OE_TS_test = onebox_test.Obs_emis_trans\n",
    "pi = np.ones(nq) / nq \n",
    "oneHMM_test = HMMoneboxCol(ThA_test, softpolicy_test, TBo_test, OE_TS_test, pi, 3)\n",
    "\n",
    "alpha_test, scale_test = oneHMM_test.forward_scale(obs)\n",
    "beta_test = oneHMM_test.backward_scale(obs, scale_test)\n",
    "gamma_test = oneHMM_test.compute_gamma(alpha_test, beta_test)\n",
    "xi_test = oneHMM_test.compute_xi(alpha_test, beta_test, obs)\n",
    "#realxi_test = oneHMM_test.realxi(lat, obs)\n",
    "showT = 40\n",
    "fig, ax = plt.subplots(figsize= (15, 15))\n",
    "plt.imshow(np.flipud(gamma_test[:, 100:showT+100]), interpolation='Nearest', cmap='gray')\n",
    "plt.plot(nq - 1 - lat[100:showT+100], color = 'r',marker ='.', markersize = 15)\n",
    "plt.xticks(np.arange(0, showT, 10))\n",
    "plt.xlabel('time', fontsize = 16)\n",
    "plt.ylabel('belief state', fontsize = 16)\n",
    "\n",
    "plt.show()"
   ]
  },
  {
   "cell_type": "code",
   "execution_count": null,
   "metadata": {},
   "outputs": [],
   "source": [
    "posterior_ave = np.zeros((nq, nq))\n",
    "for i in range(nq):\n",
    "    ind = np.where(lat == i)[0]\n",
    "    posterior_ave[:, i] = np.sum(gamma_test[:, ind], axis = 1)/np.size(ind)"
   ]
  },
  {
   "cell_type": "code",
   "execution_count": null,
   "metadata": {},
   "outputs": [],
   "source": [
    "plt.imshow(posterior_ave, origin='lower')\n",
    "plt.xlabel('true belief', fontsize = 15)\n",
    "plt.ylabel('average distribution of belief posterior', fontsize = 15)\n",
    "plt.show()"
   ]
  },
  {
   "cell_type": "code",
   "execution_count": null,
   "metadata": {},
   "outputs": [],
   "source": []
  },
  {
   "cell_type": "markdown",
   "metadata": {},
   "source": [
    "# Check Hessian"
   ]
  },
  {
   "cell_type": "code",
   "execution_count": null,
   "metadata": {},
   "outputs": [],
   "source": [
    "from numpy import linalg as LA"
   ]
  },
  {
   "cell_type": "code",
   "execution_count": null,
   "metadata": {},
   "outputs": [],
   "source": [
    "parameters"
   ]
  },
  {
   "cell_type": "code",
   "execution_count": null,
   "metadata": {},
   "outputs": [],
   "source": [
    "point[-1]"
   ]
  },
  {
   "cell_type": "code",
   "execution_count": null,
   "metadata": {},
   "outputs": [],
   "source": [
    "perturb = 10 ** -6"
   ]
  },
  {
   "cell_type": "code",
   "execution_count": null,
   "metadata": {},
   "outputs": [],
   "source": [
    "paraHessian = np.copy(point[-1])\n",
    "#paraHessian = np.copy(parameters)"
   ]
  },
  {
   "cell_type": "code",
   "execution_count": null,
   "metadata": {},
   "outputs": [],
   "source": [
    "hes = np.zeros((5, 8))\n",
    "\n",
    "oneboxCold = oneboxColMDPder(discount, nq, nr, na, paraHessian)\n",
    "oneboxCold1st = np.array(oneboxCold.dQauxdpara_sim(obs, paraHessian))\n",
    "\n",
    "index = [1,2,4,6,7]\n",
    "for i in range(5):\n",
    "    para_perb = np.copy(paraHessian)\n",
    "    para_perb[index[i]] += perturb\n",
    "    oneboxCold_perb = oneboxColMDPder(discount, nq, nr, na, para_perb)\n",
    "        \n",
    "    oneboxCold1st_pert = np.array(oneboxCold_perb.dQauxdpara_sim(obs, para_perb))\n",
    "    \n",
    "    hes[i, :] = (oneboxCold1st_pert - oneboxCold1st) / perturb"
   ]
  },
  {
   "cell_type": "code",
   "execution_count": null,
   "metadata": {},
   "outputs": [],
   "source": [
    "hes_para = hes[:, [1,2,4,6,7]]\n",
    "hes_para"
   ]
  },
  {
   "cell_type": "code",
   "execution_count": null,
   "metadata": {},
   "outputs": [],
   "source": [
    "w, v = LA.eig(hes_para)"
   ]
  },
  {
   "cell_type": "code",
   "execution_count": null,
   "metadata": {},
   "outputs": [],
   "source": [
    "w"
   ]
  },
  {
   "cell_type": "code",
   "execution_count": null,
   "metadata": {},
   "outputs": [],
   "source": [
    "np.sqrt(-1.0 / w)"
   ]
  },
  {
   "cell_type": "code",
   "execution_count": null,
   "metadata": {},
   "outputs": [],
   "source": [
    "np.sqrt(np.diagonal(-np.linalg.inv(hes_para)))"
   ]
  },
  {
   "cell_type": "code",
   "execution_count": null,
   "metadata": {},
   "outputs": [],
   "source": []
  },
  {
   "cell_type": "code",
   "execution_count": null,
   "metadata": {},
   "outputs": [],
   "source": [
    "paraHessian = np.copy(parameters)"
   ]
  },
  {
   "cell_type": "code",
   "execution_count": null,
   "metadata": {},
   "outputs": [],
   "source": [
    "hes = np.zeros((5, 8))\n",
    "\n",
    "oneboxCold = oneboxColMDPder(discount, nq, nr, na, paraHessian)\n",
    "oneboxCold1st = np.array(oneboxCold.dQauxdpara_sim(obs, paraHessian))\n",
    "\n",
    "index = [1,2,4,6,7]\n",
    "for i in range(5):\n",
    "    para_perb = np.copy(paraHessian)\n",
    "    para_perb[index[i]] += perturb\n",
    "    oneboxCold_perb = oneboxColMDPder(discount, nq, nr, na, para_perb)\n",
    "        \n",
    "    oneboxCold1st_pert = np.array(oneboxCold_perb.dQauxdpara_sim(obs, para_perb))\n",
    "    \n",
    "    hes[i, :] = (oneboxCold1st_pert - oneboxCold1st) / perturb"
   ]
  },
  {
   "cell_type": "code",
   "execution_count": null,
   "metadata": {},
   "outputs": [],
   "source": [
    "hes_para = hes[:, [1,2,4,6,7]]\n",
    "hes_para"
   ]
  },
  {
   "cell_type": "code",
   "execution_count": null,
   "metadata": {},
   "outputs": [],
   "source": [
    "w, v = LA.eig(hes_para)"
   ]
  },
  {
   "cell_type": "code",
   "execution_count": null,
   "metadata": {},
   "outputs": [],
   "source": [
    "w"
   ]
  },
  {
   "cell_type": "code",
   "execution_count": null,
   "metadata": {},
   "outputs": [],
   "source": [
    "np.sqrt(-1.0 / w)"
   ]
  }
 ],
 "metadata": {
  "kernelspec": {
   "display_name": "Python 3",
   "language": "python",
   "name": "python3"
  },
  "language_info": {
   "codemirror_mode": {
    "name": "ipython",
    "version": 3
   },
   "file_extension": ".py",
   "mimetype": "text/x-python",
   "name": "python",
   "nbconvert_exporter": "python",
   "pygments_lexer": "ipython3",
   "version": "3.6.5"
  }
 },
 "nbformat": 4,
 "nbformat_minor": 2
}
