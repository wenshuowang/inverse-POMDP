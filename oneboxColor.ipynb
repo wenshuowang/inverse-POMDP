{
 "cells": [
  {
   "cell_type": "code",
   "execution_count": 1,
   "metadata": {},
   "outputs": [],
   "source": [
    "from __future__ import division\n",
    "from boxtask_func import *\n",
    "from MDPclass import *\n",
    "from oneboxCol import *"
   ]
  },
  {
   "cell_type": "code",
   "execution_count": 2,
   "metadata": {},
   "outputs": [],
   "source": [
    "import numpy as np\n",
    "from scipy.stats import binom\n",
    "from scipy.integrate import quad\n",
    "import matplotlib.pyplot as plt\n",
    "\n",
    "from scipy.linalg import toeplitz, expm\n",
    "from scipy import optimize\n",
    "from math import sqrt\n",
    "from scipy.stats import norm"
   ]
  },
  {
   "cell_type": "code",
   "execution_count": 3,
   "metadata": {},
   "outputs": [],
   "source": [
    "import matplotlib as mpl\n",
    "# pdf.fontype and ps.fontype must be set to 42 in order for text in exported figure to be editable in Adobe Illustrator\n",
    "mpl.rcParams['pdf.fonttype'] = 42\n",
    "mpl.rcParams['ps.fonttype'] = 42"
   ]
  },
  {
   "cell_type": "markdown",
   "metadata": {
    "heading_collapsed": true
   },
   "source": [
    "# transition probability"
   ]
  },
  {
   "cell_type": "code",
   "execution_count": null,
   "metadata": {
    "hidden": true
   },
   "outputs": [],
   "source": [
    "p_appear = 0.2\n",
    "p_disappear = 0.05"
   ]
  },
  {
   "cell_type": "code",
   "execution_count": null,
   "metadata": {
    "hidden": true
   },
   "outputs": [],
   "source": [
    "nq = 5 # number of belief states per box\n",
    "nr = 2  # number of reward states\n",
    "na = 2"
   ]
  },
  {
   "cell_type": "code",
   "execution_count": null,
   "metadata": {
    "hidden": true
   },
   "outputs": [],
   "source": [
    "Trans_state = np.array([[1-p_appear, p_disappear], \n",
    "                        [p_appear, 1-p_disappear]])\n",
    "Obs_emis = np.zeros((Ncol + 1, 2))    #Observation(color) generation\n",
    "Obs_emis[:, 0] = binom.pmf(range(Ncol + 1),Ncol,qmax)\n",
    "Obs_emis[:, 1] = binom.pmf(range(Ncol + 1),Ncol,qmin)"
   ]
  },
  {
   "cell_type": "code",
   "execution_count": null,
   "metadata": {
    "hidden": true
   },
   "outputs": [],
   "source": []
  },
  {
   "cell_type": "code",
   "execution_count": null,
   "metadata": {
    "hidden": true
   },
   "outputs": [],
   "source": []
  },
  {
   "cell_type": "code",
   "execution_count": null,
   "metadata": {
    "hidden": true
   },
   "outputs": [],
   "source": [
    "belief_old = np.arange(0, 1, 0.01)\n",
    "N = len(belief_old)\n",
    "\n",
    "beliefupdate = Trans_state.dot(np.array([1-belief_old, belief_old]))\n",
    "belief_new = beliefupdate[1, :]\n",
    "ObsPro = Obs_emis.dot(beliefupdate)\n",
    "belief_new_obs = np.outer(Obs_emis[:, 1], belief_new) / ObsPro"
   ]
  },
  {
   "cell_type": "code",
   "execution_count": null,
   "metadata": {
    "hidden": true
   },
   "outputs": [],
   "source": [
    "def gb(x, k1, k0, p_appear, p_disappear):\n",
    "    a = 1 - p_disappear - p_appear\n",
    "    return (k1*a*x + k1*p_appear)/((k1-k0)*a*x + k1*p_appear + k0*(1-p_appear))"
   ]
  },
  {
   "cell_type": "code",
   "execution_count": null,
   "metadata": {
    "hidden": true
   },
   "outputs": [],
   "source": [
    "def gbinv(y, k1, k0, p_appear, p_disappear):\n",
    "    a = 1 - p_disappear - p_appear\n",
    "    return (y * (k1*p_appear + k0*(1-p_appear)) - k1*p_appear) / (k1*a - y*(k1-k0)*a)"
   ]
  },
  {
   "cell_type": "code",
   "execution_count": null,
   "metadata": {
    "hidden": true
   },
   "outputs": [],
   "source": [
    "dq = 1/nq\n",
    "#a = 1 - p_disappear - p_appear\n",
    "\n",
    "Trans_belief_obs = np.zeros((Ncol + 1, nq,nq))\n",
    "\n",
    "d = np.zeros((Ncol + 1, nq, nq))\n",
    "den = np.zeros((Ncol + 1, nq, nq))\n",
    "xopt = np.zeros((Ncol + 1, nq, nq))\n",
    "height = np.zeros((Ncol + 1, nq, nq))\n",
    "Trans_belief_obs_approx = np.zeros((Ncol + 1, nq,nq))\n",
    "\n",
    "for n in range(Ncol + 1):\n",
    "    k0 = Obs_emis[n, 0]\n",
    "    k1 = Obs_emis[n, 1]\n",
    "    \n",
    "    for i in range(nq):\n",
    "        for j in range(nq):\n",
    "            xmin = dq*i\n",
    "            xmax = dq*(i+1)\n",
    "            ymin = dq*j\n",
    "            ymax = dq*(j+1)\n",
    "            \n",
    "            bl = max(gbinv(ymin, k1, k0, p_appear, p_disappear), xmin)\n",
    "            br = min(gbinv(ymax, k1, k0, p_appear, p_disappear), xmax)\n",
    "            \n",
    "            if bl > br:\n",
    "                Trans_belief_obs[n, j, i] = 0\n",
    "            else:\n",
    "                Trans_belief_obs[n, j, i] = quad(lambda x: Obs_emis[n, :].dot(Trans_state).dot(np.array([1-x, x])), \n",
    "                                           bl, br)[0]\n",
    "            \n",
    "            \n",
    "            # Approximate the probability with Gaussian approxiamtion\n",
    "            q = i * dq + dq / 2\n",
    "            qq = j * dq + dq / 2\n",
    "            \n",
    "            def dist(x):\n",
    "                return sqrt((q - x)** 2 + (qq - gb(x, k1, k0, p_appear, p_disappear))**2)\n",
    "            \n",
    "            xopt[n, j, i], d[n, j, i] = optimize.fminbound(dist,0, 1, full_output=1)[0:2]\n",
    "            den[n, j, i] = norm.pdf(d[n, j, i], 0, 1/nq/3)\n",
    "            height[n, j, i] = Obs_emis[n, :].dot(Trans_state).dot(np.array([1-xopt[n, j, i], xopt[n, j, i]]))\n",
    "\n",
    "    den[n] = den[n] / np.tile(np.sum(den[n], 0), (nq, 1))\n",
    "    Trans_belief_obs_approx[n] = np.multiply(den[n], height[n])\n",
    "            "
   ]
  },
  {
   "cell_type": "code",
   "execution_count": null,
   "metadata": {
    "hidden": true
   },
   "outputs": [],
   "source": []
  },
  {
   "cell_type": "code",
   "execution_count": null,
   "metadata": {
    "hidden": true
   },
   "outputs": [],
   "source": [
    "Trans_belief = np.sum(Trans_belief_obs, axis = 0)\n",
    "Trans_belief = Trans_belief / np.tile(np.sum(Trans_belief, 0), (nq, 1))\n",
    "\n",
    "nt = 20\n",
    "d = 0.1 / nt\n",
    "dD = toeplitz(np.insert(np.zeros(nq - 2), 0, np.array([-2 * d, d])))\n",
    "dD[1, 0] = 2 * d\n",
    "dD[-2, -1] = 2 * d\n",
    "D = expm(dD * nt)\n",
    "D = D / np.tile(np.sum(D, 0), (nq, 1))\n",
    "Trans_belief1 = np.dot(D, Trans_belief)\n",
    "\n",
    "Trans_belief_approx = np.sum(Trans_belief_obs_approx, axis = 0)\n",
    "Trans_belief_approx = Trans_belief_approx / np.tile(np.sum(Trans_belief_approx, 0), (nq, 1))"
   ]
  },
  {
   "cell_type": "code",
   "execution_count": null,
   "metadata": {
    "hidden": true
   },
   "outputs": [],
   "source": [
    "fig, ax = plt.subplots(figsize = (6,6))\n",
    "plt.plot(belief_old, belief_new, '-*')\n",
    "for i in range(Ncol):\n",
    "    plt.plot(belief_old, belief_new_obs[i, :])\n",
    "    plt.plot(belief_old, ObsPro[i, :], '--')\n",
    "ax.set_ylim([0,1.1])\n",
    "ax.set_xlim([0,1.1])\n",
    "ax.xaxis.set_ticks(np.arange(0, 1.1, 1/nq))\n",
    "ax.yaxis.set_ticks(np.arange(0, 1.1, 1/nq))\n",
    "plt.grid()\n",
    "plt.gca().invert_yaxis()\n",
    "plt.show()"
   ]
  },
  {
   "cell_type": "code",
   "execution_count": null,
   "metadata": {
    "hidden": true
   },
   "outputs": [],
   "source": [
    "from mpl_toolkits.axes_grid1 import make_axes_locatable\n",
    "\n",
    "\n",
    "fig = plt.figure(figsize = (15, 60))\n",
    "#fig.subplots_adjust(wspace=0,hspace=0)\n",
    "\n",
    "ax1 = fig.add_subplot(1,3,1)\n",
    "im1 = ax1.imshow(Trans_belief, vmin=0, vmax=1, cmap='jet')\n",
    "divider = make_axes_locatable(ax1)\n",
    "cax = divider.append_axes('right', size='5%', pad=0.1)\n",
    "fig.colorbar(im1, cax=cax, orientation='vertical')\n",
    "\n",
    "ax2 = fig.add_subplot(1,3,2)\n",
    "im2 = ax2.imshow(Trans_belief1, vmin=0, vmax=1, cmap='jet')\n",
    "divider = make_axes_locatable(ax2)\n",
    "cax = divider.append_axes('right', size='5%', pad=0.1)\n",
    "fig.colorbar(im2, cax=cax, orientation='vertical')\n",
    "\n",
    "\n",
    "ax3 = fig.add_subplot(1,3,3)\n",
    "im3 = ax3.imshow(Trans_belief_approx, vmin=0, vmax=1, cmap='jet')\n",
    "divider = make_axes_locatable(ax3)\n",
    "cax = divider.append_axes('right', size='5%', pad=0.1)\n",
    "fig.colorbar(im3, cax=cax, orientation='vertical')\n",
    "\n",
    "plt.show()"
   ]
  },
  {
   "cell_type": "markdown",
   "metadata": {},
   "source": [
    "# One box MDP"
   ]
  },
  {
   "cell_type": "code",
   "execution_count": 4,
   "metadata": {},
   "outputs": [],
   "source": [
    "nq = 5\n",
    "nr = 2\n",
    "na = 2\n",
    "discount = 0.99"
   ]
  },
  {
   "cell_type": "code",
   "execution_count": 5,
   "metadata": {},
   "outputs": [],
   "source": [
    "beta = 0   # available food dropped back into box after button press\n",
    "gamma = 0.3    # reward becomes available\n",
    "epsilon = 0.1   # available food disappears\n",
    "rho = 1    # food in mouth is consumed\n",
    "pushButtonCost = 0.6\n",
    "Reward = 1\n",
    "NumCol = 4\n",
    "qmin = 0.3\n",
    "qmax = 0.7\n",
    "Ncol = NumCol - 1\n",
    "\n",
    "parameters = [beta, gamma, epsilon, rho, pushButtonCost, \n",
    "              NumCol, qmin, qmax]\n"
   ]
  },
  {
   "cell_type": "code",
   "execution_count": 6,
   "metadata": {},
   "outputs": [],
   "source": [
    "oneboxCol = oneboxColMDP(discount, nq, nr, na, parameters)"
   ]
  },
  {
   "cell_type": "code",
   "execution_count": 7,
   "metadata": {},
   "outputs": [
    {
     "data": {
      "text/plain": [
       "array([[0.98884383, 0.94632188, 0.78975142, 0.52025343, 0.22028206,\n",
       "        0.98884383, 0.94632188, 0.78975142, 0.52025343, 0.22028206],\n",
       "       [0.01115617, 0.05367812, 0.21024858, 0.47974657, 0.77971794,\n",
       "        0.01115617, 0.05367812, 0.21024858, 0.47974657, 0.77971794]])"
      ]
     },
     "execution_count": 7,
     "metadata": {},
     "output_type": "execute_result"
    }
   ],
   "source": [
    "oneboxCol.setupMDP()\n",
    "oneboxCol.solveMDP_sfm()\n",
    "oneboxCol.softpolicy"
   ]
  },
  {
   "cell_type": "markdown",
   "metadata": {},
   "source": [
    "# Generate data"
   ]
  },
  {
   "cell_type": "code",
   "execution_count": 8,
   "metadata": {},
   "outputs": [],
   "source": [
    "T = 1000\n",
    "N = 2\n",
    "hiddenInitial = 0\n",
    "obsInitial = 0"
   ]
  },
  {
   "cell_type": "code",
   "execution_count": 9,
   "metadata": {},
   "outputs": [],
   "source": [
    "oneboxColdata = oneboxColMDPdata(discount, nq, nr, na, parameters, T, N)\n",
    "oneboxColdata.dataGenerate_sfm(hiddenInitial, obsInitial)   #softmax policy\n",
    "\n",
    "belief = oneboxColdata.belief\n",
    "action = oneboxColdata.action\n",
    "reward = oneboxColdata.reward\n",
    "hybrid = oneboxColdata.hybrid\n",
    "trueState = oneboxColdata.trueState\n",
    "color = oneboxColdata.color"
   ]
  },
  {
   "cell_type": "code",
   "execution_count": 10,
   "metadata": {},
   "outputs": [],
   "source": [
    "obsN = np.dstack([action, reward, color])\n",
    "latN = belief.copy()"
   ]
  },
  {
   "cell_type": "code",
   "execution_count": null,
   "metadata": {},
   "outputs": [],
   "source": []
  },
  {
   "cell_type": "code",
   "execution_count": null,
   "metadata": {},
   "outputs": [],
   "source": []
  },
  {
   "cell_type": "markdown",
   "metadata": {
    "heading_collapsed": true
   },
   "source": [
    "## Store data"
   ]
  },
  {
   "cell_type": "code",
   "execution_count": null,
   "metadata": {
    "hidden": true
   },
   "outputs": [],
   "source": [
    "from datetime import datetime\n",
    "import pickle"
   ]
  },
  {
   "cell_type": "code",
   "execution_count": null,
   "metadata": {
    "hidden": true
   },
   "outputs": [],
   "source": []
  },
  {
   "cell_type": "code",
   "execution_count": null,
   "metadata": {
    "hidden": true
   },
   "outputs": [],
   "source": [
    "# # sampleNum * sampleTime * dim of observations(=3 here, action, reward, location)\n",
    "# # organize data\n",
    "\n",
    "# datestring = datetime.strftime(datetime.now(), '%m%d%Y(%H%M)')\n",
    "\n",
    "# obsN = np.dstack([action, reward, color])  # includes the action and the observable states\n",
    "# latN = np.dstack([belief])\n",
    "# truthN = np.dstack([trueState])\n",
    "# dataN = np.dstack([obsN, latN, truthN])\n",
    "\n",
    "# ### write data to file\n",
    "# data_dict = {'observations': obsN,\n",
    "#              'beliefs': latN,\n",
    "#              'trueStates': truthN,\n",
    "#              'allData': dataN}\n",
    "# data_output = open(datestring + '_dataN_twobox' + '.pkl', 'wb')\n",
    "# pickle.dump(data_dict, data_output)\n",
    "# data_output.close()\n",
    "\n",
    "# ### write all model parameters to file\n",
    "# para_dict = {'discount': discount,\n",
    "#              'nq': nq,\n",
    "#              'nr': nr,\n",
    "#              'na': na,\n",
    "#              'foodDrop': beta,\n",
    "#              'appRate': gamma,\n",
    "#              'disappRate': epsilon,\n",
    "#              'consume': rho,\n",
    "#              'reward': Reward,\n",
    "#              'pushButtonCost': pushButtonCost\n",
    "#              }\n",
    "# para_output = open(datestring + '_para_twobox' + '.pkl', 'wb')\n",
    "# pickle.dump(para_dict, para_output)\n",
    "# para_output.close()\n",
    "\n",
    "# pkl_file1 = open(datestring + '_para_twobox' + '.pkl', 'rb')\n",
    "# para_pkl = pickle.load(pkl_file1)\n",
    "# pkl_file1.close()\n",
    "# #print(para_pkl['disappRate2'])\n",
    "\n",
    "# print('Data stored in files' )"
   ]
  },
  {
   "cell_type": "markdown",
   "metadata": {
    "heading_collapsed": true
   },
   "source": [
    "## retrieve data"
   ]
  },
  {
   "cell_type": "code",
   "execution_count": null,
   "metadata": {
    "hidden": true
   },
   "outputs": [],
   "source": [
    "import os\n",
    "path = os.getcwd()"
   ]
  },
  {
   "cell_type": "code",
   "execution_count": null,
   "metadata": {
    "hidden": true
   },
   "outputs": [],
   "source": [
    "pkl_file = open(path + '/11152018(1102)_dataN_twobox.pkl', 'rb')\n",
    "pkl_file1 = open(path + '/11152018(1102)_para_twobox.pkl', 'rb')"
   ]
  },
  {
   "cell_type": "code",
   "execution_count": null,
   "metadata": {
    "hidden": true
   },
   "outputs": [],
   "source": [
    "para_pkl = pickle.load(pkl_file1)\n",
    "pkl_file1.close()\n",
    "para_pkl.keys()"
   ]
  },
  {
   "cell_type": "code",
   "execution_count": null,
   "metadata": {
    "hidden": true
   },
   "outputs": [],
   "source": [
    "discount = para_pkl['discount']\n",
    "nq = para_pkl['nq']\n",
    "nr = para_pkl['nr']\n",
    "na = para_pkl['na']\n",
    "beta = para_pkl['foodDrop']\n",
    "gamma = para_pkl['appRate']\n",
    "epsilon = para_pkl['disappRate']\n",
    "rho = para_pkl['consume']\n",
    "Reward = para_pkl['reward']\n",
    "pushButtonCost = para_pkl['pushButtonCost']"
   ]
  },
  {
   "cell_type": "code",
   "execution_count": null,
   "metadata": {
    "hidden": true
   },
   "outputs": [],
   "source": []
  },
  {
   "cell_type": "code",
   "execution_count": null,
   "metadata": {
    "hidden": true
   },
   "outputs": [],
   "source": [
    "print(\"Get data from file...\")\n",
    "dataN_pkl = pickle.load(pkl_file)\n",
    "pkl_file.close()\n",
    "\n",
    "obsN = dataN_pkl['observations']\n",
    "latN = dataN_pkl['beliefs']\n",
    "truthN = dataN_pkl['trueStates']\n",
    "dataN = dataN_pkl['allData']"
   ]
  },
  {
   "cell_type": "code",
   "execution_count": null,
   "metadata": {
    "hidden": true
   },
   "outputs": [],
   "source": [
    "obs = obsN[0]\n",
    "lat = latN[0]"
   ]
  },
  {
   "cell_type": "code",
   "execution_count": null,
   "metadata": {
    "hidden": true
   },
   "outputs": [],
   "source": [
    "T = np.shape(obsN)[1]\n",
    "\n",
    "action, reward, color = obsN[0:, :, 0], obsN[0:, :, 1], obsN[0:, :, 2]\n",
    "belief = latN[:, :, 0]\n",
    "trueState = truthN[:, :, 0]\n",
    "\n",
    "hybrid = reward * nq + belief"
   ]
  },
  {
   "cell_type": "markdown",
   "metadata": {},
   "source": [
    "## show data"
   ]
  },
  {
   "cell_type": "code",
   "execution_count": 11,
   "metadata": {},
   "outputs": [
    {
     "data": {
      "image/png": "[encoded data removed]",
      "text/plain": [
       "<Figure size 1440x576 with 5 Axes>"
      ]
     },
     "metadata": {},
     "output_type": "display_data"
    }
   ],
   "source": [
    "showTime = 20\n",
    "\n",
    "data_true = np.reshape(trueState[0, 0:showTime], showTime)\n",
    "data_action = np.reshape(action[0, 0:showTime], showTime)\n",
    "data_reward = np.reshape(reward[0, 0:showTime], showTime)\n",
    "data_belief = np.reshape((belief[0, 0:showTime] + 1 / 2) / float(nq), showTime)\n",
    "data_hybrid = np.reshape(hybrid[0, 0:showTime], showTime)\n",
    "data_color = np.reshape(color[0, 0:showTime], showTime)\n",
    "\n",
    "# colorvalue = qmin + (qmax - qmin) / Ncol * data_color\n",
    "# colorvalue.reshape((1, colorvalue.shape[0]))\n",
    "# colormapR = (qmax - colorvalue) / (qmax - qmin) * 255\n",
    "# colormapG = np.zeros(np.shape(colorvalue))\n",
    "# colormapB = (colorvalue - qmin) / (qmax - qmin) * 255\n",
    "colormapR = (Ncol - data_color)* 255 / Ncol\n",
    "colormapG = np.zeros(np.shape(data_color))\n",
    "colormapB = data_color * 255 / Ncol\n",
    "colorimage = np.dstack((colormapR, colormapG, colormapB))\n",
    "colorImageShow = np.array(colorimage, dtype=np.uint8)\n",
    "\n",
    "actiontemp = data_action * (1 * (data_action % pb == 0)) / pb\n",
    "\n",
    "time = np.arange(0, showTime, 1)\n",
    "\n",
    "#if sampleTime < 1000:\n",
    "fig = plt.figure(figsize=(20, 8))\n",
    "ax1 = fig.add_subplot(411)\n",
    "ax3 = fig.add_subplot(412)\n",
    "ax4 = fig.add_subplot(413)\n",
    "ax5 = fig.add_subplot(414)\n",
    "\n",
    "ax1.plot(time, actiontemp, 'b*', label='action')\n",
    "ax1.legend(loc=1)\n",
    "ax1.set_xticks(np.arange(0, showTime, 5))\n",
    "ax1.set_xticks(np.arange(0, showTime, 1), minor=True)\n",
    "ax1.set_yticks(np.arange(0, 3, 1))\n",
    "a = ax1.get_yticks().tolist()\n",
    "a[0] = 'NA'\n",
    "a[1] = 'pb'\n",
    "ax1.set_yticklabels(a)\n",
    "ax1.set_yticks(ax1.get_yticks()[0:2])\n",
    "ax1.set_xlim(-1, showTime)\n",
    "ax1.grid(which='minor', alpha=0.5)\n",
    "ax1.grid(which='major', alpha=0.7)\n",
    "ax1.set_ylabel('action')\n",
    "\n",
    "ax2 = ax1.twinx()\n",
    "ax2.plot(time, data_reward, 'g', label='reward')\n",
    "ax2.legend(loc=1)\n",
    "ax2.set_xticks(np.arange(0, showTime, 5))\n",
    "ax2.set_xticks(np.arange(0, showTime, 1), minor=True)\n",
    "ax2.set_yticks(np.arange(0, 3, 1))\n",
    "ax2.grid(which='minor', alpha=0.5)\n",
    "ax2.grid(which='major', alpha=0.7)\n",
    "\n",
    "ax3.plot(time, data_true, 'c', label='trueState')\n",
    "ax3.set_xlim(-1, showTime)\n",
    "ax3.legend(loc=1)\n",
    "ax3.set_xticks(np.arange(0, showTime, 5))\n",
    "ax3.set_xticks(np.arange(0, showTime, 1), minor=True)\n",
    "ax3.set_yticks(np.arange(0, 1.2))\n",
    "ax3.grid(which='minor', alpha=0.5)\n",
    "ax3.grid(which='major', alpha=0.7)\n",
    "\n",
    "ax4.imshow(colorImageShow, interpolation='none')\n",
    "#ax4.legend(loc=1)\n",
    "ax4.set_xlim(-1, showTime)\n",
    "ax4.set_xticks(np.arange(0, showTime, 5))\n",
    "ax4.set_xticks(np.arange(0, showTime, 1), minor=True)\n",
    "#ax4.set_yticks(np.arange(0, Ncol + 1))\n",
    "ax4.grid(which='minor', alpha=0.5)\n",
    "ax4.grid(which='major', alpha=0.7)\n",
    "\n",
    "ax5.plot(time, data_belief, 'm', label='belief')\n",
    "ax5.set_xlim(-1, showTime)\n",
    "ax5.legend(loc=1)\n",
    "ax5.set_xticks(np.arange(0, showTime, 5))\n",
    "ax5.set_xticks(np.arange(0, showTime, 1), minor=True)\n",
    "ax5.set_yticks(np.arange(0, 1, 2 * 1 / float(nq)))\n",
    "ax5.set_yticks(np.arange(0, 1, 1 / float(nq)), minor=True)\n",
    "ax5.grid(which='minor', alpha=0.5)\n",
    "ax5.grid(which='major', alpha=0.7)\n",
    "ax5.set_ylabel('belief')\n",
    "\n",
    "plt.show()"
   ]
  },
  {
   "cell_type": "code",
   "execution_count": null,
   "metadata": {},
   "outputs": [],
   "source": []
  },
  {
   "cell_type": "code",
   "execution_count": null,
   "metadata": {},
   "outputs": [],
   "source": []
  },
  {
   "cell_type": "markdown",
   "metadata": {},
   "source": [
    "# Inference"
   ]
  },
  {
   "cell_type": "code",
   "execution_count": 12,
   "metadata": {},
   "outputs": [],
   "source": [
    "from oneboxCol import *\n",
    "from HMMoneboxCol import *"
   ]
  },
  {
   "cell_type": "code",
   "execution_count": 13,
   "metadata": {},
   "outputs": [
    {
     "data": {
      "text/plain": [
       "[0, 0.3, 0.1, 1, 0.6, 4, 0.3, 0.7]"
      ]
     },
     "execution_count": 13,
     "metadata": {},
     "output_type": "execute_result"
    }
   ],
   "source": [
    "#parameters = [0, gamma, epsilon, 1, pushButtonCost, 4, 0.4, 0.6]\n",
    "parameters = [beta, gamma, epsilon, rho, pushButtonCost, NumCol, qmin, qmax]\n",
    "parameters"
   ]
  },
  {
   "cell_type": "code",
   "execution_count": 14,
   "metadata": {},
   "outputs": [],
   "source": [
    "obs = obsN[0]\n",
    "lat = latN[0]"
   ]
  },
  {
   "cell_type": "code",
   "execution_count": 15,
   "metadata": {},
   "outputs": [
    {
     "name": "stdout",
     "output_type": "stream",
     "text": [
      "The true paramters are:                [0, 0.3, 0.1, 1, 0.6, 4, 0.3, 0.7]\n",
      "The initial estimation parameters are: [0, 0.5, 0.3, 1, 0.3, 4, 0.1, 0.8]\n",
      "Now starting with some initialized value of the parameters, we are going to use EM(G) algorithm for parameter estimation:\n"
     ]
    }
   ],
   "source": [
    "beta_ini = 0\n",
    "gamma_ini = 0.5\n",
    "epsilon_ini = 0.3\n",
    "rho_ini = 1\n",
    "pushButtonCost_ini = 0.3\n",
    "NumCol_ini = NumCol\n",
    "qmin_ini = 0.1\n",
    "qmax_ini = 0.8\n",
    "\n",
    "parameters_ini = [beta_ini, gamma_ini, epsilon_ini, rho_ini, pushButtonCost_ini, \n",
    "                  NumCol_ini, qmin_ini, qmax_ini]\n",
    "parameters_old = np.copy(parameters_ini)\n",
    "\n",
    "print(\"The true paramters are:               \", parameters )\n",
    "print(\"The initial estimation parameters are:\", parameters_ini) \n",
    "print (\"Now starting with some initialized value of the parameters, we are going to use EM(G) \" \\\n",
    "\"algorithm for parameter estimation:\")"
   ]
  },
  {
   "cell_type": "code",
   "execution_count": 16,
   "metadata": {},
   "outputs": [
    {
     "name": "stdout",
     "output_type": "stream",
     "text": [
      "\n",
      "The 0 -th iteration of the EM(G) algorithm\n",
      "[0.  0.5 0.3 1.  0.3 4.  0.1 0.8]\n",
      "-3602.030258289283\n",
      "-3518.8822473789746\n",
      "\n",
      " M-step \n",
      "[0.  0.5 0.3 1.  0.3 4.  0.1 0.8]\n",
      "-3602.030258289283\n",
      "-3518.8822473789746\n",
      "[0.         0.31447376 0.24632252 1.         0.52260303 4.\n",
      " 0.19172504 0.81562034]\n",
      "-2298.5113484013636\n",
      "-2215.363337491055\n",
      "\n",
      "The 1 -th iteration of the EM(G) algorithm\n",
      "[0.         0.31447376 0.24632252 1.         0.52260303 4.\n",
      " 0.19172504 0.81562034]\n",
      "-1861.5141073426025\n",
      "-1745.914734544624\n",
      "\n",
      " M-step \n",
      "[0.         0.31447376 0.24632252 1.         0.52260303 4.\n",
      " 0.19172504 0.81562034]\n",
      "-1861.5141073426025\n",
      "-1745.914734544624\n",
      "[0.         0.31422144 0.24441532 1.         0.53366026 4.\n",
      " 0.19840156 0.78154676]\n",
      "-1849.0921107244503\n",
      "-1733.4927379264718\n",
      "\n",
      "The 2 -th iteration of the EM(G) algorithm\n",
      "[0.         0.31422144 0.24441532 1.         0.53366026 4.\n",
      " 0.19840156 0.78154676]\n",
      "-1791.7689322307504\n",
      "-1689.5817633860481\n",
      "\n",
      " M-step \n",
      "[0.         0.31422144 0.24441532 1.         0.53366026 4.\n",
      " 0.19840156 0.78154676]\n",
      "-1791.7689322307504\n",
      "-1689.5817633860481\n",
      "[0.         0.31611634 0.24204    1.         0.54159733 4.\n",
      " 0.20573035 0.75511666]\n",
      "-1770.6047866857944\n",
      "-1668.4176178410921\n",
      "\n",
      "The 3 -th iteration of the EM(G) algorithm\n",
      "[0.         0.31611634 0.24204    1.         0.54159733 4.\n",
      " 0.20573035 0.75511666]\n",
      "-1789.0713532861284\n",
      "-1651.700370198358\n",
      "\n",
      " M-step \n",
      "[0.         0.31611634 0.24204    1.         0.54159733 4.\n",
      " 0.20573035 0.75511666]\n",
      "-1789.0713532861284\n",
      "-1651.700370198358\n",
      "[0.         0.3178237  0.23921616 1.         0.54736102 4.\n",
      " 0.21214887 0.73006079]\n",
      "-1787.0694713287264\n",
      "-1649.698488240956\n",
      "\n",
      "The 4 -th iteration of the EM(G) algorithm\n",
      "[0.         0.3178237  0.23921616 1.         0.54736102 4.\n",
      " 0.21214887 0.73006079]\n",
      "-1793.87727519954\n",
      "-1620.771996535277\n",
      "\n",
      " M-step \n",
      "[0.         0.3178237  0.23921616 1.         0.54736102 4.\n",
      " 0.21214887 0.73006079]\n",
      "-1793.87727519954\n",
      "-1620.771996535277\n",
      "\n",
      "The 5 -th iteration of the EM(G) algorithm\n",
      "[0.         0.3178237  0.23921616 1.         0.54736102 4.\n",
      " 0.21214887 0.73006079]\n",
      "-1793.87727519954\n",
      "-1620.771996535277\n",
      "EM has converged!\n",
      "end of EM\n"
     ]
    }
   ],
   "source": [
    "import timeit\n",
    "\n",
    "start = timeit.default_timer()\n",
    "\n",
    "NN1 = 100  # iteration number for the EM algorithm\n",
    "eps = 10 ** -6\n",
    "\n",
    "para_old_traj = []\n",
    "para_new_traj = []\n",
    "\n",
    "log_likelihoods_old = []\n",
    "log_likelihoods_new = []\n",
    "log_likelihoods_com_old = []  # old posterior, old parameters\n",
    "log_likelihoods_com_new = []  # old posterior, new parameters\n",
    "latent_entropies = []\n",
    "\n",
    "count_E = 0\n",
    "while count_E < NN1:\n",
    "\n",
    "    print('\\nThe', count_E, '-th iteration of the EM(G) algorithm')\n",
    "\n",
    "    if count_E == 0:\n",
    "        parameters_old = np.array(parameters_ini)\n",
    "    else:\n",
    "        parameters_old = np.copy(parameters_new)  # update parameters\n",
    "\n",
    "    para_old_traj.append(parameters_old)\n",
    "    print(parameters_old)\n",
    "\n",
    "    ##########  E-step ##########\n",
    "\n",
    "    ## Use old parameters to estimate posterior\n",
    "    oneboxColder = oneboxColMDPder(discount, nq, nr, na, parameters_old)\n",
    "    ThA_old = oneboxColder.ThA\n",
    "    softpolicy_old = oneboxColder.softpolicy\n",
    "    TBo_old = oneboxColder.Trans_hybrid_obs\n",
    "    OE_TS_old = oneboxColder.Obs_emis_trans\n",
    "    pi = np.ones(nq) / nq\n",
    "    Ncol_old = parameters_old[5].astype(int) - 1\n",
    "    oneHMMCol = HMMoneboxCol(ThA_old, softpolicy_old, TBo_old, OE_TS_old, pi, Ncol_old)\n",
    "\n",
    "    ## Calculate likelihood of observed and complete date, and entropy of the latent sequence\n",
    "    complete_likelihood_old = oneHMMCol.computeQaux(obs, ThA_old, softpolicy_old, TBo_old)\n",
    "    latent_entropy = oneHMMCol.latent_entr(obs)\n",
    "    log_likelihood = complete_likelihood_old + latent_entropy\n",
    "\n",
    "    log_likelihoods_com_old.append(complete_likelihood_old)\n",
    "\n",
    "    latent_entropies.append(latent_entropy)\n",
    "    log_likelihoods_old.append(log_likelihood)\n",
    "\n",
    "    print(complete_likelihood_old)\n",
    "    print(log_likelihood)\n",
    "\n",
    "    ## Check convergence\n",
    "    if len(log_likelihoods_old) >= 2 and np.abs(log_likelihood - log_likelihoods_old[-2]) < eps:\n",
    "        print('EM has converged!')\n",
    "        break\n",
    "\n",
    "    ##########  M(G)-step ##########\n",
    "\n",
    "    count_M = 0\n",
    "    para_new_traj.append([])\n",
    "    log_likelihoods_com_new.append([])\n",
    "    log_likelihoods_new.append([])\n",
    "    stepsize = 2 * 10 ** -5\n",
    "\n",
    "    # Start the gradient descent from the old parameters\n",
    "    parameters_new = np.copy(parameters_old)\n",
    "    complete_likelihood_new = complete_likelihood_old\n",
    "    likelihood = complete_likelihood_new + latent_entropy\n",
    "\n",
    "    para_new_traj[count_E].append(parameters_new)\n",
    "    log_likelihoods_com_new[count_E].append(complete_likelihood_new)\n",
    "    log_likelihoods_new[count_E].append(likelihood)\n",
    "\n",
    "    print('\\n M-step ')\n",
    "    print(parameters_new)\n",
    "    print(complete_likelihood_new)\n",
    "    print(likelihood)\n",
    "\n",
    "    while True:\n",
    "        #print(np.array(oneboxColder.dQauxdpara_sim(obs, parameters_new)))\n",
    "        ## Go the potential next point with gradient descent\n",
    "        para_temp = parameters_new + stepsize * np.array(oneboxColder.dQauxdpara_sim(obs, parameters_new))\n",
    "        #temp = np.copy(para_temp)\n",
    "        #para_temp = np.copy(parameters_old)\n",
    "\n",
    "        ## Check the ECDLL (old posterior, new parameters)\n",
    "        onebox_new = oneboxColMDP(discount, nq, nr, na, para_temp)\n",
    "        onebox_new.setupMDP()\n",
    "        onebox_new.solveMDP_sfm()\n",
    "        ThA_new = onebox_new.ThA\n",
    "        softpolicy_new = onebox_new.softpolicy\n",
    "\n",
    "        TBo_new = onebox_new.Trans_hybrid_obs\n",
    "        OE_TS_new = onebox_new.Obs_emis_trans\n",
    "        pi = np.ones(nq) / nq\n",
    "        Ncol_new = para_temp[5] - 1\n",
    "        oneHMMCol_new = HMMoneboxCol(ThA_new, softpolicy_new, TBo_old, OE_TS_new, pi, Ncol_new)\n",
    "\n",
    "        complete_likelihood_new_temp = oneHMMCol.computeQaux(obs, ThA_new, softpolicy_new, TBo_new)\n",
    "\n",
    "        ## Update the parameter if the ECDLL can be improved\n",
    "        if complete_likelihood_new_temp > complete_likelihood_new:\n",
    "            parameters_new = np.copy(para_temp)\n",
    "\n",
    "            complete_likelihood_new = complete_likelihood_new_temp\n",
    "            likelihood = complete_likelihood_new + latent_entropy\n",
    "\n",
    "            para_new_traj[count_E].append(parameters_new)\n",
    "            log_likelihoods_com_new[count_E].append(complete_likelihood_new)\n",
    "            log_likelihoods_new[count_E].append(likelihood)\n",
    "\n",
    "            print(parameters_new)\n",
    "            print(complete_likelihood_new)\n",
    "            print(likelihood)\n",
    "\n",
    "            count_M += 1\n",
    "        else:\n",
    "            stepsize /= 2\n",
    "            if stepsize < 5 * 10 ** -4:\n",
    "                break\n",
    "\n",
    "    count_E += 1\n",
    "\n",
    "print('end of EM')\n",
    "stop = timeit.default_timer()"
   ]
  },
  {
   "cell_type": "code",
   "execution_count": 17,
   "metadata": {},
   "outputs": [
    {
     "data": {
      "text/plain": [
       "[0, 0.3, 0.1, 1, 0.6, 4, 0.3, 0.7]"
      ]
     },
     "execution_count": 17,
     "metadata": {},
     "output_type": "execute_result"
    }
   ],
   "source": [
    "parameters"
   ]
  },
  {
   "cell_type": "code",
   "execution_count": 18,
   "metadata": {},
   "outputs": [
    {
     "data": {
      "text/plain": [
       "[0, 0.5, 0.3, 1, 0.3, 4, 0.1, 0.8]"
      ]
     },
     "execution_count": 18,
     "metadata": {},
     "output_type": "execute_result"
    }
   ],
   "source": [
    "parameters_ini"
   ]
  },
  {
   "cell_type": "code",
   "execution_count": 19,
   "metadata": {},
   "outputs": [
    {
     "data": {
      "text/plain": [
       "array([0.        , 0.3178237 , 0.23921616, 1.        , 0.54736102,\n",
       "       4.        , 0.21214887, 0.73006079])"
      ]
     },
     "execution_count": 19,
     "metadata": {},
     "output_type": "execute_result"
    }
   ],
   "source": [
    "parameters_new"
   ]
  },
  {
   "cell_type": "code",
   "execution_count": null,
   "metadata": {},
   "outputs": [],
   "source": [
    "#fig_contour.savefig('contour.pdf', format='pdf')"
   ]
  },
  {
   "cell_type": "markdown",
   "metadata": {},
   "source": [
    "## Check Contour"
   ]
  },
  {
   "cell_type": "code",
   "execution_count": 20,
   "metadata": {},
   "outputs": [],
   "source": [
    "from sklearn.decomposition import PCA\n",
    "from mpl_toolkits.mplot3d import Axes3D\n",
    "import matplotlib.pyplot as plt"
   ]
  },
  {
   "cell_type": "code",
   "execution_count": 21,
   "metadata": {},
   "outputs": [
    {
     "data": {
      "text/plain": [
       "PCA(copy=True, iterated_power='auto', n_components=2, random_state=None,\n",
       "  svd_solver='auto', tol=0.0, whiten=False)"
      ]
     },
     "execution_count": 21,
     "metadata": {},
     "output_type": "execute_result"
    }
   ],
   "source": [
    "L = len(para_old_traj) - 1\n",
    "\n",
    "point = np.zeros((L, 8))\n",
    "for i in range(L):\n",
    "    point[i]  = para_old_traj[i + 1]\n",
    "\n",
    "pca = PCA(n_components = 2)\n",
    "pca.fit(point)"
   ]
  },
  {
   "cell_type": "code",
   "execution_count": 36,
   "metadata": {},
   "outputs": [],
   "source": [
    "projectionMat = pca.components_\n",
    "projectionMat = np.multiply(projectionMat, (np.abs(projectionMat) > 10** -10).astype(int))\n"
   ]
  },
  {
   "cell_type": "code",
   "execution_count": null,
   "metadata": {},
   "outputs": [],
   "source": []
  },
  {
   "cell_type": "code",
   "execution_count": null,
   "metadata": {},
   "outputs": [],
   "source": []
  },
  {
   "cell_type": "code",
   "execution_count": 38,
   "metadata": {},
   "outputs": [
    {
     "name": "stderr",
     "output_type": "stream",
     "text": [
      "/Users/zhengwei/Dropbox (Personal)/BCM/_Code/inversePOMDP/Code/MDPclass.py:418: RuntimeWarning: divide by zero encountered in double_scalars\n",
      "  span ) / _math.log(self.discount * k))\n"
     ]
    },
    {
     "ename": "OverflowError",
     "evalue": "cannot convert float infinity to integer",
     "output_type": "error",
     "traceback": [
      "\u001b[0;31m---------------------------------------------------------------------------\u001b[0m",
      "\u001b[0;31mOverflowError\u001b[0m                             Traceback (most recent call last)",
      "\u001b[0;32m<ipython-input-38-fc722a1c60ba>\u001b[0m in \u001b[0;36m<module>\u001b[0;34m()\u001b[0m\n\u001b[1;32m     27\u001b[0m         \u001b[0moneCol\u001b[0m \u001b[0;34m=\u001b[0m \u001b[0moneboxColMDP\u001b[0m\u001b[0;34m(\u001b[0m\u001b[0mdiscount\u001b[0m\u001b[0;34m,\u001b[0m \u001b[0mnq\u001b[0m\u001b[0;34m,\u001b[0m \u001b[0mnr\u001b[0m\u001b[0;34m,\u001b[0m \u001b[0mna\u001b[0m\u001b[0;34m,\u001b[0m \u001b[0mpara\u001b[0m\u001b[0;34m)\u001b[0m\u001b[0;34m\u001b[0m\u001b[0m\n\u001b[1;32m     28\u001b[0m         \u001b[0moneCol\u001b[0m\u001b[0;34m.\u001b[0m\u001b[0msetupMDP\u001b[0m\u001b[0;34m(\u001b[0m\u001b[0;34m)\u001b[0m\u001b[0;34m\u001b[0m\u001b[0m\n\u001b[0;32m---> 29\u001b[0;31m         \u001b[0moneCol\u001b[0m\u001b[0;34m.\u001b[0m\u001b[0msolveMDP_sfm\u001b[0m\u001b[0;34m(\u001b[0m\u001b[0;34m)\u001b[0m\u001b[0;34m\u001b[0m\u001b[0m\n\u001b[0m\u001b[1;32m     30\u001b[0m         \u001b[0;31m#print(oneCol.Vsfm)\u001b[0m\u001b[0;34m\u001b[0m\u001b[0;34m\u001b[0m\u001b[0m\n\u001b[1;32m     31\u001b[0m         \u001b[0mThA\u001b[0m \u001b[0;34m=\u001b[0m \u001b[0moneCol\u001b[0m\u001b[0;34m.\u001b[0m\u001b[0mThA\u001b[0m\u001b[0;34m\u001b[0m\u001b[0m\n",
      "\u001b[0;32m~/Dropbox (Personal)/BCM/_Code/inversePOMDP/Code/oneboxCol.py\u001b[0m in \u001b[0;36msolveMDP_sfm\u001b[0;34m(self, epsilon, niterations, initial_value)\u001b[0m\n\u001b[1;32m    160\u001b[0m         \"\"\"\n\u001b[1;32m    161\u001b[0m \u001b[0;34m\u001b[0m\u001b[0m\n\u001b[0;32m--> 162\u001b[0;31m         \u001b[0mvi\u001b[0m \u001b[0;34m=\u001b[0m \u001b[0mValueIteration_sfmZW\u001b[0m\u001b[0;34m(\u001b[0m\u001b[0mself\u001b[0m\u001b[0;34m.\u001b[0m\u001b[0mThA\u001b[0m\u001b[0;34m,\u001b[0m \u001b[0mself\u001b[0m\u001b[0;34m.\u001b[0m\u001b[0mR\u001b[0m\u001b[0;34m,\u001b[0m \u001b[0mself\u001b[0m\u001b[0;34m.\u001b[0m\u001b[0mdiscount\u001b[0m\u001b[0;34m,\u001b[0m \u001b[0mepsilon\u001b[0m\u001b[0;34m,\u001b[0m \u001b[0mniterations\u001b[0m\u001b[0;34m,\u001b[0m \u001b[0minitial_value\u001b[0m\u001b[0;34m)\u001b[0m\u001b[0;34m\u001b[0m\u001b[0m\n\u001b[0m\u001b[1;32m    163\u001b[0m         \u001b[0;31m#values = vi.run(temperatureQ)\u001b[0m\u001b[0;34m\u001b[0m\u001b[0;34m\u001b[0m\u001b[0m\n\u001b[1;32m    164\u001b[0m         \u001b[0mvi\u001b[0m\u001b[0;34m.\u001b[0m\u001b[0mrun\u001b[0m\u001b[0;34m(\u001b[0m\u001b[0mtemperatureQ\u001b[0m\u001b[0;34m)\u001b[0m\u001b[0;34m\u001b[0m\u001b[0m\n",
      "\u001b[0;32m~/Dropbox (Personal)/BCM/_Code/inversePOMDP/Code/MDPclass.py\u001b[0m in \u001b[0;36m__init__\u001b[0;34m(self, transitions, reward, discount, epsilon, max_iter, initial_value)\u001b[0m\n\u001b[1;32m    367\u001b[0m             \u001b[0;31m# compute a bound for the number of iterations and update the\u001b[0m\u001b[0;34m\u001b[0m\u001b[0;34m\u001b[0m\u001b[0m\n\u001b[1;32m    368\u001b[0m             \u001b[0;31m# stored value of self.max_iter\u001b[0m\u001b[0;34m\u001b[0m\u001b[0;34m\u001b[0m\u001b[0m\n\u001b[0;32m--> 369\u001b[0;31m             \u001b[0mself\u001b[0m\u001b[0;34m.\u001b[0m\u001b[0m_boundIter\u001b[0m\u001b[0;34m(\u001b[0m\u001b[0mepsilon\u001b[0m\u001b[0;34m)\u001b[0m\u001b[0;34m\u001b[0m\u001b[0m\n\u001b[0m\u001b[1;32m    370\u001b[0m             \u001b[0;31m# computation of threshold of variation for V for an epsilon-\u001b[0m\u001b[0;34m\u001b[0m\u001b[0;34m\u001b[0m\u001b[0m\n\u001b[1;32m    371\u001b[0m             \u001b[0;31m# optimal policy\u001b[0m\u001b[0;34m\u001b[0m\u001b[0;34m\u001b[0m\u001b[0m\n",
      "\u001b[0;32m~/Dropbox (Personal)/BCM/_Code/inversePOMDP/Code/MDPclass.py\u001b[0m in \u001b[0;36m_boundIter\u001b[0;34m(self, epsilon)\u001b[0m\n\u001b[1;32m    419\u001b[0m         \u001b[0;31m#self.V = Vprev\u001b[0m\u001b[0;34m\u001b[0m\u001b[0;34m\u001b[0m\u001b[0m\n\u001b[1;32m    420\u001b[0m \u001b[0;34m\u001b[0m\u001b[0m\n\u001b[0;32m--> 421\u001b[0;31m         \u001b[0mself\u001b[0m\u001b[0;34m.\u001b[0m\u001b[0mmax_iter\u001b[0m \u001b[0;34m=\u001b[0m \u001b[0mint\u001b[0m\u001b[0;34m(\u001b[0m\u001b[0m_math\u001b[0m\u001b[0;34m.\u001b[0m\u001b[0mceil\u001b[0m\u001b[0;34m(\u001b[0m\u001b[0mmax_iter\u001b[0m\u001b[0;34m)\u001b[0m\u001b[0;34m)\u001b[0m\u001b[0;34m\u001b[0m\u001b[0m\n\u001b[0m\u001b[1;32m    422\u001b[0m \u001b[0;34m\u001b[0m\u001b[0m\n\u001b[1;32m    423\u001b[0m     \u001b[0;32mdef\u001b[0m \u001b[0mrun\u001b[0m\u001b[0;34m(\u001b[0m\u001b[0mself\u001b[0m\u001b[0;34m,\u001b[0m \u001b[0mtemperature\u001b[0m\u001b[0;34m)\u001b[0m\u001b[0;34m:\u001b[0m\u001b[0;34m\u001b[0m\u001b[0m\n",
      "\u001b[0;31mOverflowError\u001b[0m: cannot convert float infinity to integer"
     ]
    }
   ],
   "source": [
    "step1 = 0.04    # for u (1st principle component)\n",
    "step2 = 0.04   # for v (2nd principle component)\n",
    "N1 = 10\n",
    "N2 = 10\n",
    "uOffset = - step1 * N1 / 2 \n",
    "vOffset = - step2 * N2 / 2\n",
    "\n",
    "uValue = np.zeros(N1)\n",
    "vValue = np.zeros(N2)\n",
    "Qaux1 = np.zeros((N2, N1))    # Likelihood with ground truth latent\n",
    "Qaux2 = np.zeros((N2, N1))    # Expected complete data likelihood\n",
    "Qaux3 = np.zeros((N2, N1))    # Entropy of latent posterior\n",
    "para_slice = []\n",
    "\n",
    "for i in range(N1):\n",
    "    uValue[i] = step1 * (i) + uOffset\n",
    "    for j in range(N2):\n",
    "        vValue[j] = step2 * (j) + vOffset\n",
    "\n",
    "        #para_slicePoints = [0, uValue[i], 0.05, 1, 0.3, 3, vValue[j], 0.6]\n",
    "        para_slicePoints = point[-1] + uValue[i] * projectionMat[0] + vValue[j] * projectionMat[1]\n",
    "        #print(para_slicePoints)\n",
    "        para_slice.append(para_slicePoints)\n",
    "        para = np.copy(para_slicePoints)\n",
    "        \n",
    "        ####### Compute value for contour\n",
    "        oneCol = oneboxColMDP(discount, nq, nr, na, para)\n",
    "        oneCol.setupMDP()\n",
    "        oneCol.solveMDP_sfm()\n",
    "        #print(oneCol.Vsfm)\n",
    "        ThA = oneCol.ThA\n",
    "        policy = oneCol.softpolicy\n",
    "        pi = np.ones(nq)/ nq  # initialize the estimation of the belief state\n",
    "        TBo = oneCol.Trans_hybrid_obs\n",
    "        OE_TS = oneCol.Obs_emis_trans\n",
    "        oneColHMM = HMMoneboxCol(ThA, policy, TBo, OE_TS, pi, 3)\n",
    "        \n",
    "        #Qaux1[j, i] = twoboxHMM.likelihood(lat, obs, ThA, policy)  #given latent state\n",
    "        Qaux2[j, i] = oneColHMM.computeQaux(obs, ThA, policy, TBo) \n",
    "        Qaux3[j, i] = oneColHMM.latent_entr(obs) "
   ]
  },
  {
   "cell_type": "code",
   "execution_count": null,
   "metadata": {},
   "outputs": [],
   "source": [
    "Likelihood = Qaux2 + Qaux3"
   ]
  },
  {
   "cell_type": "code",
   "execution_count": null,
   "metadata": {},
   "outputs": [],
   "source": [
    "point[-1]"
   ]
  },
  {
   "cell_type": "code",
   "execution_count": null,
   "metadata": {},
   "outputs": [],
   "source": [
    "# project the trajectories onto the plane\n",
    "point_2d = projectionMat.dot((point - point[-1]).T).T   \n",
    "\n",
    "# true parameters projected onto the plane\n",
    "true_2d = projectionMat.dot(parameters - point[-1])\n",
    "\n",
    "fig_contour, ax = plt.subplots(figsize = (8,8))\n",
    "uValuemesh, vValuemesh = np.meshgrid(uValue, vValue)\n",
    "cs3 = plt.contour(uValuemesh, vValuemesh, Likelihood, \n",
    "                  np.arange(np.min(Likelihood), np.max(Likelihood), 50))\n",
    "#cs3 = plt.contour(uValuemesh, vValuemesh, Likelihood, \n",
    "#                  np.arange(-13000, -3000, 50))\n",
    "#plt.xticks(np.arange(0, 1, 0.1))\n",
    "#plt.yticks(np.arange(0, 1, 0.1))\n",
    "plt.plot(point_2d[:, 0], point_2d[:, 1], marker='.', color = 'b')   # projected trajectories\n",
    "plt.plot(0, 0, marker='*', color = 'b')                             # final point\n",
    "plt.plot(true_2d[0], true_2d[1], marker='o', color = 'r')           # true\n",
    "\n",
    "\n",
    "ax.grid()\n",
    "ax.set_title('Likelihood of observed data')\n",
    "# plt.xlabel(r'$u \\mathbf{\\theta}$', fontsize = 10)\n",
    "# plt.ylabel(r'$v \\mathbf{\\theta}$', fontsize = 10)\n",
    "plt.xlabel('p_diappear')\n",
    "plt.ylabel('q_min')\n",
    "plt.clabel(cs3, inline=1, fontsize=10)\n",
    "plt.colorbar()\n",
    "plt.show()"
   ]
  },
  {
   "cell_type": "code",
   "execution_count": null,
   "metadata": {},
   "outputs": [],
   "source": []
  },
  {
   "cell_type": "code",
   "execution_count": null,
   "metadata": {},
   "outputs": [],
   "source": []
  },
  {
   "cell_type": "markdown",
   "metadata": {},
   "source": [
    "# Check posterior with estimated parameters"
   ]
  },
  {
   "cell_type": "code",
   "execution_count": null,
   "metadata": {},
   "outputs": [],
   "source": [
    "para_test =  parameters_new "
   ]
  },
  {
   "cell_type": "code",
   "execution_count": null,
   "metadata": {},
   "outputs": [],
   "source": [
    "onebox_test = oneboxColMDPder(discount, nq, nr, na, para_test)\n",
    "ThA_test = onebox_test.ThA\n",
    "softpolicy_test = onebox_test.softpolicy\n",
    "TBo_test = onebox_test.Trans_hybrid_obs\n",
    "OE_TS_test = onebox_test.Obs_emis_trans\n",
    "pi = np.ones(nq) / nq \n",
    "oneHMM_test = HMMoneboxCol(ThA_test, softpolicy_test, TBo_test, OE_TS_test, pi, 3)\n",
    "\n",
    "alpha_test, scale_test = oneHMM_test.forward_scale(obs)\n",
    "beta_test = oneHMM_test.backward_scale(obs, scale_test)\n",
    "gamma_test = oneHMM_test.compute_gamma(alpha_test, beta_test)\n",
    "xi_test = oneHMM_test.compute_xi(alpha_test, beta_test, obs)\n",
    "#realxi_test = oneHMM_test.realxi(lat, obs)\n",
    "showT = 80\n",
    "fig, ax = plt.subplots(figsize= (20, 20))\n",
    "plt.imshow(np.flipud(gamma_test[:, 50:showT+50]), interpolation='Nearest', cmap='gray')\n",
    "plt.plot(nq - 1 - lat[50:showT+50], color = 'r',marker ='.', markersize = 15)\n",
    "plt.xticks(np.arange(0, showT, 10))\n",
    "plt.xlabel('time')\n",
    "plt.ylabel('belief state')\n",
    "\n",
    "plt.show()"
   ]
  },
  {
   "cell_type": "code",
   "execution_count": null,
   "metadata": {},
   "outputs": [],
   "source": [
    "posterior_ave = np.zeros((nq, nq))\n",
    "for i in range(nq):\n",
    "    ind = np.where(lat == i)[0]\n",
    "    posterior_ave[:, i] = np.sum(gamma_test[:, ind], axis = 1)/np.size(ind)"
   ]
  },
  {
   "cell_type": "code",
   "execution_count": null,
   "metadata": {},
   "outputs": [],
   "source": [
    "plt.imshow(posterior_ave)\n",
    "plt.xlabel('true belief')\n",
    "plt.ylabel('average distribution of belief posterior')\n",
    "plt.show()"
   ]
  },
  {
   "cell_type": "code",
   "execution_count": null,
   "metadata": {},
   "outputs": [],
   "source": []
  }
 ],
 "metadata": {
  "kernelspec": {
   "display_name": "Python 3",
   "language": "python",
   "name": "python3"
  },
  "language_info": {
   "codemirror_mode": {
    "name": "ipython",
    "version": 3
   },
   "file_extension": ".py",
   "mimetype": "text/x-python",
   "name": "python",
   "nbconvert_exporter": "python",
   "pygments_lexer": "ipython3",
   "version": "3.6.5"
  }
 },
 "nbformat": 4,
 "nbformat_minor": 2
}
