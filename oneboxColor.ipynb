{
 "cells": [
  {
   "cell_type": "code",
   "execution_count": 1,
   "metadata": {},
   "outputs": [],
   "source": [
    "from __future__ import division\n",
    "from boxtask_func import *\n",
    "from MDPclass import *\n",
    "from oneboxCol import *"
   ]
  },
  {
   "cell_type": "code",
   "execution_count": 2,
   "metadata": {},
   "outputs": [],
   "source": [
    "import numpy as np\n",
    "from scipy.stats import binom\n",
    "from scipy.integrate import quad\n",
    "import matplotlib.pyplot as plt\n",
    "\n",
    "from scipy.linalg import toeplitz, expm\n",
    "from scipy import optimize\n",
    "from math import sqrt\n",
    "from scipy.stats import norm"
   ]
  },
  {
   "cell_type": "code",
   "execution_count": 3,
   "metadata": {},
   "outputs": [],
   "source": [
    "import matplotlib as mpl\n",
    "# pdf.fontype and ps.fontype must be set to 42 in order for text in exported figure to be editable in Adobe Illustrator\n",
    "mpl.rcParams['pdf.fonttype'] = 42\n",
    "mpl.rcParams['ps.fonttype'] = 42"
   ]
  },
  {
   "cell_type": "markdown",
   "metadata": {
    "heading_collapsed": true
   },
   "source": [
    "# transition probability"
   ]
  },
  {
   "cell_type": "code",
   "execution_count": 4,
   "metadata": {
    "hidden": true
   },
   "outputs": [],
   "source": [
    "p_appear = 0.2\n",
    "p_disappear = 0.05"
   ]
  },
  {
   "cell_type": "code",
   "execution_count": 5,
   "metadata": {
    "hidden": true
   },
   "outputs": [],
   "source": [
    "nq = 5 # number of belief states per box\n",
    "nr = 2  # number of reward states\n",
    "na = 2"
   ]
  },
  {
   "cell_type": "code",
   "execution_count": 6,
   "metadata": {
    "hidden": true
   },
   "outputs": [],
   "source": [
    "NumCol = 4\n",
    "qmin = 0.3\n",
    "qmax = 0.7\n",
    "Ncol = NumCol - 1\n",
    "\n"
   ]
  },
  {
   "cell_type": "code",
   "execution_count": 11,
   "metadata": {
    "hidden": true
   },
   "outputs": [],
   "source": [
    "Trans_state = np.array([[1-p_appear, p_disappear], \n",
    "                        [p_appear, 1-p_disappear]])\n",
    "Obs_emis = np.zeros((Ncol + 1, 2))    #Observation(color) generation\n",
    "Obs_emis[:, 0] = binom.pmf(range(Ncol + 1),Ncol,qmax)\n",
    "Obs_emis[:, 1] = binom.pmf(range(Ncol + 1),Ncol,qmin)"
   ]
  },
  {
   "cell_type": "code",
   "execution_count": null,
   "metadata": {
    "hidden": true
   },
   "outputs": [],
   "source": []
  },
  {
   "cell_type": "code",
   "execution_count": null,
   "metadata": {
    "hidden": true
   },
   "outputs": [],
   "source": []
  },
  {
   "cell_type": "code",
   "execution_count": 12,
   "metadata": {
    "hidden": true
   },
   "outputs": [],
   "source": [
    "belief_old = np.arange(0, 1, 0.01)\n",
    "N = len(belief_old)\n",
    "\n",
    "beliefupdate = Trans_state.dot(np.array([1-belief_old, belief_old]))\n",
    "belief_new = beliefupdate[1, :]\n",
    "ObsPro = Obs_emis.dot(beliefupdate)\n",
    "belief_new_obs = np.outer(Obs_emis[:, 1], belief_new) / ObsPro"
   ]
  },
  {
   "cell_type": "code",
   "execution_count": 13,
   "metadata": {
    "hidden": true
   },
   "outputs": [],
   "source": [
    "def gb(x, k1, k0, p_appear, p_disappear):\n",
    "    a = 1 - p_disappear - p_appear\n",
    "    return (k1*a*x + k1*p_appear)/((k1-k0)*a*x + k1*p_appear + k0*(1-p_appear))"
   ]
  },
  {
   "cell_type": "code",
   "execution_count": 14,
   "metadata": {
    "hidden": true
   },
   "outputs": [],
   "source": [
    "def gbinv(y, k1, k0, p_appear, p_disappear):\n",
    "    a = 1 - p_disappear - p_appear\n",
    "    return (y * (k1*p_appear + k0*(1-p_appear)) - k1*p_appear) / (k1*a - y*(k1-k0)*a)"
   ]
  },
  {
   "cell_type": "code",
   "execution_count": 15,
   "metadata": {
    "hidden": true
   },
   "outputs": [],
   "source": [
    "dq = 1/nq\n",
    "#a = 1 - p_disappear - p_appear\n",
    "\n",
    "Trans_belief_obs = np.zeros((Ncol + 1, nq,nq))\n",
    "\n",
    "d = np.zeros((Ncol + 1, nq, nq))\n",
    "den = np.zeros((Ncol + 1, nq, nq))\n",
    "xopt = np.zeros((Ncol + 1, nq, nq))\n",
    "height = np.zeros((Ncol + 1, nq, nq))\n",
    "Trans_belief_obs_approx = np.zeros((Ncol + 1, nq,nq))\n",
    "\n",
    "for n in range(Ncol + 1):\n",
    "    k0 = Obs_emis[n, 0]\n",
    "    k1 = Obs_emis[n, 1]\n",
    "    \n",
    "    for i in range(nq):\n",
    "        for j in range(nq):\n",
    "            xmin = dq*i\n",
    "            xmax = dq*(i+1)\n",
    "            ymin = dq*j\n",
    "            ymax = dq*(j+1)\n",
    "            \n",
    "            bl = max(gbinv(ymin, k1, k0, p_appear, p_disappear), xmin)\n",
    "            br = min(gbinv(ymax, k1, k0, p_appear, p_disappear), xmax)\n",
    "            \n",
    "            if bl > br:\n",
    "                Trans_belief_obs[n, j, i] = 0\n",
    "            else:\n",
    "                Trans_belief_obs[n, j, i] = quad(lambda x: Obs_emis[n, :].dot(Trans_state).dot(np.array([1-x, x])), \n",
    "                                           bl, br)[0]\n",
    "            \n",
    "            \n",
    "            # Approximate the probability with Gaussian approxiamtion\n",
    "            q = i * dq + dq / 2\n",
    "            qq = j * dq + dq / 2\n",
    "            \n",
    "            def dist(x):\n",
    "                return sqrt((q - x)** 2 + (qq - gb(x, k1, k0, p_appear, p_disappear))**2)\n",
    "            \n",
    "            xopt[n, j, i], d[n, j, i] = optimize.fminbound(dist,0, 1, full_output=1)[0:2]\n",
    "            den[n, j, i] = norm.pdf(d[n, j, i], 0, 1/nq/3)\n",
    "            height[n, j, i] = Obs_emis[n, :].dot(Trans_state).dot(np.array([1-xopt[n, j, i], xopt[n, j, i]]))\n",
    "\n",
    "    den[n] = den[n] / np.tile(np.sum(den[n], 0), (nq, 1))\n",
    "    Trans_belief_obs_approx[n] = np.multiply(den[n], height[n])\n",
    "            "
   ]
  },
  {
   "cell_type": "code",
   "execution_count": null,
   "metadata": {
    "hidden": true
   },
   "outputs": [],
   "source": []
  },
  {
   "cell_type": "code",
   "execution_count": 16,
   "metadata": {
    "hidden": true
   },
   "outputs": [],
   "source": [
    "Trans_belief = np.sum(Trans_belief_obs, axis = 0)\n",
    "Trans_belief = Trans_belief / np.tile(np.sum(Trans_belief, 0), (nq, 1))\n",
    "\n",
    "nt = 20\n",
    "d = 0.1 / nt\n",
    "dD = toeplitz(np.insert(np.zeros(nq - 2), 0, np.array([-2 * d, d])))\n",
    "dD[1, 0] = 2 * d\n",
    "dD[-2, -1] = 2 * d\n",
    "D = expm(dD * nt)\n",
    "D = D / np.tile(np.sum(D, 0), (nq, 1))\n",
    "Trans_belief1 = np.dot(D, Trans_belief)\n",
    "\n",
    "Trans_belief_approx = np.sum(Trans_belief_obs_approx, axis = 0)\n",
    "Trans_belief_approx = Trans_belief_approx / np.tile(np.sum(Trans_belief_approx, 0), (nq, 1))"
   ]
  },
  {
   "cell_type": "code",
   "execution_count": 17,
   "metadata": {
    "hidden": true
   },
   "outputs": [
    {
     "data": {
      "image/png": "[encoded data removed]",
      "text/plain": [
       "<Figure size 432x432 with 1 Axes>"
      ]
     },
     "metadata": {},
     "output_type": "display_data"
    }
   ],
   "source": [
    "fig, ax = plt.subplots(figsize = (6,6))\n",
    "plt.plot(belief_old, belief_new, '-*')\n",
    "for i in range(Ncol):\n",
    "    plt.plot(belief_old, belief_new_obs[i, :])\n",
    "    plt.plot(belief_old, ObsPro[i, :], '--')\n",
    "ax.set_ylim([0,1.1])\n",
    "ax.set_xlim([0,1.1])\n",
    "ax.xaxis.set_ticks(np.arange(0, 1.1, 1/nq))\n",
    "ax.yaxis.set_ticks(np.arange(0, 1.1, 1/nq))\n",
    "plt.grid()\n",
    "plt.gca().invert_yaxis()\n",
    "plt.show()"
   ]
  },
  {
   "cell_type": "code",
   "execution_count": 18,
   "metadata": {
    "hidden": true
   },
   "outputs": [
    {
     "data": {
      "image/png": "[encoded data removed]",
      "text/plain": [
       "<Figure size 1080x4320 with 6 Axes>"
      ]
     },
     "metadata": {},
     "output_type": "display_data"
    }
   ],
   "source": [
    "from mpl_toolkits.axes_grid1 import make_axes_locatable\n",
    "\n",
    "\n",
    "fig = plt.figure(figsize = (15, 60))\n",
    "#fig.subplots_adjust(wspace=0,hspace=0)\n",
    "\n",
    "ax1 = fig.add_subplot(1,3,1)\n",
    "im1 = ax1.imshow(Trans_belief, vmin=0, vmax=1, cmap='jet')\n",
    "divider = make_axes_locatable(ax1)\n",
    "cax = divider.append_axes('right', size='5%', pad=0.1)\n",
    "fig.colorbar(im1, cax=cax, orientation='vertical')\n",
    "\n",
    "ax2 = fig.add_subplot(1,3,2)\n",
    "im2 = ax2.imshow(Trans_belief1, vmin=0, vmax=1, cmap='jet')\n",
    "divider = make_axes_locatable(ax2)\n",
    "cax = divider.append_axes('right', size='5%', pad=0.1)\n",
    "fig.colorbar(im2, cax=cax, orientation='vertical')\n",
    "\n",
    "\n",
    "ax3 = fig.add_subplot(1,3,3)\n",
    "im3 = ax3.imshow(Trans_belief_approx, vmin=0, vmax=1, cmap='jet')\n",
    "divider = make_axes_locatable(ax3)\n",
    "cax = divider.append_axes('right', size='5%', pad=0.1)\n",
    "fig.colorbar(im3, cax=cax, orientation='vertical')\n",
    "\n",
    "plt.show()"
   ]
  },
  {
   "cell_type": "markdown",
   "metadata": {},
   "source": [
    "# One box MDP"
   ]
  },
  {
   "cell_type": "code",
   "execution_count": 7,
   "metadata": {},
   "outputs": [],
   "source": [
    "nq = 5\n",
    "nr = 2\n",
    "na = 2\n",
    "discount = 0.99"
   ]
  },
  {
   "cell_type": "code",
   "execution_count": 8,
   "metadata": {},
   "outputs": [],
   "source": [
    "beta = 0   # available food dropped back into box after button press\n",
    "gamma = 0.3    # reward becomes available\n",
    "epsilon = 0.1   # available food disappears\n",
    "rho = 1    # food in mouth is consumed\n",
    "pushButtonCost = 0.6\n",
    "Reward = 1\n",
    "NumCol = 4\n",
    "qmin = 0.3\n",
    "qmax = 0.7\n",
    "Ncol = NumCol - 1\n",
    "\n",
    "parameters = [beta, gamma, epsilon, rho, pushButtonCost, \n",
    "              NumCol, qmin, qmax]\n"
   ]
  },
  {
   "cell_type": "code",
   "execution_count": 9,
   "metadata": {},
   "outputs": [],
   "source": [
    "oneboxCol = oneboxColMDP(discount, nq, nr, na, parameters)"
   ]
  },
  {
   "cell_type": "code",
   "execution_count": 10,
   "metadata": {},
   "outputs": [
    {
     "data": {
      "text/plain": [
       "array([[0.98720315, 0.93767601, 0.82003143, 0.49267086, 0.21245447,\n",
       "        0.98720315, 0.93767601, 0.82003143, 0.49267086, 0.21245447],\n",
       "       [0.01279685, 0.06232399, 0.17996857, 0.50732914, 0.78754553,\n",
       "        0.01279685, 0.06232399, 0.17996857, 0.50732914, 0.78754553]])"
      ]
     },
     "execution_count": 10,
     "metadata": {},
     "output_type": "execute_result"
    }
   ],
   "source": [
    "oneboxCol.setupMDP()\n",
    "oneboxCol.solveMDP_sfm()\n",
    "oneboxCol.softpolicy"
   ]
  },
  {
   "cell_type": "markdown",
   "metadata": {},
   "source": [
    "# Generate data"
   ]
  },
  {
   "cell_type": "code",
   "execution_count": 12,
   "metadata": {},
   "outputs": [],
   "source": [
    "T = 1000\n",
    "N = 1\n",
    "hiddenInitial = 0\n",
    "obsInitial = 0"
   ]
  },
  {
   "cell_type": "code",
   "execution_count": 13,
   "metadata": {},
   "outputs": [],
   "source": [
    "oneboxColdata = oneboxColMDPdata(discount, nq, nr, na, parameters, T, N)\n",
    "oneboxColdata.dataGenerate_sfm(hiddenInitial, obsInitial)   #softmax policy\n",
    "\n",
    "belief = oneboxColdata.belief\n",
    "action = oneboxColdata.action\n",
    "reward = oneboxColdata.reward\n",
    "hybrid = oneboxColdata.hybrid\n",
    "trueState = oneboxColdata.trueState\n",
    "color = oneboxColdata.color"
   ]
  },
  {
   "cell_type": "code",
   "execution_count": 14,
   "metadata": {},
   "outputs": [],
   "source": [
    "obsN = np.dstack([action, reward, color])\n",
    "latN = belief.copy()"
   ]
  },
  {
   "cell_type": "code",
   "execution_count": null,
   "metadata": {},
   "outputs": [],
   "source": []
  },
  {
   "cell_type": "code",
   "execution_count": null,
   "metadata": {},
   "outputs": [],
   "source": []
  },
  {
   "cell_type": "markdown",
   "metadata": {
    "heading_collapsed": true
   },
   "source": [
    "## Store data"
   ]
  },
  {
   "cell_type": "code",
   "execution_count": null,
   "metadata": {
    "hidden": true
   },
   "outputs": [],
   "source": [
    "from datetime import datetime\n",
    "import pickle"
   ]
  },
  {
   "cell_type": "code",
   "execution_count": null,
   "metadata": {
    "hidden": true
   },
   "outputs": [],
   "source": []
  },
  {
   "cell_type": "code",
   "execution_count": null,
   "metadata": {
    "hidden": true
   },
   "outputs": [],
   "source": [
    "# # sampleNum * sampleTime * dim of observations(=3 here, action, reward, location)\n",
    "# # organize data\n",
    "\n",
    "# datestring = datetime.strftime(datetime.now(), '%m%d%Y(%H%M)')\n",
    "\n",
    "# obsN = np.dstack([action, reward, color])  # includes the action and the observable states\n",
    "# latN = np.dstack([belief])\n",
    "# truthN = np.dstack([trueState])\n",
    "# dataN = np.dstack([obsN, latN, truthN])\n",
    "\n",
    "# ### write data to file\n",
    "# data_dict = {'observations': obsN,\n",
    "#              'beliefs': latN,\n",
    "#              'trueStates': truthN,\n",
    "#              'allData': dataN}\n",
    "# data_output = open(datestring + '_dataN_twobox' + '.pkl', 'wb')\n",
    "# pickle.dump(data_dict, data_output)\n",
    "# data_output.close()\n",
    "\n",
    "# ### write all model parameters to file\n",
    "# para_dict = {'discount': discount,\n",
    "#              'nq': nq,\n",
    "#              'nr': nr,\n",
    "#              'na': na,\n",
    "#              'foodDrop': beta,\n",
    "#              'appRate': gamma,\n",
    "#              'disappRate': epsilon,\n",
    "#              'consume': rho,\n",
    "#              'reward': Reward,\n",
    "#              'pushButtonCost': pushButtonCost\n",
    "#              }\n",
    "# para_output = open(datestring + '_para_twobox' + '.pkl', 'wb')\n",
    "# pickle.dump(para_dict, para_output)\n",
    "# para_output.close()\n",
    "\n",
    "# pkl_file1 = open(datestring + '_para_twobox' + '.pkl', 'rb')\n",
    "# para_pkl = pickle.load(pkl_file1)\n",
    "# pkl_file1.close()\n",
    "# #print(para_pkl['disappRate2'])\n",
    "\n",
    "# print('Data stored in files' )"
   ]
  },
  {
   "cell_type": "markdown",
   "metadata": {
    "heading_collapsed": true
   },
   "source": [
    "## retrieve data"
   ]
  },
  {
   "cell_type": "code",
   "execution_count": null,
   "metadata": {
    "hidden": true
   },
   "outputs": [],
   "source": [
    "import os\n",
    "path = os.getcwd()"
   ]
  },
  {
   "cell_type": "code",
   "execution_count": null,
   "metadata": {
    "hidden": true
   },
   "outputs": [],
   "source": [
    "pkl_file = open(path + '/11152018(1102)_dataN_twobox.pkl', 'rb')\n",
    "pkl_file1 = open(path + '/11152018(1102)_para_twobox.pkl', 'rb')"
   ]
  },
  {
   "cell_type": "code",
   "execution_count": null,
   "metadata": {
    "hidden": true
   },
   "outputs": [],
   "source": [
    "para_pkl = pickle.load(pkl_file1)\n",
    "pkl_file1.close()\n",
    "para_pkl.keys()"
   ]
  },
  {
   "cell_type": "code",
   "execution_count": null,
   "metadata": {
    "hidden": true
   },
   "outputs": [],
   "source": [
    "discount = para_pkl['discount']\n",
    "nq = para_pkl['nq']\n",
    "nr = para_pkl['nr']\n",
    "na = para_pkl['na']\n",
    "beta = para_pkl['foodDrop']\n",
    "gamma = para_pkl['appRate']\n",
    "epsilon = para_pkl['disappRate']\n",
    "rho = para_pkl['consume']\n",
    "Reward = para_pkl['reward']\n",
    "pushButtonCost = para_pkl['pushButtonCost']"
   ]
  },
  {
   "cell_type": "code",
   "execution_count": null,
   "metadata": {
    "hidden": true
   },
   "outputs": [],
   "source": []
  },
  {
   "cell_type": "code",
   "execution_count": null,
   "metadata": {
    "hidden": true
   },
   "outputs": [],
   "source": [
    "print(\"Get data from file...\")\n",
    "dataN_pkl = pickle.load(pkl_file)\n",
    "pkl_file.close()\n",
    "\n",
    "obsN = dataN_pkl['observations']\n",
    "latN = dataN_pkl['beliefs']\n",
    "truthN = dataN_pkl['trueStates']\n",
    "dataN = dataN_pkl['allData']"
   ]
  },
  {
   "cell_type": "code",
   "execution_count": null,
   "metadata": {
    "hidden": true
   },
   "outputs": [],
   "source": [
    "obs = obsN[0]\n",
    "lat = latN[0]"
   ]
  },
  {
   "cell_type": "code",
   "execution_count": null,
   "metadata": {
    "hidden": true
   },
   "outputs": [],
   "source": [
    "T = np.shape(obsN)[1]\n",
    "\n",
    "action, reward, color = obsN[0:, :, 0], obsN[0:, :, 1], obsN[0:, :, 2]\n",
    "belief = latN[:, :, 0]\n",
    "trueState = truthN[:, :, 0]\n",
    "\n",
    "hybrid = reward * nq + belief"
   ]
  },
  {
   "cell_type": "markdown",
   "metadata": {},
   "source": [
    "## show data"
   ]
  },
  {
   "cell_type": "code",
   "execution_count": 15,
   "metadata": {},
   "outputs": [
    {
     "data": {
      "image/png": "[encoded data removed]",
      "text/plain": [
       "<Figure size 1440x576 with 5 Axes>"
      ]
     },
     "metadata": {},
     "output_type": "display_data"
    }
   ],
   "source": [
    "showTime = 20\n",
    "\n",
    "data_true = np.reshape(trueState[0, 0:showTime], showTime)\n",
    "data_action = np.reshape(action[0, 0:showTime], showTime)\n",
    "data_reward = np.reshape(reward[0, 0:showTime], showTime)\n",
    "data_belief = np.reshape((belief[0, 0:showTime] + 1 / 2) / float(nq), showTime)\n",
    "data_hybrid = np.reshape(hybrid[0, 0:showTime], showTime)\n",
    "data_color = np.reshape(color[0, 0:showTime], showTime)\n",
    "\n",
    "# colorvalue = qmin + (qmax - qmin) / Ncol * data_color\n",
    "# colorvalue.reshape((1, colorvalue.shape[0]))\n",
    "# colormapR = (qmax - colorvalue) / (qmax - qmin) * 255\n",
    "# colormapG = np.zeros(np.shape(colorvalue))\n",
    "# colormapB = (colorvalue - qmin) / (qmax - qmin) * 255\n",
    "colormapR = (Ncol - data_color)* 255 / Ncol\n",
    "colormapG = np.zeros(np.shape(data_color))\n",
    "colormapB = data_color * 255 / Ncol\n",
    "colorimage = np.dstack((colormapR, colormapG, colormapB))\n",
    "colorImageShow = np.array(colorimage, dtype=np.uint8)\n",
    "\n",
    "actiontemp = data_action * (1 * (data_action % pb == 0)) / pb\n",
    "\n",
    "time = np.arange(0, showTime, 1)\n",
    "\n",
    "#if sampleTime < 1000:\n",
    "fig = plt.figure(figsize=(20, 8))\n",
    "ax1 = fig.add_subplot(411)\n",
    "ax3 = fig.add_subplot(412)\n",
    "ax4 = fig.add_subplot(413)\n",
    "ax5 = fig.add_subplot(414)\n",
    "\n",
    "ax1.plot(time, actiontemp, 'b*', label='action')\n",
    "ax1.legend(loc=1)\n",
    "ax1.set_xticks(np.arange(0, showTime, 5))\n",
    "ax1.set_xticks(np.arange(0, showTime, 1), minor=True)\n",
    "ax1.set_yticks(np.arange(0, 3, 1))\n",
    "a = ax1.get_yticks().tolist()\n",
    "a[0] = 'NA'\n",
    "a[1] = 'pb'\n",
    "ax1.set_yticklabels(a)\n",
    "ax1.set_yticks(ax1.get_yticks()[0:2])\n",
    "ax1.set_xlim(-1, showTime)\n",
    "ax1.grid(which='minor', alpha=0.5)\n",
    "ax1.grid(which='major', alpha=0.7)\n",
    "ax1.set_ylabel('action')\n",
    "\n",
    "ax2 = ax1.twinx()\n",
    "ax2.plot(time, data_reward, 'g', label='reward')\n",
    "ax2.legend(loc=1)\n",
    "ax2.set_xticks(np.arange(0, showTime, 5))\n",
    "ax2.set_xticks(np.arange(0, showTime, 1), minor=True)\n",
    "ax2.set_yticks(np.arange(0, 3, 1))\n",
    "ax2.grid(which='minor', alpha=0.5)\n",
    "ax2.grid(which='major', alpha=0.7)\n",
    "\n",
    "ax3.plot(time, data_true, 'c', label='trueState')\n",
    "ax3.set_xlim(-1, showTime)\n",
    "ax3.legend(loc=1)\n",
    "ax3.set_xticks(np.arange(0, showTime, 5))\n",
    "ax3.set_xticks(np.arange(0, showTime, 1), minor=True)\n",
    "ax3.set_yticks(np.arange(0, 1.2))\n",
    "ax3.grid(which='minor', alpha=0.5)\n",
    "ax3.grid(which='major', alpha=0.7)\n",
    "\n",
    "ax4.imshow(colorImageShow, interpolation='none')\n",
    "#ax4.legend(loc=1)\n",
    "ax4.set_xlim(-1, showTime)\n",
    "ax4.set_xticks(np.arange(0, showTime, 5))\n",
    "ax4.set_xticks(np.arange(0, showTime, 1), minor=True)\n",
    "#ax4.set_yticks(np.arange(0, Ncol + 1))\n",
    "ax4.grid(which='minor', alpha=0.5)\n",
    "ax4.grid(which='major', alpha=0.7)\n",
    "\n",
    "ax5.plot(time, data_belief, 'm', label='belief')\n",
    "ax5.set_xlim(-1, showTime)\n",
    "ax5.legend(loc=1)\n",
    "ax5.set_xticks(np.arange(0, showTime, 5))\n",
    "ax5.set_xticks(np.arange(0, showTime, 1), minor=True)\n",
    "ax5.set_yticks(np.arange(0, 1, 2 * 1 / float(nq)))\n",
    "ax5.set_yticks(np.arange(0, 1, 1 / float(nq)), minor=True)\n",
    "ax5.grid(which='minor', alpha=0.5)\n",
    "ax5.grid(which='major', alpha=0.7)\n",
    "ax5.set_ylabel('belief')\n",
    "\n",
    "plt.show()"
   ]
  },
  {
   "cell_type": "code",
   "execution_count": null,
   "metadata": {},
   "outputs": [],
   "source": []
  },
  {
   "cell_type": "code",
   "execution_count": null,
   "metadata": {},
   "outputs": [],
   "source": []
  },
  {
   "cell_type": "markdown",
   "metadata": {},
   "source": [
    "# Inference"
   ]
  },
  {
   "cell_type": "code",
   "execution_count": 16,
   "metadata": {},
   "outputs": [],
   "source": [
    "from oneboxCol import *\n",
    "from HMMoneboxCol import *"
   ]
  },
  {
   "cell_type": "code",
   "execution_count": 17,
   "metadata": {},
   "outputs": [
    {
     "data": {
      "text/plain": [
       "[0, 0.3, 0.1, 1, 0.6, 4, 0.3, 0.7]"
      ]
     },
     "execution_count": 17,
     "metadata": {},
     "output_type": "execute_result"
    }
   ],
   "source": [
    "#parameters = [0, gamma, epsilon, 1, pushButtonCost, 4, 0.4, 0.6]\n",
    "parameters = [beta, gamma, epsilon, rho, pushButtonCost, NumCol, qmin, qmax]\n",
    "parameters"
   ]
  },
  {
   "cell_type": "code",
   "execution_count": 18,
   "metadata": {},
   "outputs": [],
   "source": [
    "obs = obsN[0]\n",
    "lat = latN[0]"
   ]
  },
  {
   "cell_type": "code",
   "execution_count": 19,
   "metadata": {},
   "outputs": [
    {
     "name": "stdout",
     "output_type": "stream",
     "text": [
      "The true paramters are:                [0, 0.3, 0.1, 1, 0.6, 4, 0.3, 0.7]\n",
      "The initial estimation parameters are: [0, 0.5, 0.3, 1, 0.3, 4, 0.1, 0.8]\n",
      "Now starting with some initialized value of the parameters, we are going to use EM(G) algorithm for parameter estimation:\n"
     ]
    }
   ],
   "source": [
    "beta_ini = 0\n",
    "gamma_ini = 0.5\n",
    "epsilon_ini = 0.3\n",
    "rho_ini = 1\n",
    "pushButtonCost_ini = 0.3\n",
    "NumCol_ini = NumCol\n",
    "qmin_ini = 0.1\n",
    "qmax_ini = 0.8\n",
    "\n",
    "parameters_ini = [beta_ini, gamma_ini, epsilon_ini, rho_ini, pushButtonCost_ini, \n",
    "                  NumCol_ini, qmin_ini, qmax_ini]\n",
    "parameters_old = np.copy(parameters_ini)\n",
    "\n",
    "print(\"The true paramters are:               \", parameters )\n",
    "print(\"The initial estimation parameters are:\", parameters_ini) \n",
    "print (\"Now starting with some initialized value of the parameters, we are going to use EM(G) \" \\\n",
    "\"algorithm for parameter estimation:\")"
   ]
  },
  {
   "cell_type": "code",
   "execution_count": 37,
   "metadata": {},
   "outputs": [
    {
     "name": "stdout",
     "output_type": "stream",
     "text": [
      "\n",
      "The 0 -th iteration of the EM(G) algorithm\n",
      "[0.  0.5 0.3 1.  0.3 4.  0.1 0.8]\n",
      "-3460.984331519019\n",
      "-3379.806774979838\n",
      "\n",
      " M-step \n",
      "[0.  0.5 0.3 1.  0.3 4.  0.1 0.8]\n",
      "-3460.984331519019\n",
      "-3379.806774979838\n",
      "[0.         0.31021047 0.24964329 1.         0.53850852 4.\n",
      " 0.20697113 0.83151538]\n",
      "-1973.7593746760813\n",
      "-1892.5818181369002\n",
      "[0.         0.29665935 0.26477258 1.         0.54170692 4.\n",
      " 0.16443575 0.7856956 ]\n",
      "-1767.737554937914\n",
      "-1686.559998398733\n",
      "[0.         0.31452552 0.27163246 1.         0.54443572 4.\n",
      " 0.1614463  0.81457231]\n",
      "-1741.512937169373\n",
      "-1660.3353806301918\n",
      "[0.         0.31237662 0.28201648 1.         0.54769912 4.\n",
      " 0.13711443 0.79843891]\n",
      "-1722.5211872738146\n",
      "-1641.3436307346335\n",
      "[0.         0.31973115 0.2824327  1.         0.54872348 4.\n",
      " 0.14682461 0.81098434]\n",
      "-1703.833783800267\n",
      "-1622.6562272610859\n",
      "[0.         0.32051677 0.28524719 1.         0.54994357 4.\n",
      " 0.14334356 0.80765789]\n",
      "-1699.3676214521818\n",
      "-1618.1900649130007\n",
      "[0.         0.32232665 0.28728946 1.         0.55106685 4.\n",
      " 0.14310703 0.80715612]\n",
      "-1697.610056494189\n",
      "-1616.4324999550079\n",
      "[0.         0.32413723 0.28919967 1.         0.55214833 4.\n",
      " 0.14320214 0.80678149]\n",
      "-1695.989204258459\n",
      "-1614.811647719278\n",
      "[0.         0.3258769  0.29103223 1.         0.55319197 4.\n",
      " 0.14338346 0.80634514]\n",
      "-1694.474421001725\n",
      "-1613.296864462544\n",
      "[0.         0.32755463 0.29279425 1.         0.55419825 4.\n",
      " 0.14362668 0.80586886]\n",
      "-1693.0530249441042\n",
      "-1611.8754684049231\n",
      "[0.         0.3291768  0.29449112 1.         0.5551677  4.\n",
      " 0.14391326 0.80536795]\n",
      "-1691.717112345944\n",
      "-1610.539555806763\n",
      "[0.         0.33074823 0.29612687 1.         0.55610092 4.\n",
      " 0.14422951 0.80485379]\n",
      "-1690.4602927772885\n",
      "-1609.2827362381074\n",
      "[0.         0.33227257 0.2977046  1.         0.55699859 4.\n",
      " 0.14456526 0.80433464]\n",
      "-1689.2779862481777\n",
      "-1608.1004297089967\n",
      "[0.         0.33375261 0.29922677 1.         0.55786144 4.\n",
      " 0.14491285 0.80381666]\n",
      "-1688.1670962931648\n",
      "-1606.9895397539838\n",
      "[0.         0.33519056 0.30069533 1.         0.55869026 4.\n",
      " 0.14526656 0.80330443]\n",
      "-1687.12384857843\n",
      "-1605.9462920392489\n",
      "[0.         0.33658815 0.30211194 1.         0.55948587 4.\n",
      " 0.14562204 0.80280124]\n",
      "-1686.1450488280584\n",
      "-1604.9674922888773\n",
      "[0.         0.33794681 0.30347806 1.         0.56024916 4.\n",
      " 0.14597599 0.80230942]\n",
      "-1685.2276214399192\n",
      "-1604.050064900738\n",
      "[0.         0.33926772 0.30479495 1.         0.56098103 4.\n",
      " 0.14632596 0.80183077]\n",
      "-1684.368456040761\n",
      "-1603.19089950158\n",
      "[0.         0.34055227 0.30606377 1.         0.56168242 4.\n",
      " 0.14667124 0.80136664]\n",
      "-1683.5646377647417\n",
      "-1602.3870812255607\n",
      "[0.         0.34180093 0.30728587 1.         0.5623543  4.\n",
      " 0.14700899 0.80091711]\n",
      "-1682.813370355664\n",
      "-1601.6358138164828\n",
      "[0.         0.34301465 0.30846227 1.         0.56299763 4.\n",
      " 0.14733856 0.80048295]\n",
      "-1682.111856123719\n",
      "-1600.934299584538\n",
      "[0.         0.34419421 0.30959408 1.         0.56361339 4.\n",
      " 0.14765924 0.80006439]\n",
      "-1681.4573644349682\n",
      "-1600.2798078957871\n",
      "[0.         0.34534034 0.31068239 1.         0.56420257 4.\n",
      " 0.14797049 0.79966144]\n",
      "-1680.8468615305856\n",
      "-1599.6693049914045\n",
      "[0.         0.34645384 0.31172829 1.         0.56476617 4.\n",
      " 0.14827207 0.7992742 ]\n",
      "-1680.2785206933875\n",
      "-1599.1009641542064\n",
      "[0.         0.34753524 0.31273296 1.         0.56530516 4.\n",
      " 0.14856348 0.79890204]\n",
      "-1679.749600952453\n",
      "-1598.572044413272\n",
      "\n",
      "The 1 -th iteration of the EM(G) algorithm\n",
      "[0.         0.34753524 0.31273296 1.         0.56530516 4.\n",
      " 0.14856348 0.79890204]\n",
      "-1668.299483160105\n",
      "-1562.6331192078633\n",
      "\n",
      " M-step \n",
      "[0.         0.34753524 0.31273296 1.         0.56530516 4.\n",
      " 0.14856348 0.79890204]\n",
      "-1668.299483160105\n",
      "-1562.6331192078633\n",
      "[0.         0.34452434 0.30825837 1.         0.56732604 4.\n",
      " 0.16677517 0.78746419]\n",
      "-1656.687702688148\n",
      "-1551.0213387359063\n",
      "[0.         0.34384919 0.30893387 1.         0.56791409 4.\n",
      " 0.16484285 0.7852128 ]\n",
      "-1655.5875139212553\n",
      "-1549.9211499690136\n",
      "\n",
      "The 2 -th iteration of the EM(G) algorithm\n",
      "[0.         0.34384919 0.30893387 1.         0.56791409 4.\n",
      " 0.16484285 0.7852128 ]\n",
      "-1672.0228649800679\n",
      "-1541.849594521504\n",
      "\n",
      " M-step \n",
      "[0.         0.34384919 0.30893387 1.         0.56791409 4.\n",
      " 0.16484285 0.7852128 ]\n",
      "-1672.0228649800679\n",
      "-1541.849594521504\n",
      "[0.         0.34097083 0.30562611 1.         0.56952337 4.\n",
      " 0.17659458 0.77500814]\n",
      "-1665.4530534159567\n",
      "-1535.2797829573929\n",
      "\n",
      "The 3 -th iteration of the EM(G) algorithm\n",
      "[0.         0.34097083 0.30562611 1.         0.56952337 4.\n",
      " 0.17659458 0.77500814]\n",
      "-1678.0792329631756\n",
      "-1530.0767572613022\n",
      "\n",
      " M-step \n",
      "[0.         0.34097083 0.30562611 1.         0.56952337 4.\n",
      " 0.17659458 0.77500814]\n",
      "-1678.0792329631756\n",
      "-1530.0767572613022\n",
      "[0.         0.33794044 0.30281871 1.         0.57086399 4.\n",
      " 0.18502977 0.76533843]\n",
      "-1674.3064965665114\n",
      "-1526.304020864638\n",
      "[0.         0.33932979 0.30213833 1.         0.57115807 4.\n",
      " 0.1869983  0.76780321]\n",
      "-1673.2238519835375\n",
      "-1525.221376281664\n",
      "\n",
      "The 4 -th iteration of the EM(G) algorithm\n",
      "[0.         0.33932979 0.30213833 1.         0.57115807 4.\n",
      " 0.1869983  0.76780321]\n",
      "-1680.3773074904434\n",
      "-1522.0656541684439\n",
      "\n",
      " M-step \n",
      "[0.         0.33932979 0.30213833 1.         0.57115807 4.\n",
      " 0.1869983  0.76780321]\n",
      "-1680.3773074904434\n",
      "-1522.0656541684439\n",
      "[0.         0.33590401 0.29958828 1.         0.57236897 4.\n",
      " 0.19346271 0.75790817]\n",
      "-1678.9489533476522\n",
      "-1520.6373000256526\n",
      "[0.         0.33822385 0.29849584 1.         0.57255581 4.\n",
      " 0.19630109 0.76204476]\n",
      "-1676.2392231296024\n",
      "-1517.9275698076028\n",
      "\n",
      "The 5 -th iteration of the EM(G) algorithm\n",
      "[0.         0.33822385 0.29849584 1.         0.57255581 4.\n",
      " 0.19630109 0.76204476]\n",
      "-1682.873832763445\n",
      "-1515.8810621248133\n",
      "\n",
      " M-step \n",
      "[0.         0.33822385 0.29849584 1.         0.57255581 4.\n",
      " 0.19630109 0.76204476]\n",
      "-1682.873832763445\n",
      "-1515.8810621248133\n",
      "[0.         0.33502529 0.29588252 1.         0.57362008 4.\n",
      " 0.20219075 0.75287282]\n",
      "-1681.7236598234185\n",
      "-1514.7308891847867\n",
      "[0.         0.33734527 0.29470278 1.         0.57375962 4.\n",
      " 0.20502048 0.75687999]\n",
      "-1679.04204687637\n",
      "-1512.0492762377382\n",
      "\n",
      "The 6 -th iteration of the EM(G) algorithm\n",
      "[0.         0.33734527 0.29470278 1.         0.57375962 4.\n",
      " 0.20502048 0.75687999]\n",
      "-1687.1033494377875\n",
      "-1510.4468933828734\n",
      "\n",
      " M-step \n",
      "[0.         0.33734527 0.29470278 1.         0.57375962 4.\n",
      " 0.20502048 0.75687999]\n",
      "-1687.1033494377875\n",
      "-1510.4468933828734\n",
      "[0.         0.3343648  0.29172454 1.         0.57463279 4.\n",
      " 0.21093205 0.74845289]\n",
      "-1685.7068376276152\n",
      "-1509.050381572701\n",
      "[0.         0.33651839 0.29049217 1.         0.57473549 4.\n",
      " 0.21347849 0.75208253]\n",
      "-1683.3665170413788\n",
      "-1506.7100609864647\n",
      "\n",
      "The 7 -th iteration of the EM(G) algorithm\n",
      "[0.         0.33651839 0.29049217 1.         0.57473549 4.\n",
      " 0.21347849 0.75208253]\n",
      "-1692.9532710811386\n",
      "-1505.2306197441305\n",
      "\n",
      " M-step \n",
      "[0.         0.33651839 0.29049217 1.         0.57473549 4.\n",
      " 0.21347849 0.75208253]\n",
      "-1692.9532710811386\n",
      "-1505.2306197441305\n",
      "[0.         0.33391728 0.28691187 1.         0.57544933 4.\n",
      " 0.21996847 0.74470026]\n",
      "-1690.6994528317682\n",
      "-1502.9768014947601\n",
      "[0.         0.33559892 0.28568064 1.         0.57553785 4.\n",
      " 0.22203092 0.74750835]\n",
      "-1689.112557542606\n",
      "-1501.389906205598\n",
      "\n",
      "The 8 -th iteration of the EM(G) algorithm\n",
      "[0.         0.33559892 0.28568064 1.         0.57553785 4.\n",
      " 0.22203092 0.74750835]\n",
      "-1700.1158579007185\n",
      "-1499.7981355551908\n",
      "\n",
      " M-step \n",
      "[0.         0.33559892 0.28568064 1.         0.57553785 4.\n",
      " 0.22203092 0.74750835]\n",
      "-1700.1158579007185\n",
      "-1499.7981355551908\n",
      "[0.         0.33352415 0.28134523 1.         0.57615411 4.\n",
      " 0.22942005 0.74143681]\n",
      "-1696.9383524010645\n",
      "-1496.6206300555368\n",
      "[0.         0.334485   0.28020588 1.         0.57624851 4.\n",
      " 0.23074991 0.74314125]\n",
      "-1696.2084949265384\n",
      "-1495.8907725810107\n",
      "\n",
      "The 9 -th iteration of the EM(G) algorithm\n",
      "[0.         0.334485   0.28020588 1.         0.57624851 4.\n",
      " 0.23074991 0.74314125]\n",
      "-1708.1608436617228\n",
      "-1494.068265526775\n",
      "\n",
      " M-step \n",
      "[0.         0.334485   0.28020588 1.         0.57624851 4.\n",
      " 0.23074991 0.74314125]\n",
      "-1708.1608436617228\n",
      "-1494.068265526775\n",
      "[0.         0.33304704 0.2752943  1.         0.57682407 4.\n",
      " 0.23869118 0.73852895]\n",
      "-1704.8948858579372\n",
      "-1490.8023077229893\n",
      "\n",
      "The 10 -th iteration of the EM(G) algorithm\n",
      "[0.         0.33304704 0.2752943  1.         0.57682407 4.\n",
      " 0.23869118 0.73852895]\n",
      "-1717.09428979926\n",
      "-1489.024285722005\n",
      "\n",
      " M-step \n",
      "[0.         0.33304704 0.2752943  1.         0.57682407 4.\n",
      " 0.23869118 0.73852895]\n",
      "-1717.09428979926\n",
      "-1489.024285722005\n"
     ]
    },
    {
     "name": "stdout",
     "output_type": "stream",
     "text": [
      "[0.         0.33232641 0.27027426 1.         0.5772023  4.\n",
      " 0.24612021 0.73541854]\n",
      "-1714.6523950039418\n",
      "-1486.582390926687\n",
      "\n",
      "The 11 -th iteration of the EM(G) algorithm\n",
      "[0.         0.33232641 0.27027426 1.         0.5772023  4.\n",
      " 0.24612021 0.73541854]\n",
      "-1724.5729527203146\n",
      "-1485.065109119272\n",
      "\n",
      " M-step \n",
      "[0.         0.33232641 0.27027426 1.         0.5772023  4.\n",
      " 0.24612021 0.73541854]\n",
      "-1724.5729527203146\n",
      "-1485.065109119272\n",
      "[0.         0.33180729 0.2656939  1.         0.57777245 4.\n",
      " 0.2523452  0.73311336]\n",
      "-1722.947835893854\n",
      "-1483.4399922928114\n",
      "\n",
      "The 12 -th iteration of the EM(G) algorithm\n",
      "[0.         0.33180729 0.2656939  1.         0.57777245 4.\n",
      " 0.2523452  0.73311336]\n",
      "-1731.0391346113558\n",
      "-1482.3100286200863\n",
      "\n",
      " M-step \n",
      "[0.         0.33180729 0.2656939  1.         0.57777245 4.\n",
      " 0.2523452  0.73311336]\n",
      "-1731.0391346113558\n",
      "-1482.3100286200863\n",
      "[0.         0.33119862 0.26165727 1.         0.57860064 4.\n",
      " 0.2572741  0.73116919]\n",
      "-1729.8945618238931\n",
      "-1481.1654558326236\n",
      "\n",
      "The 13 -th iteration of the EM(G) algorithm\n",
      "[0.         0.33119862 0.26165727 1.         0.57860064 4.\n",
      " 0.2572741  0.73116919]\n",
      "-1736.3000878972664\n",
      "-1480.4398310767747\n",
      "\n",
      " M-step \n",
      "[0.         0.33119862 0.26165727 1.         0.57860064 4.\n",
      " 0.2572741  0.73116919]\n",
      "-1736.3000878972664\n",
      "-1480.4398310767747\n",
      "[0.         0.33045283 0.25804431 1.         0.57960145 4.\n",
      " 0.26117806 0.72939788]\n",
      "-1735.417425975447\n",
      "-1479.5571691549553\n",
      "\n",
      "The 14 -th iteration of the EM(G) algorithm\n",
      "[0.         0.33045283 0.25804431 1.         0.57960145 4.\n",
      " 0.26117806 0.72939788]\n",
      "-1740.3495965769525\n",
      "-1479.091149938565\n",
      "\n",
      " M-step \n",
      "[0.         0.33045283 0.25804431 1.         0.57960145 4.\n",
      " 0.26117806 0.72939788]\n",
      "-1740.3495965769525\n",
      "-1479.091149938565\n",
      "[0.         0.32963048 0.25471719 1.         0.58066968 4.\n",
      " 0.264357   0.72774919]\n",
      "-1739.6232267369603\n",
      "-1478.3647800985727\n",
      "\n",
      "The 15 -th iteration of the EM(G) algorithm\n",
      "[0.         0.32963048 0.25471719 1.         0.58066968 4.\n",
      " 0.264357   0.72774919]\n",
      "-1743.3513730140667\n",
      "-1478.0419083306613\n",
      "\n",
      " M-step \n",
      "[0.         0.32963048 0.25471719 1.         0.58066968 4.\n",
      " 0.264357   0.72774919]\n",
      "-1743.3513730140667\n",
      "-1478.0419083306613\n",
      "[0.         0.32878995 0.25157877 1.         0.58173552 4.\n",
      " 0.26703831 0.72619956]\n",
      "-1742.7259693865094\n",
      "-1477.416504703104\n",
      "\n",
      "The 16 -th iteration of the EM(G) algorithm\n",
      "[0.         0.32878995 0.25157877 1.         0.58173552 4.\n",
      " 0.26703831 0.72619956]\n",
      "-1745.51291264696\n",
      "-1477.1743269869487\n",
      "\n",
      " M-step \n",
      "[0.         0.32878995 0.25157877 1.         0.58173552 4.\n",
      " 0.26703831 0.72619956]\n",
      "-1745.51291264696\n",
      "-1477.1743269869487\n",
      "[0.         0.32796693 0.24856849 1.         0.58276368 4.\n",
      " 0.26937504 0.7247334 ]\n",
      "-1744.9558593563297\n",
      "-1476.6172736963183\n",
      "\n",
      "The 17 -th iteration of the EM(G) algorithm\n",
      "[0.         0.32796693 0.24856849 1.         0.58276368 4.\n",
      " 0.26937504 0.7247334 ]\n",
      "-1747.0111410788204\n",
      "-1476.4248717994496\n",
      "\n",
      " M-step \n",
      "[0.         0.32796693 0.24856849 1.         0.58276368 4.\n",
      " 0.26937504 0.7247334 ]\n",
      "-1747.0111410788204\n",
      "-1476.4248717994496\n",
      "[0.         0.32717503 0.24565112 1.         0.58374131 4.\n",
      " 0.27146606 0.72333307]\n",
      "-1746.502127271448\n",
      "-1475.9158579920772\n",
      "\n",
      "The 18 -th iteration of the EM(G) algorithm\n",
      "[0.         0.32717503 0.24565112 1.         0.58374131 4.\n",
      " 0.27146606 0.72333307]\n",
      "-1747.9810977770007\n",
      "-1475.7567632865005\n",
      "\n",
      " M-step \n",
      "[0.         0.32717503 0.24565112 1.         0.58374131 4.\n",
      " 0.27146606 0.72333307]\n",
      "-1747.9810977770007\n",
      "-1475.7567632865005\n",
      "\n",
      "The 19 -th iteration of the EM(G) algorithm\n",
      "[0.         0.32717503 0.24565112 1.         0.58374131 4.\n",
      " 0.27146606 0.72333307]\n",
      "-1747.9810977770007\n",
      "-1475.7567632865005\n",
      "EM has converged!\n",
      "end of EM\n"
     ]
    }
   ],
   "source": [
    "import timeit\n",
    "\n",
    "start = timeit.default_timer()\n",
    "\n",
    "NN1 = 100  # iteration number for the EM algorithm\n",
    "eps = 10 ** -6\n",
    "\n",
    "para_old_traj = []\n",
    "para_new_traj = []\n",
    "\n",
    "log_likelihoods_old = []\n",
    "log_likelihoods_new = []\n",
    "log_likelihoods_com_old = []  # old posterior, old parameters\n",
    "log_likelihoods_com_new = []  # old posterior, new parameters\n",
    "latent_entropies = []\n",
    "\n",
    "count_E = 0\n",
    "while count_E < NN1:\n",
    "\n",
    "    print('\\nThe', count_E, '-th iteration of the EM(G) algorithm')\n",
    "\n",
    "    if count_E == 0:\n",
    "        parameters_old = np.array(parameters_ini)\n",
    "    else:\n",
    "        parameters_old = np.copy(parameters_new)  # update parameters\n",
    "\n",
    "    para_old_traj.append(parameters_old)\n",
    "    print(parameters_old)\n",
    "\n",
    "    ##########  E-step ##########\n",
    "\n",
    "    ## Use old parameters to estimate posterior\n",
    "    oneboxColder = oneboxColMDPder(discount, nq, nr, na, parameters_old)\n",
    "    ThA_old = oneboxColder.ThA\n",
    "    softpolicy_old = oneboxColder.softpolicy\n",
    "    TBo_old = oneboxColder.Trans_hybrid_obs\n",
    "    OE_TS_old = oneboxColder.Obs_emis_trans\n",
    "    pi = np.ones(nq) / nq\n",
    "    Ncol_old = parameters_old[5].astype(int) - 1\n",
    "    oneHMMCol = HMMoneboxCol(ThA_old, softpolicy_old, TBo_old, OE_TS_old, pi, Ncol_old)\n",
    "\n",
    "    ## Calculate likelihood of observed and complete date, and entropy of the latent sequence\n",
    "    complete_likelihood_old = oneHMMCol.computeQaux(obs, ThA_old, softpolicy_old, TBo_old)\n",
    "    latent_entropy = oneHMMCol.latent_entr(obs)\n",
    "    log_likelihood = complete_likelihood_old + latent_entropy\n",
    "\n",
    "    log_likelihoods_com_old.append(complete_likelihood_old)\n",
    "\n",
    "    latent_entropies.append(latent_entropy)\n",
    "    log_likelihoods_old.append(log_likelihood)\n",
    "\n",
    "    print(complete_likelihood_old)\n",
    "    print(log_likelihood)\n",
    "\n",
    "    ## Check convergence\n",
    "    if len(log_likelihoods_old) >= 2 and np.abs(log_likelihood - log_likelihoods_old[-2]) < eps:\n",
    "        print('EM has converged!')\n",
    "        break\n",
    "\n",
    "    ##########  M(G)-step ##########\n",
    "    \n",
    "    count_M = 0\n",
    "    M_thresh = 0.5\n",
    "    para_new_traj.append([])\n",
    "    log_likelihoods_com_new.append([])\n",
    "    log_likelihoods_new.append([])\n",
    "    stepsize = 2 * 10 ** -5\n",
    "\n",
    "    # Start the gradient descent from the old parameters\n",
    "    parameters_new = np.copy(parameters_old)\n",
    "    complete_likelihood_new = complete_likelihood_old\n",
    "    log_likelihood = complete_likelihood_new + latent_entropy\n",
    "\n",
    "    para_new_traj[count_E].append(parameters_new)\n",
    "    log_likelihoods_com_new[count_E].append(complete_likelihood_new)\n",
    "    log_likelihoods_new[count_E].append(log_likelihood)\n",
    "\n",
    "    print('\\n M-step ')\n",
    "    print(parameters_new)\n",
    "    print(complete_likelihood_new)\n",
    "    print(log_likelihood)\n",
    "\n",
    "    while True:\n",
    "        #print(np.array(oneboxColder.dQauxdpara_sim(obs, parameters_new)))\n",
    "        ## Go the potential next point with gradient descent\n",
    "        para_temp = parameters_new + stepsize * np.array(oneboxColder.dQauxdpara_sim(obs, parameters_new))\n",
    "        #temp = np.copy(para_temp)\n",
    "        #para_temp = np.copy(parameters_old)\n",
    "\n",
    "        ## Check the ECDLL (old posterior, new parameters)\n",
    "        onebox_new = oneboxColMDP(discount, nq, nr, na, para_temp)\n",
    "        onebox_new.setupMDP()\n",
    "        onebox_new.solveMDP_sfm()\n",
    "        ThA_new = onebox_new.ThA\n",
    "        softpolicy_new = onebox_new.softpolicy\n",
    "\n",
    "        TBo_new = onebox_new.Trans_hybrid_obs\n",
    "        OE_TS_new = onebox_new.Obs_emis_trans\n",
    "        pi = np.ones(nq) / nq\n",
    "        Ncol_new = para_temp[5] - 1\n",
    "        oneHMMCol_new = HMMoneboxCol(ThA_new, softpolicy_new, TBo_old, OE_TS_new, pi, Ncol_new)\n",
    "\n",
    "        complete_likelihood_new_temp = oneHMMCol.computeQaux(obs, ThA_new, softpolicy_new, TBo_new)\n",
    "\n",
    "        ## Update the parameter if the ECDLL can be improved\n",
    "        if complete_likelihood_new_temp > complete_likelihood_new + M_thresh:\n",
    "            parameters_new = np.copy(para_temp)\n",
    "\n",
    "            complete_likelihood_new = complete_likelihood_new_temp\n",
    "            log_likelihood = complete_likelihood_new + latent_entropy\n",
    "\n",
    "            para_new_traj[count_E].append(parameters_new)\n",
    "            log_likelihoods_com_new[count_E].append(complete_likelihood_new)\n",
    "            log_likelihoods_new[count_E].append(log_likelihood)\n",
    "\n",
    "            print(parameters_new)\n",
    "            print(complete_likelihood_new)\n",
    "            print(log_likelihood)\n",
    "\n",
    "            count_M += 1\n",
    "            if count_M == 10:\n",
    "                count_M = count_M / 2\n",
    "            if count_M == 20:\n",
    "                count_M = count_M / 2    \n",
    "                \n",
    "        else:\n",
    "            stepsize /= 2\n",
    "            if stepsize < 5 * 10 ** -6:\n",
    "                break\n",
    "\n",
    "    count_E += 1\n",
    "\n",
    "print('end of EM')\n",
    "stop = timeit.default_timer()"
   ]
  },
  {
   "cell_type": "code",
   "execution_count": 38,
   "metadata": {},
   "outputs": [
    {
     "data": {
      "text/plain": [
       "[0, 0.3, 0.1, 1, 0.6, 4, 0.3, 0.7]"
      ]
     },
     "execution_count": 38,
     "metadata": {},
     "output_type": "execute_result"
    }
   ],
   "source": [
    "parameters"
   ]
  },
  {
   "cell_type": "code",
   "execution_count": 39,
   "metadata": {},
   "outputs": [
    {
     "data": {
      "text/plain": [
       "[0, 0.5, 0.3, 1, 0.3, 4, 0.1, 0.8]"
      ]
     },
     "execution_count": 39,
     "metadata": {},
     "output_type": "execute_result"
    }
   ],
   "source": [
    "parameters_ini"
   ]
  },
  {
   "cell_type": "code",
   "execution_count": 40,
   "metadata": {},
   "outputs": [
    {
     "data": {
      "text/plain": [
       "array([0.        , 0.32717503, 0.24565112, 1.        , 0.58374131,\n",
       "       4.        , 0.27146606, 0.72333307])"
      ]
     },
     "execution_count": 40,
     "metadata": {},
     "output_type": "execute_result"
    }
   ],
   "source": [
    "parameters_new"
   ]
  },
  {
   "cell_type": "markdown",
   "metadata": {},
   "source": [
    "### There is some problem here, since likelihood does not increase all the time"
   ]
  },
  {
   "cell_type": "code",
   "execution_count": 105,
   "metadata": {},
   "outputs": [],
   "source": [
    "para1 = [0, 0.40069731, 0.09763441, 1, 0.62828816,  4, 0.25623033, 0.55046382]\n",
    "para2 = [0, 0.40040587, 0.097499  , 1,  0.62795674, 4, 0.25629378, 0.55018447]"
   ]
  },
  {
   "cell_type": "code",
   "execution_count": 110,
   "metadata": {},
   "outputs": [
    {
     "name": "stdout",
     "output_type": "stream",
     "text": [
      "-1495.8527317767575\n"
     ]
    }
   ],
   "source": [
    "onebox1 = oneboxColMDPder(discount, nq, nr, na, para1)\n",
    "ThA1 = onebox1.ThA\n",
    "softpolicy1 = onebox1.softpolicy\n",
    "TBo1 = onebox1.Trans_hybrid_obs\n",
    "OE_TS1 = onebox1.Obs_emis_trans\n",
    "pi = np.ones(nq) / nq\n",
    "Ncol1 = para1[5] - 1\n",
    "oneHMMCol1 = HMMoneboxCol(ThA1, softpolicy1, TBo1, OE_TS1, pi, Ncol1)\n",
    "\n",
    "## Calculate likelihood of observed and complete date, and entropy of the latent sequence\n",
    "complete_likelihood_old = oneHMMCol1.computeQaux(obs, ThA1, softpolicy1, TBo1)\n",
    "latent_entropy = oneHMMCol1.latent_entr(obs)\n",
    "log_likelihood = complete_likelihood_old + latent_entropy\n",
    "print(log_likelihood)"
   ]
  },
  {
   "cell_type": "code",
   "execution_count": 114,
   "metadata": {},
   "outputs": [
    {
     "data": {
      "text/plain": [
       "-1495.842751032063"
      ]
     },
     "execution_count": 114,
     "metadata": {},
     "output_type": "execute_result"
    }
   ],
   "source": [
    "oneHMMCol1.computeQaux(obs, ThA2, softpolicy2, TBo2) + oneHMMCol1.latent_entr(obs)"
   ]
  },
  {
   "cell_type": "code",
   "execution_count": 140,
   "metadata": {},
   "outputs": [
    {
     "name": "stdout",
     "output_type": "stream",
     "text": [
      "-1495.8499662643478\n"
     ]
    }
   ],
   "source": [
    "onebox2 = oneboxColMDPder(discount, nq, nr, na, para2)\n",
    "ThA2 = onebox2.ThA\n",
    "softpolicy2 = onebox2.softpolicy\n",
    "TBo2 = onebox2.Trans_hybrid_obs\n",
    "OE_TS2 = onebox2.Obs_emis_trans\n",
    "pi = np.ones(nq) / nq\n",
    "Ncol2 = para2[5] - 1\n",
    "oneHMMCol2 = HMMoneboxCol(ThA2, softpolicy2, TBo2, OE_TS2, pi, Ncol2)\n",
    "\n",
    "## Calculate likelihood of observed and complete date, and entropy of the latent sequence\n",
    "complete_likelihood_old = oneHMMCol2.computeQaux(obs, ThA2, softpolicy2, TBo2)\n",
    "latent_entropy = oneHMMCol2.latent_entr(obs)\n",
    "log_likelihood = complete_likelihood_old + latent_entropy\n",
    "print(log_likelihood)"
   ]
  },
  {
   "cell_type": "code",
   "execution_count": 41,
   "metadata": {},
   "outputs": [
    {
     "data": {
      "image/png": "[encoded data removed]",
      "text/plain": [
       "<Figure size 432x288 with 1 Axes>"
      ]
     },
     "metadata": {},
     "output_type": "display_data"
    }
   ],
   "source": [
    "plt.plot([j for i in log_likelihoods_new for j in i], marker='.')\n",
    "plt.show()"
   ]
  },
  {
   "cell_type": "code",
   "execution_count": 42,
   "metadata": {},
   "outputs": [
    {
     "data": {
      "image/png": "[encoded data removed]",
      "text/plain": [
       "<Figure size 432x288 with 1 Axes>"
      ]
     },
     "metadata": {},
     "output_type": "display_data"
    }
   ],
   "source": [
    "plt.plot([i for i in log_likelihoods_old], marker='.')\n",
    "plt.show()"
   ]
  },
  {
   "cell_type": "code",
   "execution_count": null,
   "metadata": {},
   "outputs": [],
   "source": []
  },
  {
   "cell_type": "markdown",
   "metadata": {},
   "source": [
    "## Check Contour"
   ]
  },
  {
   "cell_type": "code",
   "execution_count": 43,
   "metadata": {},
   "outputs": [],
   "source": [
    "from sklearn.decomposition import PCA\n",
    "from mpl_toolkits.mplot3d import Axes3D\n",
    "import matplotlib.pyplot as plt"
   ]
  },
  {
   "cell_type": "code",
   "execution_count": 44,
   "metadata": {},
   "outputs": [
    {
     "data": {
      "text/plain": [
       "PCA(copy=True, iterated_power='auto', n_components=2, random_state=None,\n",
       "  svd_solver='auto', tol=0.0, whiten=False)"
      ]
     },
     "execution_count": 44,
     "metadata": {},
     "output_type": "execute_result"
    }
   ],
   "source": [
    "L = len(para_old_traj) - 1\n",
    "\n",
    "point = np.zeros((L, 8))\n",
    "for i in range(L):\n",
    "    point[i]  = para_old_traj[i + 1]\n",
    "\n",
    "pca = PCA(n_components = 2)\n",
    "pca.fit(point)"
   ]
  },
  {
   "cell_type": "code",
   "execution_count": 45,
   "metadata": {},
   "outputs": [
    {
     "name": "stdout",
     "output_type": "stream",
     "text": [
      "[[-0.00000000e+00  1.11983339e-01  4.42001671e-01 -0.00000000e+00\n",
      "  -1.02567719e-01 -0.00000000e+00 -7.68525246e-01  4.36970323e-01]\n",
      " [ 0.00000000e+00  3.82578114e-02 -8.15520258e-01 -2.77555756e-17\n",
      "   3.79122039e-02  0.00000000e+00 -1.52583452e-01  5.55647374e-01]]\n"
     ]
    },
    {
     "data": {
      "text/plain": [
       "array([[-0.        ,  0.11198334,  0.44200167, -0.        , -0.10256772,\n",
       "        -0.        , -0.76852525,  0.43697032],\n",
       "       [ 0.        ,  0.03825781, -0.81552026, -0.        ,  0.0379122 ,\n",
       "         0.        , -0.15258345,  0.55564737]])"
      ]
     },
     "execution_count": 45,
     "metadata": {},
     "output_type": "execute_result"
    }
   ],
   "source": [
    "projectionMat = pca.components_\n",
    "print(projectionMat)\n",
    "projectionMat = np.multiply(projectionMat, (np.abs(projectionMat) > 10** -10).astype(int))\n",
    "projectionMat"
   ]
  },
  {
   "cell_type": "code",
   "execution_count": null,
   "metadata": {},
   "outputs": [],
   "source": []
  },
  {
   "cell_type": "code",
   "execution_count": null,
   "metadata": {},
   "outputs": [],
   "source": []
  },
  {
   "cell_type": "code",
   "execution_count": null,
   "metadata": {},
   "outputs": [],
   "source": [
    "step1 = 0.01    # for u (1st principle component)\n",
    "step2 = 0.01   # for v (2nd principle component)\n",
    "N1 = 50\n",
    "N2 = 50\n",
    "uOffset = - step1 * N1 / 2 \n",
    "vOffset = - step2 * N2 / 2\n",
    "\n",
    "uValue = np.zeros(N1)\n",
    "vValue = np.zeros(N2)\n",
    "Qaux1 = np.zeros((N2, N1))    # Likelihood with ground truth latent\n",
    "Qaux2 = np.zeros((N2, N1))    # Expected complete data likelihood\n",
    "Qaux3 = np.zeros((N2, N1))    # Entropy of latent posterior\n",
    "para_slice = []\n",
    "\n",
    "for i in range(N1):\n",
    "    uValue[i] = step1 * (i) + uOffset\n",
    "    for j in range(N2):\n",
    "        vValue[j] = step2 * (j) + vOffset\n",
    "\n",
    "        #para_slicePoints = [0, uValue[i], 0.05, 1, 0.3, 3, vValue[j], 0.6]\n",
    "        para_slicePoints = point[-1] + uValue[i] * projectionMat[0] + vValue[j] * projectionMat[1]\n",
    "        #print(para_slicePoints)\n",
    "        para_slice.append(para_slicePoints)\n",
    "        para = np.copy(para_slicePoints)\n",
    "        \n",
    "        ####### Compute value for contour\n",
    "        oneCol = oneboxColMDP(discount, nq, nr, na, para)\n",
    "        oneCol.setupMDP()\n",
    "        oneCol.solveMDP_sfm()\n",
    "        #print(oneCol.Vsfm)\n",
    "        ThA = oneCol.ThA\n",
    "        policy = oneCol.softpolicy\n",
    "        pi = np.ones(nq)/ nq  # initialize the estimation of the belief state\n",
    "        TBo = oneCol.Trans_hybrid_obs\n",
    "        OE_TS = oneCol.Obs_emis_trans\n",
    "        oneColHMM = HMMoneboxCol(ThA, policy, TBo, OE_TS, pi, 3)\n",
    "        \n",
    "        #Qaux1[j, i] = twoboxHMM.likelihood(lat, obs, ThA, policy)  #given latent state\n",
    "        Qaux2[j, i] = oneColHMM.computeQaux(obs, ThA, policy, TBo) \n",
    "        Qaux3[j, i] = oneColHMM.latent_entr(obs) "
   ]
  },
  {
   "cell_type": "code",
   "execution_count": null,
   "metadata": {},
   "outputs": [],
   "source": [
    "Loglikelihood = Qaux2 + Qaux3"
   ]
  },
  {
   "cell_type": "code",
   "execution_count": null,
   "metadata": {},
   "outputs": [],
   "source": [
    "from matplotlib import cm"
   ]
  },
  {
   "cell_type": "code",
   "execution_count": null,
   "metadata": {},
   "outputs": [],
   "source": [
    "# project the trajectories onto the plane\n",
    "point_2d = projectionMat.dot((point - point[-1]).T).T   \n",
    "\n",
    "# true parameters projected onto the plane\n",
    "true_2d = projectionMat.dot(parameters - point[-1])\n",
    "\n",
    "fig_contour, ax = plt.subplots(figsize = (8,8))\n",
    "uValuemesh, vValuemesh = np.meshgrid(uValue, vValue)\n",
    "cs3 = plt.contour(uValuemesh, vValuemesh, Loglikelihood, \n",
    "                  np.arange(np.min(Loglikelihood), np.max(Loglikelihood), 5), cmap = cm.jet)\n",
    "#cs3 = plt.contour(uValuemesh, vValuemesh, Likelihood, \n",
    "#                  np.arange(-13000, -3000, 50))\n",
    "#plt.xticks(np.arange(0, 1, 0.1))\n",
    "#plt.yticks(np.arange(0, 1, 0.1))\n",
    "plt.plot(point_2d[:, 0], point_2d[:, 1], marker='.', color = 'b')   # projected trajectories\n",
    "plt.plot(0, 0, marker='*', color = 'b')                             # final point\n",
    "plt.plot(true_2d[0], true_2d[1], marker='o', color = 'r')           # true\n",
    "\n",
    "\n",
    "ax.grid()\n",
    "ax.set_title('Loglikelihood of observed data', fontsize = 20)\n",
    "# plt.xlabel(r'$u \\mathbf{\\theta}$', fontsize = 10)\n",
    "# plt.ylabel(r'$v \\mathbf{\\theta}$', fontsize = 10)\n",
    "plt.xlabel(r'v$\\theta$', fontsize=14)\n",
    "plt.ylabel(r'u$\\theta$',fontsize=14)\n",
    "plt.clabel(cs3, inline=1, fontsize=15)\n",
    "plt.colorbar()\n",
    "plt.show()"
   ]
  },
  {
   "cell_type": "code",
   "execution_count": 100,
   "metadata": {},
   "outputs": [
    {
     "data": {
      "text/plain": [
       "array([[2.49194120e-07, 6.07982201e-06, 6.16561249e-05, 3.03119966e-04,\n",
       "        8.46432240e-04, 1.44822702e-03, 1.54686098e-03, 1.06027695e-03,\n",
       "        4.87814720e-04, 1.52394916e-04],\n",
       "       [1.02579411e-06, 3.69385636e-05, 4.89323866e-04, 2.78186146e-03,\n",
       "        8.14342061e-03, 1.36386030e-02, 1.36885426e-02, 8.64412837e-03,\n",
       "        3.60878917e-03, 9.75704849e-04],\n",
       "       [1.89363531e-06, 1.04983394e-04, 1.97641140e-03, 1.41443384e-02,\n",
       "        4.64115066e-02, 7.91658081e-02, 7.63927736e-02, 4.51237612e-02,\n",
       "        1.67717688e-02, 3.90616130e-03],\n",
       "       [1.71224048e-06, 1.44927031e-04, 4.11058427e-03, 4.02278645e-02,\n",
       "        1.58899791e-01, 2.90232014e-01, 2.77857230e-01, 1.53603301e-01,\n",
       "        5.02857628e-02, 1.00628753e-02],\n",
       "       [8.69801028e-07, 1.04977991e-04, 4.52158116e-03, 6.42311059e-02,\n",
       "        3.25591946e-01, 6.72396818e-01, 6.63128127e-01, 3.41344743e-01,\n",
       "        9.79865147e-02, 1.67382967e-02],\n",
       "       [2.96086545e-07, 4.47109708e-05, 2.76196795e-03, 5.73218618e-02,\n",
       "        3.88593123e-01, 9.60644590e-01, 1.00000000e+00, 4.83492336e-01,\n",
       "        1.21760880e-01, 1.75875291e-02],\n",
       "       [8.18260361e-08, 1.28935218e-05, 1.01021924e-03, 2.86651163e-02,\n",
       "        2.58938839e-01, 7.93594886e-01, 8.92281808e-01, 4.15657436e-01,\n",
       "        9.30072609e-02, 1.13201260e-02],\n",
       "       [2.18796339e-08, 2.92485790e-06, 2.41795404e-04, 8.20616643e-03,\n",
       "        9.37136053e-02, 3.48801130e-01, 4.34848150e-01, 2.04163302e-01,\n",
       "        4.20804061e-02, 4.38765727e-03],\n",
       "       [6.44681106e-09, 6.00857835e-07, 4.19560746e-05, 1.41849314e-03,\n",
       "        1.81495303e-02, 7.71228849e-02, 1.08439608e-01, 5.45605182e-02,\n",
       "        1.10590910e-02, 1.03886107e-03],\n",
       "       [2.23083619e-09, 1.22467737e-07, 5.84188125e-06, 1.62960967e-04,\n",
       "        1.95599690e-03, 8.62157575e-03, 1.36138677e-02, 7.80272754e-03,\n",
       "        1.69758733e-03, 1.56683522e-04]])"
      ]
     },
     "execution_count": 100,
     "metadata": {},
     "output_type": "execute_result"
    }
   ],
   "source": [
    "NorLikelihood = np.exp(Loglikelihood - np.max(Loglikelihood))\n",
    "NorLikelihood[20:30, 20:30]"
   ]
  },
  {
   "cell_type": "code",
   "execution_count": 104,
   "metadata": {},
   "outputs": [
    {
     "data": {
      "image/png": "[encoded data removed]",
      "text/plain": [
       "<Figure size 576x576 with 2 Axes>"
      ]
     },
     "metadata": {},
     "output_type": "display_data"
    }
   ],
   "source": [
    "NorLikelihood = np.exp(Loglikelihood - np.max(Loglikelihood)) \n",
    "fig_contour, ax = plt.subplots(figsize = (8,8))\n",
    "uValuemesh, vValuemesh = np.meshgrid(uValue, vValue)\n",
    "cs3 = plt.contour(uValuemesh, vValuemesh, NorLikelihood, \n",
    "                  np.arange(np.min(NorLikelihood), np.max(NorLikelihood), 0.1))\n",
    "plt.plot(point_2d[:, 0], point_2d[:, 1], marker='.', color = 'b')   # projected trajectories\n",
    "plt.plot(0, 0, marker='*', color = 'b')                             # final point\n",
    "plt.plot(true_2d[0], true_2d[1], marker='o', color = 'r')           # true\n",
    "\n",
    "\n",
    "ax.grid()\n",
    "ax.set_title('Likelihood of observed data')\n",
    "# plt.xlabel(r'$u \\mathbf{\\theta}$', fontsize = 10)\n",
    "# plt.ylabel(r'$v \\mathbf{\\theta}$', fontsize = 10)\n",
    "plt.xlabel(r'v$\\theta$', fontsize=14)\n",
    "plt.ylabel(r'u$\\theta$',fontsize=14)\n",
    "plt.clabel(cs3, inline=1, fontsize=15)\n",
    "plt.colorbar()\n",
    "plt.show()"
   ]
  },
  {
   "cell_type": "code",
   "execution_count": null,
   "metadata": {},
   "outputs": [],
   "source": []
  },
  {
   "cell_type": "markdown",
   "metadata": {},
   "source": [
    "# Check posterior with estimated parameters"
   ]
  },
  {
   "cell_type": "code",
   "execution_count": 60,
   "metadata": {},
   "outputs": [],
   "source": [
    "para_test =  parameters_new "
   ]
  },
  {
   "cell_type": "code",
   "execution_count": 197,
   "metadata": {},
   "outputs": [
    {
     "data": {
      "image/png": "[encoded data removed]",
      "text/plain": [
       "<Figure size 1080x1080 with 1 Axes>"
      ]
     },
     "metadata": {},
     "output_type": "display_data"
    }
   ],
   "source": [
    "onebox_test = oneboxColMDPder(discount, nq, nr, na, para_test)\n",
    "ThA_test = onebox_test.ThA\n",
    "softpolicy_test = onebox_test.softpolicy\n",
    "TBo_test = onebox_test.Trans_hybrid_obs\n",
    "OE_TS_test = onebox_test.Obs_emis_trans\n",
    "pi = np.ones(nq) / nq \n",
    "oneHMM_test = HMMoneboxCol(ThA_test, softpolicy_test, TBo_test, OE_TS_test, pi, 3)\n",
    "\n",
    "alpha_test, scale_test = oneHMM_test.forward_scale(obs)\n",
    "beta_test = oneHMM_test.backward_scale(obs, scale_test)\n",
    "gamma_test = oneHMM_test.compute_gamma(alpha_test, beta_test)\n",
    "xi_test = oneHMM_test.compute_xi(alpha_test, beta_test, obs)\n",
    "#realxi_test = oneHMM_test.realxi(lat, obs)\n",
    "showT = 40\n",
    "fig, ax = plt.subplots(figsize= (15, 15))\n",
    "plt.imshow(np.flipud(gamma_test[:, 100:showT+100]), interpolation='Nearest', cmap='gray')\n",
    "plt.plot(nq - 1 - lat[100:showT+100], color = 'r',marker ='.', markersize = 15)\n",
    "plt.xticks(np.arange(0, showT, 10))\n",
    "plt.xlabel('time', fontsize = 16)\n",
    "plt.ylabel('belief state', fontsize = 16)\n",
    "\n",
    "plt.show()"
   ]
  },
  {
   "cell_type": "code",
   "execution_count": 62,
   "metadata": {},
   "outputs": [],
   "source": [
    "posterior_ave = np.zeros((nq, nq))\n",
    "for i in range(nq):\n",
    "    ind = np.where(lat == i)[0]\n",
    "    posterior_ave[:, i] = np.sum(gamma_test[:, ind], axis = 1)/np.size(ind)"
   ]
  },
  {
   "cell_type": "code",
   "execution_count": 185,
   "metadata": {},
   "outputs": [
    {
     "data": {
      "image/png": "[encoded data removed]",
      "text/plain": [
       "<Figure size 432x288 with 1 Axes>"
      ]
     },
     "metadata": {},
     "output_type": "display_data"
    }
   ],
   "source": [
    "plt.imshow(posterior_ave, origin='lower')\n",
    "plt.xlabel('true belief', fontsize = 15)\n",
    "plt.ylabel('average distribution of belief posterior', fontsize = 15)\n",
    "plt.show()"
   ]
  },
  {
   "cell_type": "code",
   "execution_count": null,
   "metadata": {},
   "outputs": [],
   "source": []
  },
  {
   "cell_type": "markdown",
   "metadata": {},
   "source": [
    "# Check Hessian"
   ]
  },
  {
   "cell_type": "code",
   "execution_count": 176,
   "metadata": {},
   "outputs": [],
   "source": [
    "from numpy import linalg as LA"
   ]
  },
  {
   "cell_type": "code",
   "execution_count": 152,
   "metadata": {},
   "outputs": [
    {
     "data": {
      "text/plain": [
       "[0, 0.3, 0.1, 1, 0.6, 4, 0.3, 0.7]"
      ]
     },
     "execution_count": 152,
     "metadata": {},
     "output_type": "execute_result"
    }
   ],
   "source": [
    "parameters"
   ]
  },
  {
   "cell_type": "code",
   "execution_count": 181,
   "metadata": {},
   "outputs": [
    {
     "data": {
      "text/plain": [
       "array([0.        , 0.39763288, 0.09625456, 1.        , 0.62414039,\n",
       "       4.        , 0.25684955, 0.54768758])"
      ]
     },
     "execution_count": 181,
     "metadata": {},
     "output_type": "execute_result"
    }
   ],
   "source": [
    "point[-1]"
   ]
  },
  {
   "cell_type": "code",
   "execution_count": 155,
   "metadata": {},
   "outputs": [],
   "source": [
    "perturb = 10 ** -6"
   ]
  },
  {
   "cell_type": "code",
   "execution_count": 198,
   "metadata": {},
   "outputs": [],
   "source": [
    "paraHessian = np.copy(point[-1])\n",
    "#paraHessian = np.copy(parameters)"
   ]
  },
  {
   "cell_type": "code",
   "execution_count": 199,
   "metadata": {},
   "outputs": [],
   "source": [
    "hes = np.zeros((5, 8))\n",
    "\n",
    "oneboxCold = oneboxColMDPder(discount, nq, nr, na, paraHessian)\n",
    "oneboxCold1st = np.array(oneboxCold.dQauxdpara_sim(obs, paraHessian))\n",
    "\n",
    "index = [1,2,4,6,7]\n",
    "for i in range(5):\n",
    "    para_perb = np.copy(paraHessian)\n",
    "    para_perb[index[i]] += perturb\n",
    "    oneboxCold_perb = oneboxColMDPder(discount, nq, nr, na, para_perb)\n",
    "        \n",
    "    oneboxCold1st_pert = np.array(oneboxCold_perb.dQauxdpara_sim(obs, para_perb))\n",
    "    \n",
    "    hes[i, :] = (oneboxCold1st_pert - oneboxCold1st) / perturb"
   ]
  },
  {
   "cell_type": "code",
   "execution_count": 200,
   "metadata": {},
   "outputs": [
    {
     "data": {
      "text/plain": [
       "array([[-14137.18564436,   2683.46411758,   7991.04782345,\n",
       "         -3940.84054278,  -5243.4643294 ],\n",
       "       [  2598.42636297,  -3107.97076963,  -1426.08769238,\n",
       "          1207.58159028,   1521.58463607],\n",
       "       [  7989.91095508,  -1414.94638228,  -6663.86767989,\n",
       "          2680.28088612,   2899.69648293],\n",
       "       [ -4284.40216638,   1653.23399415,   2648.67594524,\n",
       "        -11910.74261442,   -295.58577808],\n",
       "       [ -5538.36798645,   1499.75676322,   2891.73840429,\n",
       "          -423.59715735,  -9781.61551757]])"
      ]
     },
     "execution_count": 200,
     "metadata": {},
     "output_type": "execute_result"
    }
   ],
   "source": [
    "hes_para = hes[:, [1,2,4,6,7]]\n",
    "hes_para"
   ]
  },
  {
   "cell_type": "code",
   "execution_count": 201,
   "metadata": {},
   "outputs": [],
   "source": [
    "w, v = LA.eig(hes_para)"
   ]
  },
  {
   "cell_type": "code",
   "execution_count": 202,
   "metadata": {},
   "outputs": [
    {
     "data": {
      "text/plain": [
       "array([-24582.27303277, -10899.16122386,  -6088.87173897,  -1518.08412238,\n",
       "        -2512.9921079 ])"
      ]
     },
     "execution_count": 202,
     "metadata": {},
     "output_type": "execute_result"
    }
   ],
   "source": [
    "w"
   ]
  },
  {
   "cell_type": "code",
   "execution_count": 203,
   "metadata": {},
   "outputs": [
    {
     "data": {
      "text/plain": [
       "array([0.00637807, 0.00957863, 0.01281538, 0.02566564, 0.01994823])"
      ]
     },
     "execution_count": 203,
     "metadata": {},
     "output_type": "execute_result"
    }
   ],
   "source": [
    "np.sqrt(-1.0 / w)"
   ]
  },
  {
   "cell_type": "code",
   "execution_count": 204,
   "metadata": {},
   "outputs": [
    {
     "data": {
      "text/plain": [
       "array([0.01608961, 0.01987682, 0.02163809, 0.00985975, 0.01157307])"
      ]
     },
     "execution_count": 204,
     "metadata": {},
     "output_type": "execute_result"
    }
   ],
   "source": [
    "np.sqrt(np.diagonal(-np.linalg.inv(hes_para)))"
   ]
  },
  {
   "cell_type": "code",
   "execution_count": null,
   "metadata": {},
   "outputs": [],
   "source": []
  },
  {
   "cell_type": "code",
   "execution_count": 206,
   "metadata": {},
   "outputs": [],
   "source": [
    "paraHessian = np.copy(parameters)"
   ]
  },
  {
   "cell_type": "code",
   "execution_count": 207,
   "metadata": {},
   "outputs": [],
   "source": [
    "hes = np.zeros((5, 8))\n",
    "\n",
    "oneboxCold = oneboxColMDPder(discount, nq, nr, na, paraHessian)\n",
    "oneboxCold1st = np.array(oneboxCold.dQauxdpara_sim(obs, paraHessian))\n",
    "\n",
    "index = [1,2,4,6,7]\n",
    "for i in range(5):\n",
    "    para_perb = np.copy(paraHessian)\n",
    "    para_perb[index[i]] += perturb\n",
    "    oneboxCold_perb = oneboxColMDPder(discount, nq, nr, na, para_perb)\n",
    "        \n",
    "    oneboxCold1st_pert = np.array(oneboxCold_perb.dQauxdpara_sim(obs, para_perb))\n",
    "    \n",
    "    hes[i, :] = (oneboxCold1st_pert - oneboxCold1st) / perturb"
   ]
  },
  {
   "cell_type": "code",
   "execution_count": 208,
   "metadata": {},
   "outputs": [
    {
     "data": {
      "text/plain": [
       "array([[-7481.73079046,  1549.32422447,  5634.31967748, -2545.67567026,\n",
       "         -540.23985285],\n",
       "       [ 1541.59351951, -1566.6046238 , -1152.32978715,    56.38867151,\n",
       "          146.20127331],\n",
       "       [ 5617.72139918, -1151.19291877, -5168.65839018,  1798.98052011,\n",
       "         4392.40466221],\n",
       "       [-3030.89109366,   332.4203135 ,  1772.83254743, -7466.04200685,\n",
       "        -1834.90556083],\n",
       "       [-1117.99636215,   273.98527891,  4370.34941569, -1806.02910405,\n",
       "        -1263.97026179]])"
      ]
     },
     "execution_count": 208,
     "metadata": {},
     "output_type": "execute_result"
    }
   ],
   "source": [
    "hes_para = hes[:, [1,2,4,6,7]]\n",
    "hes_para"
   ]
  },
  {
   "cell_type": "code",
   "execution_count": 209,
   "metadata": {},
   "outputs": [],
   "source": [
    "w, v = LA.eig(hes_para)"
   ]
  },
  {
   "cell_type": "code",
   "execution_count": 210,
   "metadata": {},
   "outputs": [
    {
     "data": {
      "text/plain": [
       "array([-15132.60929391,   2456.03003256,  -5879.80830804,  -3228.77983085,\n",
       "        -1161.83867284])"
      ]
     },
     "execution_count": 210,
     "metadata": {},
     "output_type": "execute_result"
    }
   ],
   "source": [
    "w"
   ]
  },
  {
   "cell_type": "code",
   "execution_count": 211,
   "metadata": {},
   "outputs": [
    {
     "name": "stderr",
     "output_type": "stream",
     "text": [
      "/Applications/anaconda3/lib/python3.6/site-packages/ipykernel_launcher.py:1: RuntimeWarning: invalid value encountered in sqrt\n",
      "  \"\"\"Entry point for launching an IPython kernel.\n"
     ]
    },
    {
     "data": {
      "text/plain": [
       "array([0.00812911,        nan, 0.01304123, 0.01759871, 0.02933777])"
      ]
     },
     "execution_count": 211,
     "metadata": {},
     "output_type": "execute_result"
    }
   ],
   "source": [
    "np.sqrt(-1.0 / w)"
   ]
  }
 ],
 "metadata": {
  "kernelspec": {
   "display_name": "Python 3",
   "language": "python",
   "name": "python3"
  },
  "language_info": {
   "codemirror_mode": {
    "name": "ipython",
    "version": 3
   },
   "file_extension": ".py",
   "mimetype": "text/x-python",
   "name": "python",
   "nbconvert_exporter": "python",
   "pygments_lexer": "ipython3",
   "version": "3.6.5"
  }
 },
 "nbformat": 4,
 "nbformat_minor": 2
}
